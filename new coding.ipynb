{
 "cells": [
  {
   "cell_type": "markdown",
   "metadata": {},
   "source": [
    "# Crime prediction"
   ]
  },
  {
   "cell_type": "markdown",
   "metadata": {},
   "source": [
    "# Decision tree"
   ]
  },
  {
   "cell_type": "code",
   "execution_count": 1,
   "metadata": {},
   "outputs": [],
   "source": [
    "from sklearn.tree import DecisionTreeClassifier\n",
    "import matplotlib.pyplot as plt\n",
    "import pandas as pd\n",
    "import numpy as np\n",
    "df=pd.read_csv('communities-crime-clean.csv')\n",
    "df['highCrime'] = np.where(df['ViolentCrimesPerPop']>0.1, 1, 0)"
   ]
  },
  {
   "cell_type": "code",
   "execution_count": 2,
   "metadata": {},
   "outputs": [
    {
     "name": "stdout",
     "output_type": "stream",
     "text": [
      "positive instance percentage is  0.6271951831409934\n",
      "negative instance percentage is  0.37280481685900657\n"
     ]
    }
   ],
   "source": [
    "pos=df[(df['highCrime'] == 1)]\n",
    "pos_percentage=len(pos)/len(df)\n",
    "neg_percentage=1-pos_percentage\n",
    "print('positive instance percentage is ',pos_percentage)\n",
    "print('negative instance percentage is ',neg_percentage)"
   ]
  },
  {
   "cell_type": "code",
   "execution_count": 3,
   "metadata": {},
   "outputs": [
    {
     "ename": "InvocationException",
     "evalue": "GraphViz's executables not found",
     "output_type": "error",
     "traceback": [
      "\u001b[1;31m---------------------------------------------------------------------------\u001b[0m",
      "\u001b[1;31mInvocationException\u001b[0m                       Traceback (most recent call last)",
      "\u001b[1;32m<ipython-input-3-324b52ccd3d4>\u001b[0m in \u001b[0;36m<module>\u001b[1;34m\u001b[0m\n\u001b[0;32m     24\u001b[0m                          special_characters=True)  \n\u001b[0;32m     25\u001b[0m \u001b[0mgraph\u001b[0m \u001b[1;33m=\u001b[0m \u001b[0mpydotplus\u001b[0m\u001b[1;33m.\u001b[0m\u001b[0mgraph_from_dot_data\u001b[0m\u001b[1;33m(\u001b[0m\u001b[0mdot_data\u001b[0m\u001b[1;33m)\u001b[0m\u001b[1;33m\u001b[0m\u001b[1;33m\u001b[0m\u001b[0m\n\u001b[1;32m---> 26\u001b[1;33m \u001b[0mImage\u001b[0m\u001b[1;33m(\u001b[0m\u001b[0mgraph\u001b[0m\u001b[1;33m.\u001b[0m\u001b[0mcreate_png\u001b[0m\u001b[1;33m(\u001b[0m\u001b[1;33m)\u001b[0m\u001b[1;33m)\u001b[0m\u001b[1;33m\u001b[0m\u001b[1;33m\u001b[0m\u001b[0m\n\u001b[0m",
      "\u001b[1;32m~\\Anaconda3\\lib\\site-packages\\pydotplus\\graphviz.py\u001b[0m in \u001b[0;36m<lambda>\u001b[1;34m(f, prog)\u001b[0m\n\u001b[0;32m   1795\u001b[0m             self.__setattr__(\n\u001b[0;32m   1796\u001b[0m                 \u001b[1;34m'create_'\u001b[0m \u001b[1;33m+\u001b[0m \u001b[0mfrmt\u001b[0m\u001b[1;33m,\u001b[0m\u001b[1;33m\u001b[0m\u001b[1;33m\u001b[0m\u001b[0m\n\u001b[1;32m-> 1797\u001b[1;33m                 \u001b[1;32mlambda\u001b[0m \u001b[0mf\u001b[0m\u001b[1;33m=\u001b[0m\u001b[0mfrmt\u001b[0m\u001b[1;33m,\u001b[0m \u001b[0mprog\u001b[0m\u001b[1;33m=\u001b[0m\u001b[0mself\u001b[0m\u001b[1;33m.\u001b[0m\u001b[0mprog\u001b[0m\u001b[1;33m:\u001b[0m \u001b[0mself\u001b[0m\u001b[1;33m.\u001b[0m\u001b[0mcreate\u001b[0m\u001b[1;33m(\u001b[0m\u001b[0mformat\u001b[0m\u001b[1;33m=\u001b[0m\u001b[0mf\u001b[0m\u001b[1;33m,\u001b[0m \u001b[0mprog\u001b[0m\u001b[1;33m=\u001b[0m\u001b[0mprog\u001b[0m\u001b[1;33m)\u001b[0m\u001b[1;33m\u001b[0m\u001b[1;33m\u001b[0m\u001b[0m\n\u001b[0m\u001b[0;32m   1798\u001b[0m             )\n\u001b[0;32m   1799\u001b[0m             \u001b[0mf\u001b[0m \u001b[1;33m=\u001b[0m \u001b[0mself\u001b[0m\u001b[1;33m.\u001b[0m\u001b[0m__dict__\u001b[0m\u001b[1;33m[\u001b[0m\u001b[1;34m'create_'\u001b[0m \u001b[1;33m+\u001b[0m \u001b[0mfrmt\u001b[0m\u001b[1;33m]\u001b[0m\u001b[1;33m\u001b[0m\u001b[1;33m\u001b[0m\u001b[0m\n",
      "\u001b[1;32m~\\Anaconda3\\lib\\site-packages\\pydotplus\\graphviz.py\u001b[0m in \u001b[0;36mcreate\u001b[1;34m(self, prog, format)\u001b[0m\n\u001b[0;32m   1958\u001b[0m             \u001b[1;32mif\u001b[0m \u001b[0mself\u001b[0m\u001b[1;33m.\u001b[0m\u001b[0mprogs\u001b[0m \u001b[1;32mis\u001b[0m \u001b[1;32mNone\u001b[0m\u001b[1;33m:\u001b[0m\u001b[1;33m\u001b[0m\u001b[1;33m\u001b[0m\u001b[0m\n\u001b[0;32m   1959\u001b[0m                 raise InvocationException(\n\u001b[1;32m-> 1960\u001b[1;33m                     'GraphViz\\'s executables not found')\n\u001b[0m\u001b[0;32m   1961\u001b[0m \u001b[1;33m\u001b[0m\u001b[0m\n\u001b[0;32m   1962\u001b[0m         \u001b[1;32mif\u001b[0m \u001b[0mprog\u001b[0m \u001b[1;32mnot\u001b[0m \u001b[1;32min\u001b[0m \u001b[0mself\u001b[0m\u001b[1;33m.\u001b[0m\u001b[0mprogs\u001b[0m\u001b[1;33m:\u001b[0m\u001b[1;33m\u001b[0m\u001b[1;33m\u001b[0m\u001b[0m\n",
      "\u001b[1;31mInvocationException\u001b[0m: GraphViz's executables not found"
     ]
    }
   ],
   "source": [
    "from sklearn.model_selection import cross_val_score\n",
    "from sklearn import tree\n",
    "initial=pd.read_csv('communities-crime-clean.csv')\n",
    "initial = initial.drop('communityname', 1)\n",
    "initial = initial.drop('ViolentCrimesPerPop', 1)\n",
    "initial = initial.drop('fold', 1)\n",
    "\n",
    "initial = initial.drop('state', 1)\n",
    "Y = df['highCrime']\n",
    "clf = tree.DecisionTreeClassifier(max_depth=3)\n",
    "# clf = tree.DecisionTreeClassifier()\n",
    "clf = clf.fit(initial,Y)\n",
    "clf\n",
    "y_pred = clf.predict(initial)\n",
    "list(initial)\n",
    "feature_name=list(initial)\n",
    "import pydotplus \n",
    "from IPython.display import Image \n",
    "classname=['High','Low']\n",
    "dot_data = tree.export_graphviz(clf, out_file=None, \n",
    "                         feature_names=list(initial),  \n",
    "                         class_names=classname,  \n",
    "                         filled=True, rounded=True,  \n",
    "                         special_characters=True)  \n",
    "graph = pydotplus.graph_from_dot_data(dot_data)  \n",
    "Image(graph.create_png()) \n"
   ]
  },
  {
   "cell_type": "code",
   "execution_count": 4,
   "metadata": {},
   "outputs": [
    {
     "name": "stdout",
     "output_type": "stream",
     "text": [
      "cross_val_accuracy is  [0.79       0.875      0.83       0.84924623 0.65326633 0.75879397\n",
      " 0.84924623 0.7839196  0.79396985 0.79899497]\n",
      "cross_val_accuracy_avg is  0.7982437185929648\n",
      "cross_val_precision is  [0.78231293 0.85211268 0.84210526 0.88       0.75454545 0.88118812\n",
      " 0.85185185 0.94565217 0.79166667 0.85123967]\n",
      "cross_val_precision_avg is  0.8432674799594686\n",
      "cross_val_recall is  [0.92  0.968 0.896 0.88  0.664 0.712 0.92  0.696 0.912 0.824]\n",
      "cross_val_recall_avg is  0.8392\n"
     ]
    }
   ],
   "source": [
    "from sklearn.model_selection import cross_val_score\n",
    "fold=df['fold']\n",
    "scores = cross_val_score(clf, initial, Y,fold,'accuracy',10)\n",
    "print('cross_val_accuracy is ',scores) \n",
    "print('cross_val_accuracy_avg is ',np.array(scores).mean()) \n",
    "scores = cross_val_score(clf, initial, Y,fold,'precision',10)\n",
    "print('cross_val_precision is ',scores) \n",
    "print('cross_val_precision_avg is ',np.array(scores).mean()) \n",
    "scores = cross_val_score(clf, initial, Y,fold,'recall',10)\n",
    "print('cross_val_recall is ',scores) \n",
    "print('cross_val_recall_avg is ',np.array(scores).mean()) "
   ]
  },
  {
   "cell_type": "code",
   "execution_count": 5,
   "metadata": {},
   "outputs": [
    {
     "name": "stdout",
     "output_type": "stream",
     "text": [
      "Accuracy is 83.59257400903161\n",
      "Precesion is 90.02601908065915\n",
      "Recall is 83.04\n"
     ]
    }
   ],
   "source": [
    "from sklearn.metrics import accuracy_score\n",
    "print ('Accuracy is', accuracy_score(Y,y_pred)*100)\n",
    "from sklearn.metrics import precision_score\n",
    "print ('Precesion is', precision_score(Y,y_pred)*100)\n",
    "from sklearn.metrics import recall_score\n",
    "print ('Recall is', recall_score(Y,y_pred)*100)"
   ]
  },
  {
   "cell_type": "code",
   "execution_count": 6,
   "metadata": {},
   "outputs": [
    {
     "data": {
      "image/png": "[encoded data removed]",
      "text/plain": [
       "<Figure size 432x288 with 1 Axes>"
      ]
     },
     "metadata": {
      "needs_background": "light"
     },
     "output_type": "display_data"
    },
    {
     "name": "stdout",
     "output_type": "stream",
     "text": [
      " [0.7611130653266331, 0.7756934673366834, 0.7982437185929648, 0.7887361809045226, 0.7786884422110554, 0.7701633165829146, 0.7676532663316583, 0.7500628140703518, 0.7410452261306534, 0.7395628140703516, 0.7385452261306533, 0.7300075376884422, 0.7290150753768845, 0.7330100502512563, 0.7229924623115578]\n"
     ]
    }
   ],
   "source": [
    "y=[]\n",
    "x=[]\n",
    "for i in range (1,16):\n",
    "    clf = tree.DecisionTreeClassifier(max_depth=i)\n",
    "    clf = clf.fit(initial, Y)\n",
    "    y_pred = clf.predict(initial)\n",
    "    scores = cross_val_score(clf, initial, Y,None,'accuracy',cv=10)\n",
    "    y.append(np.array(scores).mean())\n",
    "    x.append(i)\n",
    "\n",
    "    \n",
    "plt.plot(x, y)\n",
    "\n",
    "plt.show()\n",
    "\n",
    "print('',y)"
   ]
  },
  {
   "cell_type": "markdown",
   "metadata": {},
   "source": [
    "According to the plot above, we can get the best number of max_depth feeding in DecisionTreeClassifier. With the increasing number of max_depth, the mean of cross_val_score_accuracy keeps growing up and then starts to decline on number 3.\n",
    "Therefore, max_depth =3 in DecisionTreeClassifier can get the best performance to analyze the dataset.\n",
    "We pick at most four biggest information gain in feature_importances array, which is used gini method to calculate and then get four features shown below."
   ]
  },
  {
   "cell_type": "code",
   "execution_count": 7,
   "metadata": {},
   "outputs": [
    {
     "name": "stdout",
     "output_type": "stream",
     "text": [
      "ind is  [29  3 44  5]\n",
      "4_max_normalized_feature is  [0.0201697  0.08646058 0.36195103 0.05053224]\n",
      "29\n",
      "feature_name[index] is  PctLess9thGrade\n",
      "3\n",
      "feature_name[index] is  racePctWhite\n",
      "44\n",
      "feature_name[index] is  PctKids2Par\n",
      "5\n",
      "feature_name[index] is  racePctHisp\n"
     ]
    }
   ],
   "source": [
    "feature_selection = clf.feature_importances_ \n",
    "   \n",
    "\n",
    "ind = np.argpartition(feature_selection, -4)[-4:]\n",
    "\n",
    "print('ind is ',ind)\n",
    "print('4_max_normalized_feature is ',feature_selection[ind])\n",
    "\n",
    "for x in range(0, len(ind)):\n",
    "    index=ind[x]\n",
    "    print(index)\n",
    "    print('feature_name[index] is ',feature_name[index])"
   ]
  },
  {
   "cell_type": "markdown",
   "metadata": {},
   "source": [
    "Because cross-validation requires that we train on a reduced size dataset and then test on data we did not train against the average accuracy, precision and recall scores drop compared with the full dataset train and test."
   ]
  },
  {
   "cell_type": "markdown",
   "metadata": {},
   "source": [
    "# NaiveBayes-Gaussian"
   ]
  },
  {
   "cell_type": "code",
   "execution_count": 8,
   "metadata": {},
   "outputs": [
    {
     "name": "stdout",
     "output_type": "stream",
     "text": [
      "mislabel num is  442\n",
      "ind is  [38 44 45 41 15 46 50  3 43 40]\n",
      "10_max_normalized_feature is  [0.61686366 0.80974842 0.66500857 0.67464461 0.66107643 0.64294945\n",
      " 0.70926105 0.73522995 0.74554481 0.69397809]\n",
      "38\n",
      "feature_name[index] is  MalePctDivorce\n",
      "44\n",
      "feature_name[index] is  PctKids2Par\n",
      "45\n",
      "feature_name[index] is  PctYoungKids2Par\n",
      "41\n",
      "feature_name[index] is  TotalPctDiv\n",
      "15\n",
      "feature_name[index] is  pctWInvInc\n",
      "46\n",
      "feature_name[index] is  PctTeen2Par\n",
      "50\n",
      "feature_name[index] is  PctIlleg\n",
      "3\n",
      "feature_name[index] is  racePctWhite\n",
      "43\n",
      "feature_name[index] is  PctFam2Par\n",
      "40\n",
      "feature_name[index] is  FemalePctDiv\n",
      "cross_val_accuracy is  [0.775      0.8        0.825      0.79899497 0.70351759 0.65326633\n",
      " 0.81407035 0.73366834 0.71356784 0.79899497]\n",
      "cross_val_accuracy_avg is  0.761608040201005\n",
      "cross_val_precision is  [0.86363636 0.92929293 0.95       0.92079208 0.94594595 0.86842105\n",
      " 0.92307692 1.         0.77868852 0.93814433]\n",
      "cross_val_precision_avg is  0.9117998148278733\n",
      "cross_val_recall is  [0.76  0.736 0.76  0.744 0.56  0.528 0.768 0.576 0.76  0.728]\n",
      "cross_val_recall_avg is  0.692\n"
     ]
    }
   ],
   "source": [
    "from sklearn.naive_bayes import GaussianNB\n",
    "gnb = GaussianNB()\n",
    "y_pred = gnb.fit(initial, Y).predict(initial)\n",
    "\n",
    "print(\"mislabel num is \",(Y != y_pred).sum())\n",
    "\n",
    "# print ('sigma is ',gnb.sigma_)\n",
    "variance=gnb.sigma_\n",
    "stand_deviation =np.sqrt( variance)\n",
    "# print('standard deviation is',stand_deviation);\n",
    "sum_standard=stand_deviation[0]+stand_deviation[1]\n",
    "# print('sum of standard deviation is',sum_standard);\n",
    "\n",
    "# print ('theta is ',gnb.theta_)\n",
    "mean=gnb.theta_\n",
    "difference=mean[0]-mean[1]\n",
    "# print('difference is ',abs(difference))\n",
    "normalized_feature=abs(difference)/sum_standard\n",
    "# print('normalized_feature is ',normalized_feature)\n",
    "\n",
    "\n",
    "ind = np.argpartition(normalized_feature, -10)[-10:]\n",
    "\n",
    "print('ind is ',ind)\n",
    "print('10_max_normalized_feature is ',normalized_feature[ind])\n",
    "\n",
    "for x in range(0, len(ind)):\n",
    "    index=ind[x]\n",
    "    print(index)\n",
    "    print('feature_name[index] is ',feature_name[index])\n",
    "\n",
    "\n",
    "\n",
    "\n",
    "\n",
    "from sklearn.model_selection import cross_val_score\n",
    "fold=df['fold']\n",
    "scores = cross_val_score(gnb, initial, Y,fold,'accuracy',10)\n",
    "print('cross_val_accuracy is ',scores) \n",
    "print('cross_val_accuracy_avg is ',np.array(scores).mean()) \n",
    "scores = cross_val_score(gnb, initial, Y,fold,'precision',10)\n",
    "print('cross_val_precision is ',scores) \n",
    "print('cross_val_precision_avg is ',np.array(scores).mean()) \n",
    "scores = cross_val_score(gnb, initial, Y,fold,'recall',10)\n",
    "print('cross_val_recall is ',scores) \n",
    "print('cross_val_recall_avg is ',np.array(scores).mean()) "
   ]
  },
  {
   "cell_type": "markdown",
   "metadata": {},
   "source": [
    "$\\dfrac{|μ_T-μ_F |}{(σ_T+σ_F )}$, the measure of choosing predictive feature, is derived by Correlation coefficient formula, $\\dfrac{Cov(X,Y)}{σ_Xσ_Y}$. According to the definition of Correlation coefficient, in order to standardlize the covariance which is really sensetive, we need to divide variance to get the indicator of Correlation coefficient between X and Y. Therefore, $\\dfrac{|μ_T-μ_F |}{(σ_T+σ_F )}$,the absolute correlation coefficient , can estimate the strength of the relationship between the attribute and T/F label. If the number is larger, the relationship is stronger. So it can be the criteria to find out predictive feature."
   ]
  },
  {
   "cell_type": "markdown",
   "metadata": {},
   "source": [
    "Naive Bayes on average has worse accuracy and recall than Decision Tree on the dataset.  This is likely due to correlations between features in the dataset that by definition the Naive Bayes classifier assumes are conditionally independent. Interestingly, both find PctKids2Par to be the most predictive feature."
   ]
  },
  {
   "cell_type": "markdown",
   "metadata": {},
   "source": [
    "# LinearSVC"
   ]
  },
  {
   "cell_type": "code",
   "execution_count": 9,
   "metadata": {},
   "outputs": [
    {
     "name": "stderr",
     "output_type": "stream",
     "text": [
      "C:\\Users\\Azaz Alam\\Anaconda3\\lib\\site-packages\\sklearn\\svm\\base.py:931: ConvergenceWarning: Liblinear failed to converge, increase the number of iterations.\n",
      "  \"the number of iterations.\", ConvergenceWarning)\n",
      "C:\\Users\\Azaz Alam\\Anaconda3\\lib\\site-packages\\sklearn\\svm\\base.py:931: ConvergenceWarning: Liblinear failed to converge, increase the number of iterations.\n",
      "  \"the number of iterations.\", ConvergenceWarning)\n",
      "C:\\Users\\Azaz Alam\\Anaconda3\\lib\\site-packages\\sklearn\\svm\\base.py:931: ConvergenceWarning: Liblinear failed to converge, increase the number of iterations.\n",
      "  \"the number of iterations.\", ConvergenceWarning)\n",
      "C:\\Users\\Azaz Alam\\Anaconda3\\lib\\site-packages\\sklearn\\svm\\base.py:931: ConvergenceWarning: Liblinear failed to converge, increase the number of iterations.\n",
      "  \"the number of iterations.\", ConvergenceWarning)\n"
     ]
    },
    {
     "name": "stdout",
     "output_type": "stream",
     "text": [
      " [0.         0.         0.18746139 0.48600624 0.         0.30550179\n",
      " 0.         0.         0.         0.         0.         0.08630163\n",
      " 0.         0.         0.         0.         0.         0.\n",
      " 0.         0.         0.         0.         0.         0.\n",
      " 0.         0.         0.         0.         0.         0.\n",
      " 0.         0.         0.         0.         0.         0.\n",
      " 0.         0.         0.         0.         0.14240212 1.42643628\n",
      " 0.         0.         0.63549143 0.         0.         0.\n",
      " 0.         0.         0.38932148 0.         0.         0.\n",
      " 0.         0.         0.         0.         0.         0.\n",
      " 0.         0.         0.         0.         0.         0.\n",
      " 0.         0.         0.27686804 0.         0.         0.\n",
      " 0.         0.         0.         0.         0.         0.\n",
      " 0.         0.         0.         0.         0.         0.\n",
      " 0.         0.         0.         0.         0.         0.\n",
      " 0.         0.         0.         0.         0.         0.\n",
      " 0.         0.         0.         0.        ]\n",
      "select_feature_is  racepctblack  feature_weight is  0.18746138797082393\n",
      "select_feature_is  racePctWhite  feature_weight is  0.4860062373652784\n",
      "select_feature_is  racePctHisp  feature_weight is  0.30550178901160285\n",
      "select_feature_is  pctUrban  feature_weight is  0.0863016345909742\n",
      "select_feature_is  FemalePctDiv  feature_weight is  0.14240212067956085\n",
      "select_feature_is  TotalPctDiv  feature_weight is  1.4264362831956074\n",
      "select_feature_is  PctKids2Par  feature_weight is  0.6354914340922745\n",
      "select_feature_is  PctIlleg  feature_weight is  0.38932148172780073\n",
      "select_feature_is  PctPersDenseHous  feature_weight is  0.27686804138482063\n"
     ]
    },
    {
     "name": "stderr",
     "output_type": "stream",
     "text": [
      "C:\\Users\\Azaz Alam\\Anaconda3\\lib\\site-packages\\sklearn\\svm\\base.py:931: ConvergenceWarning: Liblinear failed to converge, increase the number of iterations.\n",
      "  \"the number of iterations.\", ConvergenceWarning)\n",
      "C:\\Users\\Azaz Alam\\Anaconda3\\lib\\site-packages\\sklearn\\svm\\base.py:931: ConvergenceWarning: Liblinear failed to converge, increase the number of iterations.\n",
      "  \"the number of iterations.\", ConvergenceWarning)\n",
      "C:\\Users\\Azaz Alam\\Anaconda3\\lib\\site-packages\\sklearn\\svm\\base.py:931: ConvergenceWarning: Liblinear failed to converge, increase the number of iterations.\n",
      "  \"the number of iterations.\", ConvergenceWarning)\n",
      "C:\\Users\\Azaz Alam\\Anaconda3\\lib\\site-packages\\sklearn\\svm\\base.py:931: ConvergenceWarning: Liblinear failed to converge, increase the number of iterations.\n",
      "  \"the number of iterations.\", ConvergenceWarning)\n",
      "C:\\Users\\Azaz Alam\\Anaconda3\\lib\\site-packages\\sklearn\\svm\\base.py:931: ConvergenceWarning: Liblinear failed to converge, increase the number of iterations.\n",
      "  \"the number of iterations.\", ConvergenceWarning)\n",
      "C:\\Users\\Azaz Alam\\Anaconda3\\lib\\site-packages\\sklearn\\svm\\base.py:931: ConvergenceWarning: Liblinear failed to converge, increase the number of iterations.\n",
      "  \"the number of iterations.\", ConvergenceWarning)\n",
      "C:\\Users\\Azaz Alam\\Anaconda3\\lib\\site-packages\\sklearn\\svm\\base.py:931: ConvergenceWarning: Liblinear failed to converge, increase the number of iterations.\n",
      "  \"the number of iterations.\", ConvergenceWarning)\n"
     ]
    },
    {
     "name": "stdout",
     "output_type": "stream",
     "text": [
      "cross_val_accuracy is  [0.775      0.87       0.87       0.85427136 0.73366834 0.70351759\n",
      " 0.76884422 0.85427136 0.83417085 0.79899497]\n",
      "cross_val_accuracy_avg is  0.8062738693467338\n"
     ]
    },
    {
     "name": "stderr",
     "output_type": "stream",
     "text": [
      "C:\\Users\\Azaz Alam\\Anaconda3\\lib\\site-packages\\sklearn\\svm\\base.py:931: ConvergenceWarning: Liblinear failed to converge, increase the number of iterations.\n",
      "  \"the number of iterations.\", ConvergenceWarning)\n",
      "C:\\Users\\Azaz Alam\\Anaconda3\\lib\\site-packages\\sklearn\\svm\\base.py:931: ConvergenceWarning: Liblinear failed to converge, increase the number of iterations.\n",
      "  \"the number of iterations.\", ConvergenceWarning)\n",
      "C:\\Users\\Azaz Alam\\Anaconda3\\lib\\site-packages\\sklearn\\svm\\base.py:931: ConvergenceWarning: Liblinear failed to converge, increase the number of iterations.\n",
      "  \"the number of iterations.\", ConvergenceWarning)\n",
      "C:\\Users\\Azaz Alam\\Anaconda3\\lib\\site-packages\\sklearn\\svm\\base.py:931: ConvergenceWarning: Liblinear failed to converge, increase the number of iterations.\n",
      "  \"the number of iterations.\", ConvergenceWarning)\n",
      "C:\\Users\\Azaz Alam\\Anaconda3\\lib\\site-packages\\sklearn\\svm\\base.py:931: ConvergenceWarning: Liblinear failed to converge, increase the number of iterations.\n",
      "  \"the number of iterations.\", ConvergenceWarning)\n",
      "C:\\Users\\Azaz Alam\\Anaconda3\\lib\\site-packages\\sklearn\\svm\\base.py:931: ConvergenceWarning: Liblinear failed to converge, increase the number of iterations.\n",
      "  \"the number of iterations.\", ConvergenceWarning)\n",
      "C:\\Users\\Azaz Alam\\Anaconda3\\lib\\site-packages\\sklearn\\svm\\base.py:931: ConvergenceWarning: Liblinear failed to converge, increase the number of iterations.\n",
      "  \"the number of iterations.\", ConvergenceWarning)\n",
      "C:\\Users\\Azaz Alam\\Anaconda3\\lib\\site-packages\\sklearn\\svm\\base.py:931: ConvergenceWarning: Liblinear failed to converge, increase the number of iterations.\n",
      "  \"the number of iterations.\", ConvergenceWarning)\n",
      "C:\\Users\\Azaz Alam\\Anaconda3\\lib\\site-packages\\sklearn\\svm\\base.py:931: ConvergenceWarning: Liblinear failed to converge, increase the number of iterations.\n",
      "  \"the number of iterations.\", ConvergenceWarning)\n",
      "C:\\Users\\Azaz Alam\\Anaconda3\\lib\\site-packages\\sklearn\\svm\\base.py:931: ConvergenceWarning: Liblinear failed to converge, increase the number of iterations.\n",
      "  \"the number of iterations.\", ConvergenceWarning)\n",
      "C:\\Users\\Azaz Alam\\Anaconda3\\lib\\site-packages\\sklearn\\svm\\base.py:931: ConvergenceWarning: Liblinear failed to converge, increase the number of iterations.\n",
      "  \"the number of iterations.\", ConvergenceWarning)\n",
      "C:\\Users\\Azaz Alam\\Anaconda3\\lib\\site-packages\\sklearn\\svm\\base.py:931: ConvergenceWarning: Liblinear failed to converge, increase the number of iterations.\n",
      "  \"the number of iterations.\", ConvergenceWarning)\n",
      "C:\\Users\\Azaz Alam\\Anaconda3\\lib\\site-packages\\sklearn\\svm\\base.py:931: ConvergenceWarning: Liblinear failed to converge, increase the number of iterations.\n",
      "  \"the number of iterations.\", ConvergenceWarning)\n"
     ]
    },
    {
     "name": "stdout",
     "output_type": "stream",
     "text": [
      "cross_val_precision is  [0.77852349 0.84137931 0.88372093 0.87596899 0.90909091 0.81553398\n",
      " 0.78014184 0.96153846 0.81506849 0.81021898]\n",
      "cross_val_precision_avg is  0.8471185389194735\n"
     ]
    },
    {
     "name": "stderr",
     "output_type": "stream",
     "text": [
      "C:\\Users\\Azaz Alam\\Anaconda3\\lib\\site-packages\\sklearn\\svm\\base.py:931: ConvergenceWarning: Liblinear failed to converge, increase the number of iterations.\n",
      "  \"the number of iterations.\", ConvergenceWarning)\n",
      "C:\\Users\\Azaz Alam\\Anaconda3\\lib\\site-packages\\sklearn\\svm\\base.py:931: ConvergenceWarning: Liblinear failed to converge, increase the number of iterations.\n",
      "  \"the number of iterations.\", ConvergenceWarning)\n",
      "C:\\Users\\Azaz Alam\\Anaconda3\\lib\\site-packages\\sklearn\\svm\\base.py:931: ConvergenceWarning: Liblinear failed to converge, increase the number of iterations.\n",
      "  \"the number of iterations.\", ConvergenceWarning)\n",
      "C:\\Users\\Azaz Alam\\Anaconda3\\lib\\site-packages\\sklearn\\svm\\base.py:931: ConvergenceWarning: Liblinear failed to converge, increase the number of iterations.\n",
      "  \"the number of iterations.\", ConvergenceWarning)\n"
     ]
    },
    {
     "name": "stdout",
     "output_type": "stream",
     "text": [
      "cross_val_recall is  [0.952 0.944 0.912 0.904 0.64  0.672 0.88  0.8   0.952 0.888]\n",
      "cross_val_recall_avg is  0.8544\n"
     ]
    },
    {
     "name": "stderr",
     "output_type": "stream",
     "text": [
      "C:\\Users\\Azaz Alam\\Anaconda3\\lib\\site-packages\\sklearn\\svm\\base.py:931: ConvergenceWarning: Liblinear failed to converge, increase the number of iterations.\n",
      "  \"the number of iterations.\", ConvergenceWarning)\n",
      "C:\\Users\\Azaz Alam\\Anaconda3\\lib\\site-packages\\sklearn\\svm\\base.py:931: ConvergenceWarning: Liblinear failed to converge, increase the number of iterations.\n",
      "  \"the number of iterations.\", ConvergenceWarning)\n",
      "C:\\Users\\Azaz Alam\\Anaconda3\\lib\\site-packages\\sklearn\\svm\\base.py:931: ConvergenceWarning: Liblinear failed to converge, increase the number of iterations.\n",
      "  \"the number of iterations.\", ConvergenceWarning)\n"
     ]
    }
   ],
   "source": [
    "from sklearn import svm\n",
    "lin_svc = svm.LinearSVC(C=0.01447, penalty=\"l1\", dual=False).fit(initial, Y)\n",
    "# using L1-norm (sparsity method) to make unless feature weight become 0 , C value increase->more complex model having more weight\n",
    "feature_weight=abs(lin_svc.coef_[0])\n",
    "print(\"\",feature_weight)\n",
    "for i in range(0,len(feature_weight)):\n",
    "    if(feature_weight[i]!=0):\n",
    "        print('select_feature_is ',feature_name[i], ' feature_weight is ', feature_weight[i])\n",
    "\n",
    "\n",
    "\n",
    "from sklearn.model_selection import cross_val_score\n",
    "fold=df['fold']\n",
    "scores = cross_val_score(lin_svc, initial, Y,fold,'accuracy',10)\n",
    "print('cross_val_accuracy is ',scores) \n",
    "print('cross_val_accuracy_avg is ',np.array(scores).mean()) \n",
    "scores = cross_val_score(lin_svc, initial, Y,fold,'precision',10)\n",
    "print('cross_val_precision is ',scores) \n",
    "print('cross_val_precision_avg is ',np.array(scores).mean()) \n",
    "scores = cross_val_score(lin_svc, initial, Y,fold,'recall',10)\n",
    "print('cross_val_recall is ',scores) \n",
    "print('cross_val_recall_avg is ',np.array(scores).mean())  "
   ]
  },
  {
   "cell_type": "markdown",
   "metadata": {},
   "source": [
    "In this method of estimating predictive features, we use L1-norm to be a penalty in LinearSVC. L1 is known as least absolute errors to compute the penalty value to be used for adjusting the model. It has a sparsity property that reduces the coeficients for features that are not predictive to zero removing them from the model adjustment calculations. \n",
    "\n",
    "The Penalty value, C, represents the degree of model complexity. We tuned C to a low value to pick out at most 11 predictive features. This can be achieved because the L1 model is more likely to reduce coefficients of features to zero when a lower C value is set. racePctWhite, racePctHisp, PctKids2Par, PctIlleg, FemalePctDiv and TotalPctDiv are all consistent features with the previous models. PctPersDenseHous, pctWPubAsst, racepctblack and pctUrban have not been predictive in previous models but they also have low coefficients in the LinearSVC model, so they choices of these features by the model is somewhat arbitrary as they will only contribute slight adjustments to the model to correct for errors.\n",
    "\n",
    "In comparison with DecisionTree, LinearSVC improves accuracy, precision and recall for this dataset. This could be explained by the fact that LinearSVC is able to find an optimal linear sepparating hyperplane for the dataset, while Decision Tree is only able to use axis alligned planes to splint in a heirarchical fashion to split the dataset. Interestingly LinearSVC has a different most predictive feature than the previous models, TotalPctDiv. PctKids2Par is the second most predictive feature for LinearSVC, so it still maintains high importance. This likely means that TotalPctDiv is more effective as a linear sepparator with non-axis aligned planes."
   ]
  },
  {
   "cell_type": "markdown",
   "metadata": {},
   "source": [
    "# Linear Regression"
   ]
  },
  {
   "cell_type": "code",
   "execution_count": 10,
   "metadata": {},
   "outputs": [
    {
     "name": "stdout",
     "output_type": "stream",
     "text": [
      "10_fold_cv_MSE is  0.020102698466732367\n",
      "MSE on training set is  0.016516774880307176\n",
      "min is  -0.6756944788028575\n",
      "67\n",
      "max is  0.6350881164986143\n",
      "64\n",
      "coefficient[min] is  PctPersOwnOccup\n",
      "coefficient[max] is  PersPerOccupHous\n"
     ]
    }
   ],
   "source": [
    "from sklearn import linear_model\n",
    "from sklearn.metrics import mean_squared_error\n",
    "from sklearn.model_selection import cross_val_predict\n",
    "\n",
    "lr = linear_model.LinearRegression(normalize=True)\n",
    "Y = df['ViolentCrimesPerPop']\n",
    "predicted = cross_val_predict(lr, initial, Y, cv=10)\n",
    "print('10_fold_cv_MSE is ',mean_squared_error(Y, predicted))\n",
    "y_pred = lr.fit(initial, Y).predict(initial)\n",
    "\n",
    "print('MSE on training set is ',mean_squared_error(Y, y_pred))\n",
    "\n",
    "# print('coef is ',lr.coef_)\n",
    "\n",
    "min=np.min(lr.coef_)\n",
    "print('min is ',min)\n",
    "index_min = np.argmin(lr.coef_)\n",
    "print(index_min)\n",
    "max=np.max(lr.coef_)\n",
    "print('max is ',max)\n",
    "index_max = np.argmax(lr.coef_)\n",
    "print(index_max)\n",
    "print('coefficient[min] is ',feature_name[index_min])\n",
    "\n",
    "print('coefficient[max] is ',feature_name[index_max])"
   ]
  },
  {
   "cell_type": "markdown",
   "metadata": {
    "collapsed": true
   },
   "source": [
    "# Ridge Regression"
   ]
  },
  {
   "cell_type": "code",
   "execution_count": 11,
   "metadata": {
    "scrolled": true
   },
   "outputs": [
    {
     "name": "stdout",
     "output_type": "stream",
     "text": [
      "RidgeCV(alphas=array([1.e+01, 1.e+00, 1.e-01, 1.e-02, 1.e-03]), cv=None,\n",
      "    fit_intercept=True, gcv_mode=None, normalize=False, scoring=None,\n",
      "    store_cv_values=False)\n",
      "Best Alpha:  1.0\n",
      "[0.15629536 0.29723509 0.52328122 ... 0.09344901 0.16300833 0.16714695]\n",
      "0.23708242110390393\n",
      "10_fold_cv_MSE is:  0.01980395252878227\n",
      "Mean Square Error on training set:  0.01676352915516944\n"
     ]
    }
   ],
   "source": [
    "from sklearn.linear_model import Ridge\n",
    "from sklearn.linear_model import RidgeCV\n",
    "# Using RidgeCV to reduce the amount of verfitting\n",
    "ridge_model = RidgeCV(alphas=[10.0,1.0,0.1, 0.01, 0.001])\n",
    "print(ridge_model)\n",
    "ridge_reg_score = cross_val_predict(ridge_model, initial, Y, cv=10)\n",
    "ridge_fit = ridge_model.fit(initial, Y)\n",
    "#To get the best alpha\n",
    "print('Best Alpha: ', ridge_model.alpha_)\n",
    "ridge_predict = ridge_model.predict(initial)\n",
    "#accuracy of each Fold\n",
    "print(ridge_reg_score)\n",
    "#mean accuracy of 10 Folds\n",
    "print(ridge_reg_score.mean())\n",
    "\n",
    "#MSE 10 Fold CV\n",
    "print('10_fold_cv_MSE is: ',mean_squared_error(Y, ridge_reg_score))\n",
    "\n",
    "#MSE on the Training set\n",
    "mse_ridge = np.mean((ridge_predict - Y) ** 2)\n",
    "print (\"Mean Square Error on training set: \", mse_ridge)"
   ]
  },
  {
   "cell_type": "markdown",
   "metadata": {},
   "source": [
    "For this problem there is clearly some overfitting on linear regression when compared with ridge regression since the MSE of ridge regression is worse than linear regression but the CV-MSE of ridge regression is better than that of linear regression. The inability for linear regression to drop feature coefficients to zero in the formula clearly has some effect on the method against this dataset."
   ]
  },
  {
   "cell_type": "markdown",
   "metadata": {},
   "source": [
    "# Polynomial Regression"
   ]
  },
  {
   "cell_type": "code",
   "execution_count": 12,
   "metadata": {},
   "outputs": [
    {
     "name": "stdout",
     "output_type": "stream",
     "text": [
      "PolynomialFeatures(degree=2, include_bias=True, interaction_only=False)\n",
      "[ 0.5468887   0.53204995  0.32257945 ... -0.19218008  0.17282282\n",
      "  0.40107657]\n",
      "0.23572159536525375\n",
      "10_fold_cv_MSE is  0.1299568867786148\n",
      "Mean Square Error on training set:  3.903858513628011e-29\n"
     ]
    }
   ],
   "source": [
    "from sklearn.preprocessing import *\n",
    "from sklearn.pipeline import Pipeline\n",
    "from sklearn.linear_model import LinearRegression\n",
    "\n",
    "pol = PolynomialFeatures(degree = 2)\n",
    "print(pol)\n",
    "\n",
    "lin_reg = LinearRegression()\n",
    "pip = Pipeline([(\"polynomial Feature\", pol),(\"linear_Regression\", lin_reg)])\n",
    "poly_reg_score = cross_val_predict(pip, initial, Y, cv=10)\n",
    "p_fit = pip.fit(initial, Y)\n",
    "p_predict = pip.predict(initial)\n",
    "#accuracy of each fold\n",
    "print(poly_reg_score)\n",
    "#mean accuracy of 10 Folds\n",
    "print(poly_reg_score.mean())\n",
    "\n",
    "#MSE 10 Fold CV\n",
    "print('10_fold_cv_MSE is ',mean_squared_error(Y, poly_reg_score))\n",
    "\n",
    "#MSE on Training Set\n",
    "mse_poly = np.mean((p_predict - Y) ** 2)\n",
    "print (\"Mean Square Error on training set: \", mse_poly)"
   ]
  },
  {
   "cell_type": "markdown",
   "metadata": {},
   "source": [
    "The linear model significantly outperforms the quadratic model for this dataset. The true model of the dataset is much more likely to be on the order of linear than quadratic."
   ]
  },
  {
   "cell_type": "markdown",
   "metadata": {},
   "source": [
    "# Dirty Data"
   ]
  },
  {
   "cell_type": "code",
   "execution_count": 13,
   "metadata": {},
   "outputs": [
    {
     "name": "stderr",
     "output_type": "stream",
     "text": [
      "C:\\Users\\Azaz Alam\\Anaconda3\\lib\\site-packages\\ipykernel_launcher.py:16: FutureWarning: convert_objects is deprecated.  To re-infer data dtypes for object columns, use DataFrame.infer_objects()\n",
      "For all other conversions use the data-type specific converters pd.to_datetime, pd.to_timedelta and pd.to_numeric.\n",
      "  app.launch_new_instance()\n"
     ]
    },
    {
     "name": "stdout",
     "output_type": "stream",
     "text": [
      "cross_val_accuracy is  [0.81094527 0.81       0.805      0.79899497 0.82914573 0.77386935\n",
      " 0.85427136 0.83417085 0.80904523 0.8040201 ]\n",
      "cross_val_accuracy_avg is  0.8129462861571539\n",
      "cross_val_precision is  [0.90740741 0.85365854 0.84677419 0.84       0.85826772 0.85714286\n",
      " 0.92105263 0.92592593 0.85950413 0.90566038]\n",
      "cross_val_precision_avg is  0.877539377831422\n",
      "cross_val_recall is  [0.77777778 0.84       0.84       0.84       0.872      0.768\n",
      " 0.84       0.8        0.832      0.768     ]\n",
      "cross_val_recall_avg is  0.8177777777777777\n"
     ]
    }
   ],
   "source": [
    "df=pd.read_csv('communities-crime-full.csv')\n",
    "df\n",
    "df['highCrime'] = np.where(df['ViolentCrimesPerPop']>0.1, 1, 0)\n",
    "Y = df['highCrime']\n",
    "\n",
    "# print('total len is ',len(Y))\n",
    "initial=pd.read_csv('communities-crime-full.csv')\n",
    "initial = initial.drop('communityname', 1)\n",
    "initial = initial.drop('ViolentCrimesPerPop', 1)\n",
    "initial = initial.drop('fold', 1)\n",
    "initial = initial.drop('state', 1)\n",
    "initial = initial.drop('community', 1)\n",
    "initial = initial.drop('county', 1)\n",
    "\n",
    "feature_name=list(initial)\n",
    "initial=initial.convert_objects(convert_numeric=True)\n",
    "New_data=initial.fillna(initial.mean())\n",
    "# print('before...')\n",
    "# print(initial)\n",
    "# print('after...')\n",
    "# print(New_data)  \n",
    "clf = tree.DecisionTreeClassifier(max_depth=3)\n",
    "# clf = tree.DecisionTreeClassifier()\n",
    "clf = clf.fit(New_data, Y)\n",
    "clf\n",
    "fold=df['fold']\n",
    "scores = cross_val_score(clf, New_data, Y,fold,'accuracy',10)\n",
    "print('cross_val_accuracy is ',scores) \n",
    "print('cross_val_accuracy_avg is ',np.array(scores).mean()) \n",
    "scores = cross_val_score(clf, New_data, Y,fold,'precision',10)\n",
    "print('cross_val_precision is ',scores) \n",
    "print('cross_val_precision_avg is ',np.array(scores).mean()) \n",
    "scores = cross_val_score(clf, New_data, Y,fold,'recall',10)\n",
    "print('cross_val_recall is ',scores) \n",
    "print('cross_val_recall_avg is ',np.array(scores).mean()) "
   ]
  },
  {
   "cell_type": "code",
   "execution_count": 14,
   "metadata": {},
   "outputs": [
    {
     "data": {
      "image/png": "[encoded data removed]",
      "text/plain": [
       "<Figure size 432x288 with 1 Axes>"
      ]
     },
     "metadata": {
      "needs_background": "light"
     },
     "output_type": "display_data"
    },
    {
     "name": "stdout",
     "output_type": "stream",
     "text": [
      "y is  [0.7888608590214756, 0.797373446836171, 0.8129462861571539, 0.8003609590239756, 0.7843132203305083, 0.7817881197029926, 0.7828207330183254, 0.781305707642691, 0.7698029700742518, 0.7587577189429735, 0.7712779444486113, 0.7662579189479738, 0.753237643441086, 0.7587202305057625, 0.7457074176854421]\n"
     ]
    }
   ],
   "source": [
    "y=[]\n",
    "x=[]\n",
    "for i in range (1,16):\n",
    "    clf = tree.DecisionTreeClassifier(max_depth=i)\n",
    "    clf = clf.fit(New_data, Y)\n",
    "    y_pred = clf.predict(New_data)\n",
    "    scores = cross_val_score(clf, New_data, Y,None,'accuracy',cv=10)\n",
    "    y.append(np.array(scores).mean())\n",
    "    x.append(i)\n",
    "\n",
    "    \n",
    "plt.plot(x, y)\n",
    "\n",
    "plt.show()\n",
    "print('y is ',y)"
   ]
  },
  {
   "cell_type": "code",
   "execution_count": 15,
   "metadata": {},
   "outputs": [
    {
     "name": "stdout",
     "output_type": "stream",
     "text": [
      "ind is  [29  5  3 44]\n",
      "4_max_normalized_feature is  [0.02001308 0.04857088 0.09026611 0.36186062]\n",
      "29\n",
      "feature_name[index] is  PctLess9thGrade\n",
      "5\n",
      "feature_name[index] is  racePctHisp\n",
      "3\n",
      "feature_name[index] is  racePctWhite\n",
      "44\n",
      "feature_name[index] is  PctKids2Par\n"
     ]
    }
   ],
   "source": [
    "feature_selection = clf.feature_importances_ \n",
    "   \n",
    "\n",
    "ind = np.argpartition(feature_selection, -4)[-4:]\n",
    "\n",
    "print('ind is ',ind)\n",
    "print('4_max_normalized_feature is ',feature_selection[ind])\n",
    "\n",
    "for x in range(0, len(ind)):\n",
    "    index=ind[x]\n",
    "    print(index)\n",
    "    print('feature_name[index] is ',feature_name[index])"
   ]
  },
  {
   "cell_type": "markdown",
   "metadata": {},
   "source": [
    "The CV result between clean data and full data with the same parameters results in slightly improved accuracy. This might be explained by missing values being replaced by mean of their respective columns. This reduction of the overall variance of the dataset could be improving performance. The most predictive features remain the same so the dirty features being available to split on cannot be the explanation."
   ]
  },
  {
   "cell_type": "markdown",
   "metadata": {},
   "source": [
    "# PCA&K-NN"
   ]
  },
  {
   "cell_type": "code",
   "execution_count": 16,
   "metadata": {},
   "outputs": [
    {
     "data": {
      "image/png": "[encoded data removed]",
      "text/plain": [
       "<Figure size 432x288 with 1 Axes>"
      ]
     },
     "metadata": {
      "needs_background": "light"
     },
     "output_type": "display_data"
    }
   ],
   "source": [
    "from sklearn.decomposition import PCA\n",
    "from sklearn.neighbors import KNeighborsClassifier\n",
    "\n",
    "df=pd.read_csv('communities-crime-clean.csv')\n",
    "df['highCrime'] = np.where(df['ViolentCrimesPerPop']>0.1, 1, 0)\n",
    "initial=pd.read_csv('communities-crime-clean.csv')\n",
    "Y = df['highCrime']\n",
    "fold=df['fold']\n",
    "state=df['state']\n",
    "community=df['communityname']\n",
    "initial = initial.drop('fold', 1)\n",
    "initial = initial.drop('state', 1)\n",
    "initial = initial.drop('communityname', 1)\n",
    "initial = initial.drop('ViolentCrimesPerPop', 1)\n",
    "\n",
    "x=[]\n",
    "y=[]\n",
    "for k in range (1,16):\n",
    "    y.append([])\n",
    "for i in range (2,15):\n",
    "    pca = PCA(n_components=i)\n",
    "    pca.fit(initial)\n",
    "    pcdf = pca.transform(initial)\n",
    "    for j in range (1,16):\n",
    "        knn = KNeighborsClassifier(j)\n",
    "        knn.fit(pcdf,Y)\n",
    "        scores = cross_val_score(knn,pcdf,Y,fold,'accuracy',10)\n",
    "        y[j-1].append(np.mean(scores))\n",
    "    x.append(i)\n",
    "\n",
    "plt.plot(x,y[0],'r-',\n",
    "         x,y[1],'g-',\n",
    "         x,y[2],'b-',\n",
    "         x,y[3],'r--',\n",
    "         x,y[4],'g--',\n",
    "         x,y[5],'b--',\n",
    "         x,y[6],'r-.',\n",
    "         x,y[7],'g-.',\n",
    "         x,y[8],'b-.',\n",
    "         x,y[9],'r:',\n",
    "         x,y[10],'g:',\n",
    "         x,y[11],'b:',\n",
    "         x,y[12],'c-',\n",
    "         x,y[13],'m-',\n",
    "         x,y[14],'y-')\n",
    "plt.show()"
   ]
  },
  {
   "cell_type": "markdown",
   "metadata": {},
   "source": [
    "<ul>\n",
    "<li>X-axis is number of components</li>\n",
    "<li>Y-axis is accuracy\n",
    "<ul>\n",
    "<li>Red-solid-line is k=1</li>\n",
    "<li>Green-solid-line is k=2</li>\n",
    "<li>Blue-solid-line is k=3</li>\n",
    "<li>Red-dashed-line is k=4</li>\n",
    "<li>Green-dashed-line is k=5</li>\n",
    "<li>Blue-dashed-line is k=6</li>\n",
    "<li>Red-dash-dot-line is k=7</li>\n",
    "<li>Green-dash-dot-line is k=8</li>\n",
    "<li>Blue-dash-dot-line is k=9</li>\n",
    "<li>Red-dotted-line is k=10</li>\n",
    "<li>Green-dotted-line is k=11</li>\n",
    "<li>Blue-dotted-line is k=12</li>\n",
    "<li>Cyan-solid-line is k=13</li>\n",
    "<li>Magenta-solid-line is k=14</li>\n",
    "<li>Yellow-solid-line is k=15</li>\n",
    "</ul></li>\n",
    "</ul>\n",
    "\n",
    "Blue dotted line has best performance at n-components=5 meaning k=12"
   ]
  },
  {
   "cell_type": "code",
   "execution_count": 17,
   "metadata": {},
   "outputs": [
    {
     "data": {
      "text/plain": [
       "array([[-2.04052546e-02,  9.75132690e-03, -1.28371329e-01,\n",
       "         1.23044608e-01,  6.52084194e-02, -6.14280591e-02,\n",
       "        -4.72820587e-02, -4.60121765e-02, -4.71777648e-02,\n",
       "        -3.46626378e-02, -1.56537431e-02,  1.52570830e-01,\n",
       "         1.88492101e-01,  1.03286139e-01, -7.18548440e-03,\n",
       "         1.48691465e-01, -6.12543207e-02, -1.73401439e-01,\n",
       "         4.48956257e-03,  1.79662679e-01,  1.61193740e-01,\n",
       "         1.40327609e-01,  1.07194806e-01,  4.39239209e-02,\n",
       "         8.19922061e-02,  7.74816512e-02,  1.13058167e-01,\n",
       "        -3.97531389e-02, -1.91357751e-01, -1.50661446e-01,\n",
       "        -1.59431939e-01,  1.42844505e-01, -1.52692314e-01,\n",
       "         1.10214847e-01, -2.33208904e-02,  1.61083945e-02,\n",
       "        -1.34972468e-01,  1.35500286e-01, -1.06437345e-01,\n",
       "        -4.01754009e-02, -1.01677202e-01, -1.09737150e-01,\n",
       "        -1.29668589e-02,  1.62749424e-01,  1.68736871e-01,\n",
       "         1.78676474e-01,  1.33751535e-01, -1.18987095e-02,\n",
       "         1.12613742e-02, -3.11151955e-02, -1.50870947e-01,\n",
       "        -6.64631737e-03, -4.14686662e-02, -4.77028848e-02,\n",
       "        -4.49797848e-02, -4.97956803e-02,  6.22271445e-03,\n",
       "         3.61716851e-03,  6.69008024e-03,  4.08774764e-03,\n",
       "         2.16062354e-02, -4.56107809e-02, -6.59365027e-02,\n",
       "        -4.86852812e-02,  2.29232532e-02,  3.67738154e-02,\n",
       "        -4.79458198e-02,  1.22711019e-01, -8.44847108e-02,\n",
       "        -9.64958429e-02,  1.09751354e-01, -3.41640913e-02,\n",
       "         7.40567876e-02,  1.04629295e-01, -1.07733239e-01,\n",
       "        -4.70222532e-02,  4.19420273e-02, -1.99593745e-01,\n",
       "        -1.09298585e-01,  1.61984123e-01,  1.64369571e-01,\n",
       "         1.63985961e-01,  1.67068789e-01,  1.63565391e-01,\n",
       "         1.93204244e-01,  1.67100994e-01, -4.34843126e-02,\n",
       "         5.72625982e-02, -1.60733392e-02, -1.90625776e-02,\n",
       "        -1.34111688e-02,  2.94298202e-02, -4.96684542e-02,\n",
       "         3.38877946e-02, -1.86070060e-02, -2.20883944e-02,\n",
       "        -8.86291687e-03, -1.40120126e-02,  3.93038079e-02,\n",
       "        -4.30436519e-02],\n",
       "       [ 4.65107143e-02,  7.31007190e-02,  2.97025733e-02,\n",
       "        -1.58534468e-01,  1.59178377e-01,  1.90141431e-01,\n",
       "         1.83388364e-02,  4.98339305e-02,  3.60912415e-02,\n",
       "        -6.85006568e-02,  5.03646766e-02,  1.79413485e-01,\n",
       "         3.49315055e-02,  4.75614066e-02, -2.98432226e-02,\n",
       "        -3.88640765e-02, -7.24146284e-02,  6.26498274e-02,\n",
       "        -6.90031511e-02,  2.64331353e-02,  2.15127910e-02,\n",
       "         3.98709889e-02,  3.11563777e-02,  1.61664886e-02,\n",
       "        -2.11443792e-03,  1.76561650e-02,  1.13249221e-03,\n",
       "         4.44772229e-02,  3.75167294e-02,  5.83546767e-02,\n",
       "         3.54672293e-02,  2.79190895e-02,  5.03081110e-02,\n",
       "         1.69247652e-02, -3.09069782e-02, -1.63984466e-02,\n",
       "        -1.84144383e-02,  9.43444321e-03,  1.66036742e-03,\n",
       "         9.47740644e-02,  3.14749068e-02,  1.73305868e-02,\n",
       "         8.70286054e-02, -3.54616992e-02, -4.70713715e-02,\n",
       "        -2.20965430e-02, -3.80259959e-02, -5.20351884e-02,\n",
       "        -7.29741943e-02,  3.66921355e-02,  9.36376749e-02,\n",
       "         5.51732345e-02,  8.55569626e-02,  9.96086929e-02,\n",
       "         1.07522904e-01,  1.14090535e-01,  2.48913152e-01,\n",
       "         2.53173277e-01,  2.55635505e-01,  2.54071885e-01,\n",
       "        -2.16690578e-01,  2.09656366e-01,  1.49733800e-01,\n",
       "         1.36121701e-01,  7.53719140e-02,  6.65356817e-02,\n",
       "         1.07242118e-01, -1.00592409e-01,  1.87340413e-01,\n",
       "         7.55166956e-02, -1.02483947e-01,  3.81778676e-02,\n",
       "         1.20197054e-02, -8.64467137e-02,  2.59321557e-02,\n",
       "        -7.93014450e-02,  6.71860874e-03, -6.38694258e-03,\n",
       "         5.33376938e-02,  1.24416081e-01,  1.30880632e-01,\n",
       "         1.30976515e-01,  1.14243563e-01,  1.08325561e-01,\n",
       "         1.30358452e-01,  1.00888414e-01,  7.85087111e-02,\n",
       "         1.25190223e-01, -1.14538720e-02,  3.25126269e-02,\n",
       "         3.44237881e-02,  2.41529233e-01, -1.19628987e-01,\n",
       "        -5.53248292e-02, -3.66483591e-02, -5.65180964e-02,\n",
       "         6.84213385e-03,  1.48630105e-01,  1.16127641e-01,\n",
       "         7.84299457e-02],\n",
       "       [-6.88867108e-02,  1.84378243e-01, -1.48539897e-01,\n",
       "         3.24645164e-02, -2.55345069e-02,  1.78205057e-01,\n",
       "         2.47372890e-02, -3.55922549e-02, -5.78614516e-02,\n",
       "        -5.86804784e-02, -7.33692966e-02, -2.23215309e-01,\n",
       "         3.07009126e-02,  3.59936400e-02,  8.68329797e-02,\n",
       "        -4.86515818e-02, -8.52261002e-03,  5.69111154e-02,\n",
       "        -1.75402789e-02, -1.04361095e-02, -7.07669720e-02,\n",
       "        -9.32039330e-02,  1.80356350e-03, -9.24774046e-03,\n",
       "         3.74745355e-03, -1.35761495e-02, -3.41734771e-02,\n",
       "        -6.33391886e-02, -1.85142367e-02,  1.39808419e-01,\n",
       "         1.15570751e-01, -1.35757691e-01,  6.88762498e-02,\n",
       "        -9.40576924e-03,  1.08697745e-01, -1.18418021e-01,\n",
       "         1.20619985e-01, -1.06310891e-01, -1.22333468e-01,\n",
       "        -1.14450260e-01, -1.10821931e-01, -1.22157580e-01,\n",
       "         1.84837287e-01,  1.38075446e-01,  1.14626935e-01,\n",
       "         9.95829777e-02,  1.46309985e-01, -6.88250725e-02,\n",
       "        -8.21941964e-02, -5.48599232e-02, -1.03823500e-01,\n",
       "        -1.36906589e-02, -1.43921794e-01, -1.37061361e-01,\n",
       "        -1.30465196e-01, -1.08800739e-01,  2.67841948e-03,\n",
       "         1.37421373e-02,  2.00639505e-02,  3.06104556e-02,\n",
       "        -1.43209730e-01,  1.39570861e-01,  1.69417149e-01,\n",
       "         1.97454479e-01,  2.25731535e-01,  1.84573941e-01,\n",
       "         1.95254271e-01,  1.33745275e-01,  1.30250021e-01,\n",
       "        -1.12362347e-01,  1.48020775e-01, -1.02540976e-01,\n",
       "         6.65738407e-02,  1.43029382e-01, -1.30006539e-02,\n",
       "         6.17312136e-02,  4.86888555e-02,  3.09150283e-02,\n",
       "         6.83081578e-02, -1.94465224e-02, -2.83618338e-02,\n",
       "        -4.30280335e-02, -2.12406797e-02, -1.49121279e-02,\n",
       "        -1.84716429e-02, -6.43359107e-03, -3.64432461e-02,\n",
       "         1.33429222e-02, -7.05597420e-03, -5.51658927e-02,\n",
       "        -3.87890438e-02,  6.19267075e-02,  9.03999193e-02,\n",
       "         1.08540853e-01,  1.19724508e-01,  1.39962949e-01,\n",
       "        -3.50889134e-02, -5.24427254e-02, -1.10702937e-01,\n",
       "        -1.36254467e-01],\n",
       "       [-3.80659521e-02,  9.39381929e-02, -8.72498239e-02,\n",
       "         4.99208410e-02,  2.77345674e-02,  1.14081475e-02,\n",
       "         1.73810113e-01,  1.63077666e-01,  1.79193129e-01,\n",
       "        -1.78816251e-01, -4.81228595e-02, -3.34288555e-01,\n",
       "        -3.16081066e-02,  1.38364578e-01,  1.75909661e-01,\n",
       "        -1.10613997e-02, -1.70490225e-01, -8.04102151e-02,\n",
       "        -1.44853723e-01, -2.26184257e-02, -5.67523982e-02,\n",
       "        -6.58759829e-02, -4.03184165e-02, -2.28327772e-02,\n",
       "        -7.81584832e-02, -2.68878692e-02, -6.60839335e-02,\n",
       "        -3.98978074e-02,  5.68827745e-02, -6.65450668e-02,\n",
       "        -1.01121903e-01,  9.11635219e-02, -6.33457673e-02,\n",
       "         7.14798138e-02, -7.38018037e-02,  6.15589505e-02,\n",
       "        -5.91537146e-02,  4.01544715e-02, -5.71937074e-02,\n",
       "         6.09171406e-02, -3.27547163e-02, -4.78618051e-02,\n",
       "         1.78865537e-02,  7.50941364e-02,  8.30942538e-02,\n",
       "         7.58574180e-02,  6.26500451e-02,  4.79646225e-02,\n",
       "         5.30031182e-02, -4.87688909e-02, -8.84047454e-02,\n",
       "        -2.17840080e-02,  2.03880744e-01,  1.98981292e-01,\n",
       "         1.87121489e-01,  1.71971095e-01,  3.37355556e-02,\n",
       "         2.27791978e-02,  1.24137573e-02,  3.25714981e-03,\n",
       "         4.26717176e-02, -2.88251440e-02, -9.55405873e-03,\n",
       "         2.22092315e-03,  3.49842713e-02,  3.08502604e-02,\n",
       "         5.84426650e-02, -6.04239712e-02,  2.39236492e-02,\n",
       "        -1.30815047e-02, -6.82671714e-03, -4.98688334e-02,\n",
       "         3.22802050e-04, -5.33363382e-02, -1.23384416e-01,\n",
       "        -8.74260434e-02,  2.40377147e-01,  2.00264959e-02,\n",
       "        -3.92003971e-02, -6.40547279e-02, -6.32263410e-02,\n",
       "        -6.07790668e-02, -2.71661606e-02, -4.76947145e-02,\n",
       "        -5.87489158e-02, -5.19831713e-02,  1.02618949e-02,\n",
       "        -1.84619594e-02, -1.30101420e-01, -3.44592136e-02,\n",
       "        -2.41518407e-02, -5.22472563e-02, -8.47702684e-02,\n",
       "        -2.38308573e-01, -2.75193581e-01, -1.89050671e-01,\n",
       "        -1.37315367e-03, -1.21594897e-01, -1.60052480e-01,\n",
       "        -8.79765073e-02],\n",
       "       [-9.50838367e-02, -1.13398945e-01, -1.51178652e-01,\n",
       "         1.09694217e-01,  3.56696773e-02,  1.48122676e-02,\n",
       "        -3.81532011e-02, -5.38091930e-02, -1.27038715e-03,\n",
       "         2.25862904e-01, -1.09420498e-01, -5.59794655e-01,\n",
       "        -2.60970421e-02, -2.00049913e-01,  6.76635611e-02,\n",
       "         7.98120684e-02,  1.94447224e-01,  3.50208362e-02,\n",
       "         8.18532084e-02,  1.54530673e-02,  6.60207426e-02,\n",
       "         4.97418601e-02,  4.83732508e-03, -3.04749614e-03,\n",
       "         6.56442696e-02, -2.03483772e-02,  1.74755022e-02,\n",
       "        -8.68201091e-02,  5.15675885e-02,  8.61811296e-02,\n",
       "         4.85584453e-02,  6.10833200e-02,  3.64985018e-02,\n",
       "        -1.60040953e-01, -1.91078513e-02,  9.70983881e-02,\n",
       "        -9.39052036e-03,  5.44983526e-02, -3.76615269e-02,\n",
       "         2.63635856e-02, -5.37085149e-02, -4.70980883e-02,\n",
       "        -1.33730525e-01, -8.60647420e-04,  1.29672711e-02,\n",
       "         1.24051856e-03,  1.38623794e-02, -6.66606790e-02,\n",
       "        -5.76864358e-02, -7.31605054e-02, -9.13318439e-02,\n",
       "        -1.93904981e-02,  4.66414443e-02,  3.57380316e-02,\n",
       "         1.42341529e-02, -3.47384601e-03,  1.17710393e-01,\n",
       "         1.08724601e-01,  9.99155309e-02,  8.92900645e-02,\n",
       "        -7.55785528e-02,  5.73887004e-02, -8.96695571e-02,\n",
       "        -9.79125875e-02, -1.49634797e-01, -1.49198698e-01,\n",
       "        -1.08078142e-01, -4.68956543e-02, -2.54620917e-02,\n",
       "         1.06634886e-01, -1.28562944e-01, -9.11668105e-02,\n",
       "        -5.32422892e-02, -4.25621506e-02, -1.13991849e-01,\n",
       "         6.77718954e-02, -1.85835299e-01,  3.89584898e-02,\n",
       "         5.04465864e-02,  1.16319140e-01,  1.28935912e-01,\n",
       "         1.39190105e-01,  1.59463356e-02,  3.94105262e-02,\n",
       "         5.48394846e-02,  2.68678872e-02,  7.77540740e-02,\n",
       "         1.96161509e-02,  6.54110796e-02, -4.58927186e-02,\n",
       "        -3.09460117e-02,  1.06857963e-01, -1.89997256e-02,\n",
       "         4.51158248e-02,  1.25256605e-02,  2.09836945e-02,\n",
       "        -7.97411278e-02,  5.28957324e-02,  3.94282299e-02,\n",
       "        -1.28695578e-01]])"
      ]
     },
     "execution_count": 17,
     "metadata": {},
     "output_type": "execute_result"
    }
   ],
   "source": [
    "pca = PCA(n_components=5)\n",
    "pca.fit(initial)\n",
    "pca.components_"
   ]
  },
  {
   "cell_type": "code",
   "execution_count": 18,
   "metadata": {},
   "outputs": [
    {
     "data": {
      "text/plain": [
       "array([0.26753256, 0.1879639 , 0.08245766, 0.07097958, 0.04612133])"
      ]
     },
     "execution_count": 18,
     "metadata": {},
     "output_type": "execute_result"
    }
   ],
   "source": [
    "pca.explained_variance_ratio_"
   ]
  },
  {
   "cell_type": "code",
   "execution_count": 19,
   "metadata": {},
   "outputs": [
    {
     "data": {
      "text/plain": [
       "array([[ 0.42940989, -0.53929962,  0.31031454,  0.61492901, -0.78039985],\n",
       "       [-1.19933196, -0.90092286,  0.31801596,  0.06578607,  0.08519108],\n",
       "       [-1.25540273, -0.45223119, -0.37326948, -0.57765153, -0.34191989],\n",
       "       ...,\n",
       "       [-0.39828125, -0.04847062, -0.72054899,  1.849037  ,  0.50341932],\n",
       "       [-0.06739216, -0.87415147,  0.57794265,  0.14245355, -0.03894221],\n",
       "       [-0.53794345, -0.94270676, -0.04992509,  0.2288567 ,  0.51676   ]])"
      ]
     },
     "execution_count": 19,
     "metadata": {},
     "output_type": "execute_result"
    }
   ],
   "source": [
    "pcdf = pca.transform(initial)\n",
    "pcdf"
   ]
  },
  {
   "cell_type": "code",
   "execution_count": 20,
   "metadata": {},
   "outputs": [
    {
     "name": "stdout",
     "output_type": "stream",
     "text": [
      "fl score is 87.0279146141215\n",
      "Accuracy is 84.14450577019569\n",
      "Precision is 89.3760539629005\n",
      "Recall is 84.8\n"
     ]
    }
   ],
   "source": [
    "from sklearn.metrics import f1_score\n",
    "knn = KNeighborsClassifier(n_neighbors=12)\n",
    "knn.fit(pcdf,Y)\n",
    "y_pred = knn.predict(pcdf)\n",
    "print ('fl score is', f1_score(Y,y_pred,average=\"binary\")*100)\n",
    "print ('Accuracy is', accuracy_score(Y,y_pred)*100)\n",
    "print ('Precision is', precision_score(Y,y_pred)*100)\n",
    "print ('Recall is', recall_score(Y,y_pred)*100)"
   ]
  },
  {
   "cell_type": "code",
   "execution_count": 21,
   "metadata": {},
   "outputs": [
    {
     "name": "stdout",
     "output_type": "stream",
     "text": [
      "Cross validation accuracy is 79.57286432160804\n",
      "Cross validation precision is 85.35884460774638\n",
      "Cross validation recall is 81.60000000000001\n"
     ]
    }
   ],
   "source": [
    "scores = cross_val_score(knn,pcdf,Y,fold,'accuracy',10)\n",
    "print ('Cross validation accuracy is', np.mean(scores)*100)\n",
    "scores = cross_val_score(knn,pcdf,Y,fold,'precision',10)\n",
    "print ('Cross validation precision is', np.mean(scores)*100)\n",
    "scores = cross_val_score(knn,pcdf,Y,fold,'recall',10)\n",
    "print ('Cross validation recall is', np.mean(scores)*100)"
   ]
  },
  {
   "cell_type": "markdown",
   "metadata": {},
   "source": [
    "K-nn is a grouping method using distance as the most important factor for classification of data. This combined with the loss of specific features in PCA dimensionality reduction makes finding reliable predictive features very difficult.\n",
    "\n",
    "Thus the best estimator of predictive features is the greatest magnitude features of the eigenvector that captures the largest percentage of variance in the dataset."
   ]
  },
  {
   "cell_type": "code",
   "execution_count": 22,
   "metadata": {},
   "outputs": [
    {
     "name": "stdout",
     "output_type": "stream",
     "text": [
      "ind is  [83 84 80 19 45 44 81 82 85 12]\n",
      "10_max_vector_components is  [0.16356539 0.19320424 0.16436957 0.17966268 0.17867647 0.16873687\n",
      " 0.16398596 0.16706879 0.16710099 0.1884921 ]\n",
      "83\n",
      "vector_component[index] is  RentMedian\n",
      "84\n",
      "vector_component[index] is  RentHighQ\n",
      "80\n",
      "vector_component[index] is  OwnOccMedVal\n",
      "19\n",
      "vector_component[index] is  medFamInc\n",
      "45\n",
      "vector_component[index] is  PctYoungKids2Par\n",
      "44\n",
      "vector_component[index] is  PctKids2Par\n",
      "81\n",
      "vector_component[index] is  OwnOccHiQuart\n",
      "82\n",
      "vector_component[index] is  RentLowQ\n",
      "85\n",
      "vector_component[index] is  MedRent\n",
      "12\n",
      "vector_component[index] is  medIncome\n"
     ]
    }
   ],
   "source": [
    "feature_name=list(initial)\n",
    "\n",
    "ind = np.argpartition(pca.components_[0], -10)[-10:]\n",
    "\n",
    "print('ind is ',ind)\n",
    "print('10_max_vector_components is ',pca.components_[0][ind])\n",
    "\n",
    "for x in range(0, len(ind)):\n",
    "    index=ind[x]\n",
    "    print(index)\n",
    "    print('vector_component[index] is ',feature_name[index])"
   ]
  },
  {
   "cell_type": "markdown",
   "metadata": {},
   "source": [
    "PCA to K-NN results are similar to Decision Tree.  The most significant features are vastly different from the other methods implemented in this project, this is likely because they aren't derived from a classification algorithm but from the features with greatest variance in a dimensionality reduction algorithm."
   ]
  },
  {
   "cell_type": "code",
   "execution_count": 23,
   "metadata": {},
   "outputs": [
    {
     "data": {
      "image/png": "[encoded data removed]",
      "text/plain": [
       "<Figure size 432x288 with 1 Axes>"
      ]
     },
     "metadata": {
      "needs_background": "light"
     },
     "output_type": "display_data"
    }
   ],
   "source": [
    "df=pd.read_csv('communities-crime-full.csv')\n",
    "df['highCrime'] = np.where(df['ViolentCrimesPerPop']>0.1, 1, 0)\n",
    "Y = df['highCrime']\n",
    "fold=df['fold']\n",
    "x=[]\n",
    "y=[]\n",
    "for k in range (1,16):\n",
    "    y.append([])\n",
    "for i in range (2,15):\n",
    "    pca = PCA(n_components=i)\n",
    "    pca.fit(New_data)\n",
    "    pcdf = pca.transform(New_data)\n",
    "    for j in range (1,16):\n",
    "        knn = KNeighborsClassifier(j)\n",
    "        knn.fit(pcdf,Y)\n",
    "        scores = cross_val_score(knn,pcdf,Y,fold,'accuracy',10)\n",
    "        y[j-1].append(np.mean(scores))\n",
    "    x.append(i)\n",
    "\n",
    "plt.plot(x,y[0],'r-',\n",
    "         x,y[1],'g-',\n",
    "         x,y[2],'b-',\n",
    "         x,y[3],'r--',\n",
    "         x,y[4],'g--',\n",
    "         x,y[5],'b--',\n",
    "         x,y[6],'r-.',\n",
    "         x,y[7],'g-.',\n",
    "         x,y[8],'b-.',\n",
    "         x,y[9],'r:',\n",
    "         x,y[10],'g:',\n",
    "         x,y[11],'b:',\n",
    "         x,y[12],'c-',\n",
    "         x,y[13],'m-',\n",
    "         x,y[14],'y-')\n",
    "plt.show()"
   ]
  },
  {
   "cell_type": "markdown",
   "metadata": {},
   "source": [
    "<ul>\n",
    "<li>X-axis is number of components</li>\n",
    "<li>Y-axis is accuracy\n",
    "<ul>\n",
    "<li>Red-solid-line is k=1</li>\n",
    "<li>Green-solid-line is k=2</li>\n",
    "<li>Blue-solid-line is k=3</li>\n",
    "<li>Red-dashed-line is k=4</li>\n",
    "<li>Green-dashed-line is k=5</li>\n",
    "<li>Blue-dashed-line is k=6</li>\n",
    "<li>Red-dash-dot-line is k=7</li>\n",
    "<li>Green-dash-dot-line is k=8</li>\n",
    "<li>Blue-dash-dot-line is k=9</li>\n",
    "<li>Red-dotted-line is k=10</li>\n",
    "<li>Green-dotted-line is k=11</li>\n",
    "<li>Blue-dotted-line is k=12</li>\n",
    "<li>Cyan-solid-line is k=13</li>\n",
    "<li>Magenta-solid-line is k=14</li>\n",
    "<li>Yellow-solid-line is k=15</li>\n",
    "</ul></li>\n",
    "</ul>\n",
    "\n",
    "Magenta and yellow solid lines have best overall performance at n-components=5 meaning k=14 or k=15, favoring least complexity k=14 will be chosen."
   ]
  },
  {
   "cell_type": "code",
   "execution_count": 24,
   "metadata": {},
   "outputs": [
    {
     "data": {
      "text/plain": [
       "array([[-2.05868501e-02,  9.75819911e-03, -1.29180835e-01,\n",
       "         1.23575532e-01,  6.51854594e-02, -6.12052661e-02,\n",
       "        -4.71845615e-02, -4.58094979e-02, -4.69925869e-02,\n",
       "        -3.46798200e-02, -1.58243934e-02,  1.52668790e-01,\n",
       "         1.88267648e-01,  1.03334631e-01, -7.14474897e-03,\n",
       "         1.48575631e-01, -6.12402679e-02, -1.73533941e-01,\n",
       "         4.48558660e-03,  1.79462994e-01,  1.60939303e-01,\n",
       "         1.39935680e-01,  1.07041398e-01,  4.38929392e-02,\n",
       "         8.17176372e-02,  7.72774286e-02,  1.12556720e-01,\n",
       "        -3.99788267e-02, -1.91486828e-01, -1.50541901e-01,\n",
       "        -1.59258997e-01,  1.42536645e-01, -1.52856395e-01,\n",
       "         1.10267208e-01, -2.31152613e-02,  1.59113810e-02,\n",
       "        -1.34624608e-01,  1.35089944e-01, -1.06389755e-01,\n",
       "        -4.01904725e-02, -1.01626911e-01, -1.09689028e-01,\n",
       "        -1.30285003e-02,  1.62909635e-01,  1.68913509e-01,\n",
       "         1.78892728e-01,  1.33961330e-01, -1.19086566e-02,\n",
       "         1.13146990e-02, -3.13687988e-02, -1.51377480e-01,\n",
       "        -6.74700915e-03, -4.12695813e-02, -4.74095615e-02,\n",
       "        -4.46525297e-02, -4.94256892e-02,  6.35142666e-03,\n",
       "         3.75876254e-03,  6.81875408e-03,  4.21425077e-03,\n",
       "         2.14181944e-02, -4.54304685e-02, -6.59391760e-02,\n",
       "        -4.86718847e-02,  2.28736171e-02,  3.67529738e-02,\n",
       "        -4.79318387e-02,  1.22493153e-01, -8.43731596e-02,\n",
       "        -9.62425586e-02,  1.09319821e-01, -3.43569546e-02,\n",
       "         7.41003342e-02,  1.04408975e-01, -1.07887955e-01,\n",
       "        -4.71985297e-02,  4.19944916e-02, -1.99421474e-01,\n",
       "        -1.09429549e-01,  1.61768522e-01,  1.64129372e-01,\n",
       "         1.63707871e-01,  1.66983540e-01,  1.63428242e-01,\n",
       "         1.92985675e-01,  1.66914307e-01, -4.35293153e-02,\n",
       "         5.71062436e-02, -1.63828072e-02, -1.92055231e-02,\n",
       "        -1.35438884e-02,  2.95190229e-02, -4.97565225e-02,\n",
       "         3.36026722e-02, -1.88183002e-02, -2.21857619e-02,\n",
       "        -4.63842657e-03, -2.64715412e-03,  4.20720223e-03,\n",
       "        -2.31004954e-03, -5.52546036e-03, -4.21871028e-03,\n",
       "        -2.20889575e-03, -2.65097265e-03,  1.08946443e-02,\n",
       "         1.06736688e-02, -1.63479261e-02, -3.68487189e-03,\n",
       "         5.04525423e-03, -1.42347240e-02, -4.16911191e-03,\n",
       "        -2.07038440e-03, -2.31712141e-04, -8.97404282e-03,\n",
       "        -1.39853291e-02,  3.90428108e-02, -8.32220497e-03,\n",
       "        -3.79567997e-03,  3.33890172e-03, -1.15603140e-03,\n",
       "        -4.28819862e-02,  9.32330717e-04],\n",
       "       [ 4.68639304e-02,  7.31251825e-02,  2.94188314e-02,\n",
       "        -1.58220527e-01,  1.59104229e-01,  1.90051472e-01,\n",
       "         1.83043796e-02,  4.97386824e-02,  3.59877394e-02,\n",
       "        -6.85646744e-02,  5.07144763e-02,  1.79297229e-01,\n",
       "         3.50297988e-02,  4.76717756e-02, -2.97755819e-02,\n",
       "        -3.87378572e-02, -7.24769102e-02,  6.24234139e-02,\n",
       "        -6.89038231e-02,  2.64968261e-02,  2.15455911e-02,\n",
       "         3.98701627e-02,  3.12271106e-02,  1.62075966e-02,\n",
       "        -2.10808429e-03,  1.76112481e-02,  1.02745964e-03,\n",
       "         4.48732684e-02,  3.72397160e-02,  5.81793685e-02,\n",
       "         3.53253360e-02,  2.79148074e-02,  5.00265309e-02,\n",
       "         1.70491364e-02, -3.08381913e-02, -1.63961178e-02,\n",
       "        -1.83951828e-02,  9.43162815e-03,  1.58915247e-03,\n",
       "         9.45763446e-02,  3.13870740e-02,  1.72464263e-02,\n",
       "         8.70368571e-02, -3.52047755e-02, -4.68061362e-02,\n",
       "        -2.17934050e-02, -3.77603241e-02, -5.20114578e-02,\n",
       "        -7.28971659e-02,  3.70130036e-02,  9.32890801e-02,\n",
       "         5.54406119e-02,  8.53144495e-02,  9.93808609e-02,\n",
       "         1.07338338e-01,  1.13948035e-01,  2.48579858e-01,\n",
       "         2.52833761e-01,  2.55312440e-01,  2.53771648e-01,\n",
       "        -2.16506113e-01,  2.09492816e-01,  1.49664834e-01,\n",
       "         1.36063635e-01,  7.54231798e-02,  6.66207884e-02,\n",
       "         1.07125434e-01, -1.00297666e-01,  1.87225412e-01,\n",
       "         7.53170558e-02, -1.02260835e-01,  3.84991245e-02,\n",
       "         1.21472215e-02, -8.61935843e-02,  2.59797018e-02,\n",
       "        -7.92858584e-02,  6.87774079e-03, -6.51768425e-03,\n",
       "         5.32542335e-02,  1.24288167e-01,  1.30764625e-01,\n",
       "         1.30889686e-01,  1.14193597e-01,  1.08271499e-01,\n",
       "         1.30274472e-01,  1.00831939e-01,  7.83111031e-02,\n",
       "         1.24975506e-01, -1.17828505e-02,  3.27873210e-02,\n",
       "         3.47183706e-02,  2.41255800e-01, -1.19521012e-01,\n",
       "        -5.52463068e-02, -3.65771479e-02, -5.63829176e-02,\n",
       "         6.14926428e-03, -2.45272241e-03, -5.56686983e-03,\n",
       "        -1.96535514e-03,  7.96570878e-03,  4.91202468e-04,\n",
       "         5.50445937e-03, -2.44773619e-03, -1.05967382e-02,\n",
       "        -1.77931817e-02,  7.87784139e-04,  2.09044482e-02,\n",
       "         1.99615130e-02,  1.78463585e-02,  5.18484770e-03,\n",
       "         3.05491448e-03,  1.21730619e-02,  7.09576587e-03,\n",
       "         1.48413480e-01,  1.16065578e-01,  4.19626665e-03,\n",
       "         8.26703659e-03,  2.09301868e-03,  3.24510171e-03,\n",
       "         7.81436544e-02,  3.12458600e-03],\n",
       "       [-7.01961919e-02,  1.84131949e-01, -1.50169557e-01,\n",
       "         3.37207423e-02, -2.52705151e-02,  1.78352166e-01,\n",
       "         2.57733199e-02, -3.43783833e-02, -5.64393981e-02,\n",
       "        -5.90721648e-02, -7.47197793e-02, -2.25147076e-01,\n",
       "         2.97812071e-02,  3.62703333e-02,  8.76994470e-02,\n",
       "        -4.86952465e-02, -9.02553234e-03,  5.63141141e-02,\n",
       "        -1.81266172e-02, -1.10481620e-02, -7.13904609e-02,\n",
       "        -9.41348358e-02,  1.31490137e-03, -9.57188802e-03,\n",
       "         2.95136812e-03, -1.40305635e-02, -3.49368468e-02,\n",
       "        -6.47231852e-02, -1.79491685e-02,  1.39590611e-01,\n",
       "         1.15039705e-01, -1.35350756e-01,  6.84720010e-02,\n",
       "        -9.28720326e-03,  1.08435768e-01, -1.17949495e-01,\n",
       "         1.20478038e-01, -1.06286392e-01, -1.22302980e-01,\n",
       "        -1.13958241e-01, -1.10633094e-01, -1.22040908e-01,\n",
       "         1.84024123e-01,  1.38353767e-01,  1.15113920e-01,\n",
       "         1.00004463e-01,  1.46600626e-01, -6.82361432e-02,\n",
       "        -8.15355179e-02, -5.64206905e-02, -1.05136110e-01,\n",
       "        -1.43037715e-02, -1.42151332e-01, -1.35326359e-01,\n",
       "        -1.28886314e-01, -1.07364825e-01,  3.25725605e-03,\n",
       "         1.42163291e-02,  2.04216281e-02,  3.08869660e-02,\n",
       "        -1.43082033e-01,  1.39495395e-01,  1.68567338e-01,\n",
       "         1.96669355e-01,  2.24936831e-01,  1.83889092e-01,\n",
       "         1.94915660e-01,  1.32583082e-01,  1.30172331e-01,\n",
       "        -1.11540353e-01,  1.46782049e-01, -1.04024831e-01,\n",
       "         6.64976132e-02,  1.41892893e-01, -1.48446145e-02,\n",
       "         6.07560486e-02,  4.97990872e-02,  3.12506597e-02,\n",
       "         6.78822312e-02, -2.00143400e-02, -2.89525766e-02,\n",
       "        -4.36697812e-02, -2.16342134e-02, -1.55561504e-02,\n",
       "        -1.93100117e-02, -7.21299300e-03, -3.62382645e-02,\n",
       "         1.29884496e-02, -8.01039668e-03, -5.63361075e-02,\n",
       "        -3.96849956e-02,  6.17991901e-02,  8.96899136e-02,\n",
       "         1.06592531e-01,  1.17673861e-01,  1.38482600e-01,\n",
       "        -1.07327868e-02, -9.60999267e-03,  1.02177596e-02,\n",
       "        -1.07043324e-02, -1.07962046e-02, -1.07888144e-02,\n",
       "        -8.74362548e-04, -9.60800874e-03,  6.55111593e-03,\n",
       "        -6.32391597e-03, -2.01295561e-02,  2.43391889e-02,\n",
       "         2.57865093e-03,  5.49144468e-03, -9.48896227e-03,\n",
       "        -9.81620683e-03,  5.93890177e-03, -3.58501252e-02,\n",
       "        -5.30665795e-02, -1.12363927e-01, -2.03427639e-02,\n",
       "        -9.63313589e-03,  3.25350125e-03, -6.40231881e-03,\n",
       "        -1.36474866e-01, -6.86069755e-03],\n",
       "       [-3.82910107e-02,  9.11240931e-02, -8.87064235e-02,\n",
       "         5.13768698e-02,  2.84470922e-02,  1.07418526e-02,\n",
       "         1.72596138e-01,  1.63024840e-01,  1.79123423e-01,\n",
       "        -1.76990812e-01, -4.82204200e-02, -3.30034201e-01,\n",
       "        -3.30246215e-02,  1.37076559e-01,  1.74246702e-01,\n",
       "        -1.10089594e-02, -1.69298073e-01, -8.08900128e-02,\n",
       "        -1.43773360e-01, -2.35655859e-02, -5.69173920e-02,\n",
       "        -6.63142835e-02, -4.07551924e-02, -2.29228964e-02,\n",
       "        -7.90365312e-02, -2.73485976e-02, -6.68901680e-02,\n",
       "        -4.04814089e-02,  5.65553542e-02, -6.71239065e-02,\n",
       "        -1.01280407e-01,  9.05658926e-02, -6.40389709e-02,\n",
       "         7.12668383e-02, -7.36804090e-02,  6.10658926e-02,\n",
       "        -5.88827441e-02,  3.94127428e-02, -5.49029997e-02,\n",
       "         6.11242603e-02, -3.07058267e-02, -4.56110151e-02,\n",
       "         1.53494198e-02,  7.39088291e-02,  8.22265663e-02,\n",
       "         7.51908959e-02,  6.17097657e-02,  4.87146239e-02,\n",
       "         5.39012419e-02, -4.96499693e-02, -8.91463627e-02,\n",
       "        -2.20302541e-02,  2.04942038e-01,  2.00221126e-01,\n",
       "         1.88375452e-01,  1.73202884e-01,  3.45394071e-02,\n",
       "         2.35726106e-02,  1.31562262e-02,  3.94935622e-03,\n",
       "         4.29841413e-02, -2.90396708e-02, -1.14567303e-02,\n",
       "         6.58298495e-05,  3.20438530e-02,  2.82690110e-02,\n",
       "         5.63351479e-02, -6.23831422e-02,  2.32490807e-02,\n",
       "        -1.05404308e-02, -1.02620909e-02, -4.97477872e-02,\n",
       "        -3.74617536e-04, -5.53332509e-02, -1.24386921e-01,\n",
       "        -8.89721879e-02,  2.39463520e-01,  1.98648259e-02,\n",
       "        -4.03203249e-02, -6.43476929e-02, -6.35568168e-02,\n",
       "        -6.11471792e-02, -2.70722308e-02, -4.79785298e-02,\n",
       "        -5.92837261e-02, -5.25383546e-02,  1.05665360e-02,\n",
       "        -1.88057841e-02, -1.30858204e-01, -3.48237910e-02,\n",
       "        -2.44505537e-02, -5.18188399e-02, -8.59608427e-02,\n",
       "        -2.39565944e-01, -2.75744620e-01, -1.90021772e-01,\n",
       "        -9.94872027e-03, -1.09817345e-02,  9.37190691e-03,\n",
       "        -1.19025924e-02, -8.79702894e-03, -7.42483712e-03,\n",
       "         6.13187526e-03, -1.09940244e-02,  1.04227977e-02,\n",
       "         1.07612967e-02, -2.11487655e-02, -4.75478911e-04,\n",
       "         7.89173467e-03, -1.44988859e-02, -7.93857985e-03,\n",
       "         6.78572495e-04, -3.58122786e-03, -1.62356752e-03,\n",
       "        -1.20567834e-01, -1.60285478e-01, -7.52921405e-03,\n",
       "        -8.76181328e-03,  2.35442739e-03,  2.42475708e-02,\n",
       "        -8.58899550e-02, -6.98798413e-03],\n",
       "       [ 1.00316050e-01,  1.18336636e-01,  1.60400255e-01,\n",
       "        -1.16681988e-01, -3.59643441e-02, -1.67939480e-02,\n",
       "         4.27744433e-02,  5.44334218e-02,  3.65816422e-03,\n",
       "        -2.28501982e-01,  1.13981555e-01,  5.39909271e-01,\n",
       "         3.04158141e-02,  2.00728745e-01, -6.17610876e-02,\n",
       "        -7.81004040e-02, -1.95995757e-01, -3.23826201e-02,\n",
       "        -8.46156668e-02, -1.11540264e-02, -6.23697856e-02,\n",
       "        -4.42135452e-02, -3.11535879e-03,  3.78595889e-03,\n",
       "        -6.17766608e-02,  2.13524137e-02, -1.46357910e-02,\n",
       "         9.32771609e-02, -4.69847882e-02, -8.64873890e-02,\n",
       "        -5.00200466e-02, -5.35464174e-02, -3.41188518e-02,\n",
       "         1.57757057e-01,  1.51179544e-02, -8.90010666e-02,\n",
       "         5.35167754e-03, -4.78044156e-02,  3.21819666e-02,\n",
       "        -2.30481271e-02,  4.87388327e-02,  4.17387439e-02,\n",
       "         1.37717751e-01,  1.20413992e-03, -1.32857812e-02,\n",
       "        -2.05114643e-03, -1.39280479e-02,  6.31729627e-02,\n",
       "         5.39735379e-02,  7.94375770e-02,  9.64272103e-02,\n",
       "         2.16949089e-02, -4.49649866e-02, -3.49149712e-02,\n",
       "        -1.36337251e-02,  3.64321039e-03, -1.20475909e-01,\n",
       "        -1.11954524e-01, -1.03129476e-01, -9.26587880e-02,\n",
       "         7.76586182e-02, -6.01912156e-02,  9.24987032e-02,\n",
       "         1.00594446e-01,  1.53343786e-01,  1.52442699e-01,\n",
       "         1.09621275e-01,  5.11976169e-02,  2.46849758e-02,\n",
       "        -1.12842361e-01,  1.36257118e-01,  9.67276905e-02,\n",
       "         5.26175677e-02,  4.68419502e-02,  1.21553278e-01,\n",
       "        -6.03353085e-02,  1.84330126e-01, -3.60148308e-02,\n",
       "        -4.65506319e-02, -1.13426745e-01, -1.25289519e-01,\n",
       "        -1.34564810e-01, -1.65078976e-02, -3.78468944e-02,\n",
       "        -5.20970055e-02, -2.47039231e-02, -7.54972283e-02,\n",
       "        -1.97623914e-02, -6.22419638e-02,  5.03110954e-02,\n",
       "         3.43772469e-02, -1.10049355e-01,  2.30965478e-02,\n",
       "        -4.14582427e-02, -1.13716500e-02, -1.79769216e-02,\n",
       "         1.61499619e-02, -9.56402775e-03, -1.49620567e-02,\n",
       "        -1.16788603e-02,  2.10838030e-02, -6.31700810e-04,\n",
       "         1.36821915e-02, -9.56710726e-03, -2.04839247e-02,\n",
       "        -2.26022002e-02,  4.30153571e-02, -4.05553999e-03,\n",
       "        -1.20764619e-02,  2.71768244e-02,  1.19719060e-02,\n",
       "         1.49781874e-02, -1.06360236e-02,  8.42579397e-02,\n",
       "        -5.67260136e-02, -3.47628609e-02,  3.58068641e-02,\n",
       "         1.39397105e-02, -1.15767787e-02,  2.54608817e-02,\n",
       "         1.25091450e-01, -1.57023674e-02]])"
      ]
     },
     "execution_count": 24,
     "metadata": {},
     "output_type": "execute_result"
    }
   ],
   "source": [
    "pca = PCA(n_components=5)\n",
    "pca.fit(New_data)\n",
    "pca.components_"
   ]
  },
  {
   "cell_type": "code",
   "execution_count": 25,
   "metadata": {},
   "outputs": [
    {
     "data": {
      "text/plain": [
       "array([0.25854019, 0.18166128, 0.07971167, 0.06863376, 0.0447857 ])"
      ]
     },
     "execution_count": 25,
     "metadata": {},
     "output_type": "execute_result"
    }
   ],
   "source": [
    "pca.explained_variance_ratio_"
   ]
  },
  {
   "cell_type": "code",
   "execution_count": 26,
   "metadata": {},
   "outputs": [
    {
     "data": {
      "text/plain": [
       "array([[ 0.35772934, -0.28927626, -0.55437695,  0.12694534,  0.42805149],\n",
       "       [-0.16418724,  0.26989243, -0.95874063,  0.2492209 ,  0.14474299],\n",
       "       [-0.60595542, -0.51332098,  0.07151308, -0.02621489, -0.01678185],\n",
       "       ...,\n",
       "       [-0.58777866,  0.19536295, -0.19990588, -0.85729035,  0.11442758],\n",
       "       [ 0.54779527,  0.72318122, -0.35253007,  0.05258148, -0.29110898],\n",
       "       [-0.39754717,  2.11859241,  0.69516672,  0.24787931,  0.5369877 ]])"
      ]
     },
     "execution_count": 26,
     "metadata": {},
     "output_type": "execute_result"
    }
   ],
   "source": [
    "pcdf = pca.transform(New_data)\n",
    "pcdf"
   ]
  },
  {
   "cell_type": "code",
   "execution_count": 27,
   "metadata": {},
   "outputs": [
    {
     "name": "stdout",
     "output_type": "stream",
     "text": [
      "fl score is 86.80016346546792\n",
      "Accuracy is 83.8014042126379\n",
      "Precision is 88.79598662207357\n",
      "Recall is 84.89208633093526\n"
     ]
    }
   ],
   "source": [
    "knn = KNeighborsClassifier(n_neighbors=14)\n",
    "knn.fit(pcdf,Y)\n",
    "y_pred = knn.predict(pcdf)\n",
    "print ('fl score is', f1_score(Y,y_pred,average=\"binary\")*100)\n",
    "print ('Accuracy is', accuracy_score(Y,y_pred)*100)\n",
    "print ('Precision is', precision_score(Y,y_pred)*100)\n",
    "print ('Recall is', recall_score(Y,y_pred)*100)"
   ]
  },
  {
   "cell_type": "code",
   "execution_count": 28,
   "metadata": {},
   "outputs": [
    {
     "name": "stdout",
     "output_type": "stream",
     "text": [
      "Cross validation accuracy is 81.44037475936898\n",
      "Cross validation precision is 86.88833472716958\n",
      "Cross validation recall is 82.9726984126984\n"
     ]
    }
   ],
   "source": [
    "scores = cross_val_score(knn,pcdf,Y,fold,'accuracy',10)\n",
    "print ('Cross validation accuracy is', np.mean(scores)*100)\n",
    "scores = cross_val_score(knn,pcdf,Y,fold,'precision',10)\n",
    "print ('Cross validation precision is', np.mean(scores)*100)\n",
    "scores = cross_val_score(knn,pcdf,Y,fold,'recall',10)\n",
    "print ('Cross validation recall is', np.mean(scores)*100)"
   ]
  },
  {
   "cell_type": "markdown",
   "metadata": {},
   "source": [
    "K-nn is a grouping method using distance as the most important factor for classification of data. This combined with the loss of specific features in PCA dimensionality reduction makes finding reliable predictive features very difficult.\n",
    "\n",
    "Thus the best estimator of predictive features is the greatest magnitude features of the eigenvector that captures the largest percentage of variance in the dataset."
   ]
  },
  {
   "cell_type": "code",
   "execution_count": 29,
   "metadata": {},
   "outputs": [
    {
     "name": "stdout",
     "output_type": "stream",
     "text": [
      "ind is  [83 81 80 82 44 85 45 19 84 12]\n",
      "10_max_vector_components is  [0.16342824 0.16370787 0.16412937 0.16698354 0.16891351 0.16691431\n",
      " 0.17889273 0.17946299 0.19298567 0.18826765]\n",
      "83\n",
      "vector_component[index] is  RentMedian\n",
      "81\n",
      "vector_component[index] is  OwnOccHiQuart\n",
      "80\n",
      "vector_component[index] is  OwnOccMedVal\n",
      "82\n",
      "vector_component[index] is  RentLowQ\n",
      "44\n",
      "vector_component[index] is  PctKids2Par\n",
      "85\n",
      "vector_component[index] is  MedRent\n",
      "45\n",
      "vector_component[index] is  PctYoungKids2Par\n",
      "19\n",
      "vector_component[index] is  medFamInc\n",
      "84\n",
      "vector_component[index] is  RentHighQ\n",
      "12\n",
      "vector_component[index] is  medIncome\n"
     ]
    }
   ],
   "source": [
    "ind = np.argpartition(pca.components_[0], -10)[-10:]\n",
    "\n",
    "print('ind is ',ind)\n",
    "print('10_max_vector_components is ',pca.components_[0][ind])\n",
    "\n",
    "for x in range(0, len(ind)):\n",
    "    index=ind[x]\n",
    "    print(index)\n",
    "    print('vector_component[index] is ',feature_name[index])"
   ]
  },
  {
   "cell_type": "markdown",
   "metadata": {},
   "source": [
    "PCA to K-NN has improved classification with the addition of the features with missing data. This is likely because new features add some variance that is translated into greater distances between the classes in the reduced dimensionality space."
   ]
  },
  {
   "cell_type": "markdown",
   "metadata": {},
   "source": [
    "# PolynomialSVC"
   ]
  },
  {
   "cell_type": "code",
   "execution_count": 30,
   "metadata": {},
   "outputs": [],
   "source": [
    "df=pd.read_csv('communities-crime-clean.csv')\n",
    "df['highCrime'] = np.where(df['ViolentCrimesPerPop']>0.1, 1, 0)\n",
    "Y = df['highCrime']\n",
    "fold=df['fold']"
   ]
  },
  {
   "cell_type": "code",
   "execution_count": 31,
   "metadata": {},
   "outputs": [
    {
     "name": "stderr",
     "output_type": "stream",
     "text": [
      "C:\\Users\\Azaz Alam\\Anaconda3\\lib\\site-packages\\sklearn\\svm\\base.py:196: FutureWarning: The default value of gamma will change from 'auto' to 'scale' in version 0.22 to account better for unscaled features. Set gamma explicitly to 'auto' or 'scale' to avoid this warning.\n",
      "  \"avoid this warning.\", FutureWarning)\n",
      "C:\\Users\\Azaz Alam\\Anaconda3\\lib\\site-packages\\sklearn\\svm\\base.py:196: FutureWarning: The default value of gamma will change from 'auto' to 'scale' in version 0.22 to account better for unscaled features. Set gamma explicitly to 'auto' or 'scale' to avoid this warning.\n",
      "  \"avoid this warning.\", FutureWarning)\n",
      "C:\\Users\\Azaz Alam\\Anaconda3\\lib\\site-packages\\sklearn\\svm\\base.py:196: FutureWarning: The default value of gamma will change from 'auto' to 'scale' in version 0.22 to account better for unscaled features. Set gamma explicitly to 'auto' or 'scale' to avoid this warning.\n",
      "  \"avoid this warning.\", FutureWarning)\n",
      "C:\\Users\\Azaz Alam\\Anaconda3\\lib\\site-packages\\sklearn\\svm\\base.py:196: FutureWarning: The default value of gamma will change from 'auto' to 'scale' in version 0.22 to account better for unscaled features. Set gamma explicitly to 'auto' or 'scale' to avoid this warning.\n",
      "  \"avoid this warning.\", FutureWarning)\n",
      "C:\\Users\\Azaz Alam\\Anaconda3\\lib\\site-packages\\sklearn\\svm\\base.py:196: FutureWarning: The default value of gamma will change from 'auto' to 'scale' in version 0.22 to account better for unscaled features. Set gamma explicitly to 'auto' or 'scale' to avoid this warning.\n",
      "  \"avoid this warning.\", FutureWarning)\n",
      "C:\\Users\\Azaz Alam\\Anaconda3\\lib\\site-packages\\sklearn\\svm\\base.py:196: FutureWarning: The default value of gamma will change from 'auto' to 'scale' in version 0.22 to account better for unscaled features. Set gamma explicitly to 'auto' or 'scale' to avoid this warning.\n",
      "  \"avoid this warning.\", FutureWarning)\n",
      "C:\\Users\\Azaz Alam\\Anaconda3\\lib\\site-packages\\sklearn\\svm\\base.py:196: FutureWarning: The default value of gamma will change from 'auto' to 'scale' in version 0.22 to account better for unscaled features. Set gamma explicitly to 'auto' or 'scale' to avoid this warning.\n",
      "  \"avoid this warning.\", FutureWarning)\n",
      "C:\\Users\\Azaz Alam\\Anaconda3\\lib\\site-packages\\sklearn\\svm\\base.py:196: FutureWarning: The default value of gamma will change from 'auto' to 'scale' in version 0.22 to account better for unscaled features. Set gamma explicitly to 'auto' or 'scale' to avoid this warning.\n",
      "  \"avoid this warning.\", FutureWarning)\n",
      "C:\\Users\\Azaz Alam\\Anaconda3\\lib\\site-packages\\sklearn\\svm\\base.py:196: FutureWarning: The default value of gamma will change from 'auto' to 'scale' in version 0.22 to account better for unscaled features. Set gamma explicitly to 'auto' or 'scale' to avoid this warning.\n",
      "  \"avoid this warning.\", FutureWarning)\n",
      "C:\\Users\\Azaz Alam\\Anaconda3\\lib\\site-packages\\sklearn\\svm\\base.py:196: FutureWarning: The default value of gamma will change from 'auto' to 'scale' in version 0.22 to account better for unscaled features. Set gamma explicitly to 'auto' or 'scale' to avoid this warning.\n",
      "  \"avoid this warning.\", FutureWarning)\n",
      "C:\\Users\\Azaz Alam\\Anaconda3\\lib\\site-packages\\sklearn\\svm\\base.py:196: FutureWarning: The default value of gamma will change from 'auto' to 'scale' in version 0.22 to account better for unscaled features. Set gamma explicitly to 'auto' or 'scale' to avoid this warning.\n",
      "  \"avoid this warning.\", FutureWarning)\n",
      "C:\\Users\\Azaz Alam\\Anaconda3\\lib\\site-packages\\sklearn\\svm\\base.py:196: FutureWarning: The default value of gamma will change from 'auto' to 'scale' in version 0.22 to account better for unscaled features. Set gamma explicitly to 'auto' or 'scale' to avoid this warning.\n",
      "  \"avoid this warning.\", FutureWarning)\n",
      "C:\\Users\\Azaz Alam\\Anaconda3\\lib\\site-packages\\sklearn\\svm\\base.py:196: FutureWarning: The default value of gamma will change from 'auto' to 'scale' in version 0.22 to account better for unscaled features. Set gamma explicitly to 'auto' or 'scale' to avoid this warning.\n",
      "  \"avoid this warning.\", FutureWarning)\n",
      "C:\\Users\\Azaz Alam\\Anaconda3\\lib\\site-packages\\sklearn\\svm\\base.py:196: FutureWarning: The default value of gamma will change from 'auto' to 'scale' in version 0.22 to account better for unscaled features. Set gamma explicitly to 'auto' or 'scale' to avoid this warning.\n",
      "  \"avoid this warning.\", FutureWarning)\n",
      "C:\\Users\\Azaz Alam\\Anaconda3\\lib\\site-packages\\sklearn\\svm\\base.py:196: FutureWarning: The default value of gamma will change from 'auto' to 'scale' in version 0.22 to account better for unscaled features. Set gamma explicitly to 'auto' or 'scale' to avoid this warning.\n",
      "  \"avoid this warning.\", FutureWarning)\n",
      "C:\\Users\\Azaz Alam\\Anaconda3\\lib\\site-packages\\sklearn\\svm\\base.py:196: FutureWarning: The default value of gamma will change from 'auto' to 'scale' in version 0.22 to account better for unscaled features. Set gamma explicitly to 'auto' or 'scale' to avoid this warning.\n",
      "  \"avoid this warning.\", FutureWarning)\n",
      "C:\\Users\\Azaz Alam\\Anaconda3\\lib\\site-packages\\sklearn\\svm\\base.py:196: FutureWarning: The default value of gamma will change from 'auto' to 'scale' in version 0.22 to account better for unscaled features. Set gamma explicitly to 'auto' or 'scale' to avoid this warning.\n",
      "  \"avoid this warning.\", FutureWarning)\n",
      "C:\\Users\\Azaz Alam\\Anaconda3\\lib\\site-packages\\sklearn\\svm\\base.py:196: FutureWarning: The default value of gamma will change from 'auto' to 'scale' in version 0.22 to account better for unscaled features. Set gamma explicitly to 'auto' or 'scale' to avoid this warning.\n",
      "  \"avoid this warning.\", FutureWarning)\n",
      "C:\\Users\\Azaz Alam\\Anaconda3\\lib\\site-packages\\sklearn\\svm\\base.py:196: FutureWarning: The default value of gamma will change from 'auto' to 'scale' in version 0.22 to account better for unscaled features. Set gamma explicitly to 'auto' or 'scale' to avoid this warning.\n",
      "  \"avoid this warning.\", FutureWarning)\n",
      "C:\\Users\\Azaz Alam\\Anaconda3\\lib\\site-packages\\sklearn\\svm\\base.py:196: FutureWarning: The default value of gamma will change from 'auto' to 'scale' in version 0.22 to account better for unscaled features. Set gamma explicitly to 'auto' or 'scale' to avoid this warning.\n",
      "  \"avoid this warning.\", FutureWarning)\n",
      "C:\\Users\\Azaz Alam\\Anaconda3\\lib\\site-packages\\sklearn\\svm\\base.py:196: FutureWarning: The default value of gamma will change from 'auto' to 'scale' in version 0.22 to account better for unscaled features. Set gamma explicitly to 'auto' or 'scale' to avoid this warning.\n",
      "  \"avoid this warning.\", FutureWarning)\n",
      "C:\\Users\\Azaz Alam\\Anaconda3\\lib\\site-packages\\sklearn\\svm\\base.py:196: FutureWarning: The default value of gamma will change from 'auto' to 'scale' in version 0.22 to account better for unscaled features. Set gamma explicitly to 'auto' or 'scale' to avoid this warning.\n",
      "  \"avoid this warning.\", FutureWarning)\n",
      "C:\\Users\\Azaz Alam\\Anaconda3\\lib\\site-packages\\sklearn\\svm\\base.py:196: FutureWarning: The default value of gamma will change from 'auto' to 'scale' in version 0.22 to account better for unscaled features. Set gamma explicitly to 'auto' or 'scale' to avoid this warning.\n",
      "  \"avoid this warning.\", FutureWarning)\n",
      "C:\\Users\\Azaz Alam\\Anaconda3\\lib\\site-packages\\sklearn\\svm\\base.py:196: FutureWarning: The default value of gamma will change from 'auto' to 'scale' in version 0.22 to account better for unscaled features. Set gamma explicitly to 'auto' or 'scale' to avoid this warning.\n",
      "  \"avoid this warning.\", FutureWarning)\n",
      "C:\\Users\\Azaz Alam\\Anaconda3\\lib\\site-packages\\sklearn\\svm\\base.py:196: FutureWarning: The default value of gamma will change from 'auto' to 'scale' in version 0.22 to account better for unscaled features. Set gamma explicitly to 'auto' or 'scale' to avoid this warning.\n",
      "  \"avoid this warning.\", FutureWarning)\n",
      "C:\\Users\\Azaz Alam\\Anaconda3\\lib\\site-packages\\sklearn\\svm\\base.py:196: FutureWarning: The default value of gamma will change from 'auto' to 'scale' in version 0.22 to account better for unscaled features. Set gamma explicitly to 'auto' or 'scale' to avoid this warning.\n",
      "  \"avoid this warning.\", FutureWarning)\n",
      "C:\\Users\\Azaz Alam\\Anaconda3\\lib\\site-packages\\sklearn\\svm\\base.py:196: FutureWarning: The default value of gamma will change from 'auto' to 'scale' in version 0.22 to account better for unscaled features. Set gamma explicitly to 'auto' or 'scale' to avoid this warning.\n",
      "  \"avoid this warning.\", FutureWarning)\n"
     ]
    },
    {
     "name": "stderr",
     "output_type": "stream",
     "text": [
      "C:\\Users\\Azaz Alam\\Anaconda3\\lib\\site-packages\\sklearn\\svm\\base.py:196: FutureWarning: The default value of gamma will change from 'auto' to 'scale' in version 0.22 to account better for unscaled features. Set gamma explicitly to 'auto' or 'scale' to avoid this warning.\n",
      "  \"avoid this warning.\", FutureWarning)\n",
      "C:\\Users\\Azaz Alam\\Anaconda3\\lib\\site-packages\\sklearn\\svm\\base.py:196: FutureWarning: The default value of gamma will change from 'auto' to 'scale' in version 0.22 to account better for unscaled features. Set gamma explicitly to 'auto' or 'scale' to avoid this warning.\n",
      "  \"avoid this warning.\", FutureWarning)\n",
      "C:\\Users\\Azaz Alam\\Anaconda3\\lib\\site-packages\\sklearn\\svm\\base.py:196: FutureWarning: The default value of gamma will change from 'auto' to 'scale' in version 0.22 to account better for unscaled features. Set gamma explicitly to 'auto' or 'scale' to avoid this warning.\n",
      "  \"avoid this warning.\", FutureWarning)\n",
      "C:\\Users\\Azaz Alam\\Anaconda3\\lib\\site-packages\\sklearn\\svm\\base.py:196: FutureWarning: The default value of gamma will change from 'auto' to 'scale' in version 0.22 to account better for unscaled features. Set gamma explicitly to 'auto' or 'scale' to avoid this warning.\n",
      "  \"avoid this warning.\", FutureWarning)\n",
      "C:\\Users\\Azaz Alam\\Anaconda3\\lib\\site-packages\\sklearn\\svm\\base.py:196: FutureWarning: The default value of gamma will change from 'auto' to 'scale' in version 0.22 to account better for unscaled features. Set gamma explicitly to 'auto' or 'scale' to avoid this warning.\n",
      "  \"avoid this warning.\", FutureWarning)\n",
      "C:\\Users\\Azaz Alam\\Anaconda3\\lib\\site-packages\\sklearn\\svm\\base.py:196: FutureWarning: The default value of gamma will change from 'auto' to 'scale' in version 0.22 to account better for unscaled features. Set gamma explicitly to 'auto' or 'scale' to avoid this warning.\n",
      "  \"avoid this warning.\", FutureWarning)\n",
      "C:\\Users\\Azaz Alam\\Anaconda3\\lib\\site-packages\\sklearn\\svm\\base.py:196: FutureWarning: The default value of gamma will change from 'auto' to 'scale' in version 0.22 to account better for unscaled features. Set gamma explicitly to 'auto' or 'scale' to avoid this warning.\n",
      "  \"avoid this warning.\", FutureWarning)\n",
      "C:\\Users\\Azaz Alam\\Anaconda3\\lib\\site-packages\\sklearn\\svm\\base.py:196: FutureWarning: The default value of gamma will change from 'auto' to 'scale' in version 0.22 to account better for unscaled features. Set gamma explicitly to 'auto' or 'scale' to avoid this warning.\n",
      "  \"avoid this warning.\", FutureWarning)\n",
      "C:\\Users\\Azaz Alam\\Anaconda3\\lib\\site-packages\\sklearn\\svm\\base.py:196: FutureWarning: The default value of gamma will change from 'auto' to 'scale' in version 0.22 to account better for unscaled features. Set gamma explicitly to 'auto' or 'scale' to avoid this warning.\n",
      "  \"avoid this warning.\", FutureWarning)\n",
      "C:\\Users\\Azaz Alam\\Anaconda3\\lib\\site-packages\\sklearn\\svm\\base.py:196: FutureWarning: The default value of gamma will change from 'auto' to 'scale' in version 0.22 to account better for unscaled features. Set gamma explicitly to 'auto' or 'scale' to avoid this warning.\n",
      "  \"avoid this warning.\", FutureWarning)\n",
      "C:\\Users\\Azaz Alam\\Anaconda3\\lib\\site-packages\\sklearn\\svm\\base.py:196: FutureWarning: The default value of gamma will change from 'auto' to 'scale' in version 0.22 to account better for unscaled features. Set gamma explicitly to 'auto' or 'scale' to avoid this warning.\n",
      "  \"avoid this warning.\", FutureWarning)\n",
      "C:\\Users\\Azaz Alam\\Anaconda3\\lib\\site-packages\\sklearn\\svm\\base.py:196: FutureWarning: The default value of gamma will change from 'auto' to 'scale' in version 0.22 to account better for unscaled features. Set gamma explicitly to 'auto' or 'scale' to avoid this warning.\n",
      "  \"avoid this warning.\", FutureWarning)\n",
      "C:\\Users\\Azaz Alam\\Anaconda3\\lib\\site-packages\\sklearn\\svm\\base.py:196: FutureWarning: The default value of gamma will change from 'auto' to 'scale' in version 0.22 to account better for unscaled features. Set gamma explicitly to 'auto' or 'scale' to avoid this warning.\n",
      "  \"avoid this warning.\", FutureWarning)\n",
      "C:\\Users\\Azaz Alam\\Anaconda3\\lib\\site-packages\\sklearn\\svm\\base.py:196: FutureWarning: The default value of gamma will change from 'auto' to 'scale' in version 0.22 to account better for unscaled features. Set gamma explicitly to 'auto' or 'scale' to avoid this warning.\n",
      "  \"avoid this warning.\", FutureWarning)\n",
      "C:\\Users\\Azaz Alam\\Anaconda3\\lib\\site-packages\\sklearn\\svm\\base.py:196: FutureWarning: The default value of gamma will change from 'auto' to 'scale' in version 0.22 to account better for unscaled features. Set gamma explicitly to 'auto' or 'scale' to avoid this warning.\n",
      "  \"avoid this warning.\", FutureWarning)\n",
      "C:\\Users\\Azaz Alam\\Anaconda3\\lib\\site-packages\\sklearn\\svm\\base.py:196: FutureWarning: The default value of gamma will change from 'auto' to 'scale' in version 0.22 to account better for unscaled features. Set gamma explicitly to 'auto' or 'scale' to avoid this warning.\n",
      "  \"avoid this warning.\", FutureWarning)\n",
      "C:\\Users\\Azaz Alam\\Anaconda3\\lib\\site-packages\\sklearn\\svm\\base.py:196: FutureWarning: The default value of gamma will change from 'auto' to 'scale' in version 0.22 to account better for unscaled features. Set gamma explicitly to 'auto' or 'scale' to avoid this warning.\n",
      "  \"avoid this warning.\", FutureWarning)\n",
      "C:\\Users\\Azaz Alam\\Anaconda3\\lib\\site-packages\\sklearn\\svm\\base.py:196: FutureWarning: The default value of gamma will change from 'auto' to 'scale' in version 0.22 to account better for unscaled features. Set gamma explicitly to 'auto' or 'scale' to avoid this warning.\n",
      "  \"avoid this warning.\", FutureWarning)\n",
      "C:\\Users\\Azaz Alam\\Anaconda3\\lib\\site-packages\\sklearn\\svm\\base.py:196: FutureWarning: The default value of gamma will change from 'auto' to 'scale' in version 0.22 to account better for unscaled features. Set gamma explicitly to 'auto' or 'scale' to avoid this warning.\n",
      "  \"avoid this warning.\", FutureWarning)\n",
      "C:\\Users\\Azaz Alam\\Anaconda3\\lib\\site-packages\\sklearn\\svm\\base.py:196: FutureWarning: The default value of gamma will change from 'auto' to 'scale' in version 0.22 to account better for unscaled features. Set gamma explicitly to 'auto' or 'scale' to avoid this warning.\n",
      "  \"avoid this warning.\", FutureWarning)\n",
      "C:\\Users\\Azaz Alam\\Anaconda3\\lib\\site-packages\\sklearn\\svm\\base.py:196: FutureWarning: The default value of gamma will change from 'auto' to 'scale' in version 0.22 to account better for unscaled features. Set gamma explicitly to 'auto' or 'scale' to avoid this warning.\n",
      "  \"avoid this warning.\", FutureWarning)\n",
      "C:\\Users\\Azaz Alam\\Anaconda3\\lib\\site-packages\\sklearn\\svm\\base.py:196: FutureWarning: The default value of gamma will change from 'auto' to 'scale' in version 0.22 to account better for unscaled features. Set gamma explicitly to 'auto' or 'scale' to avoid this warning.\n",
      "  \"avoid this warning.\", FutureWarning)\n",
      "C:\\Users\\Azaz Alam\\Anaconda3\\lib\\site-packages\\sklearn\\svm\\base.py:196: FutureWarning: The default value of gamma will change from 'auto' to 'scale' in version 0.22 to account better for unscaled features. Set gamma explicitly to 'auto' or 'scale' to avoid this warning.\n",
      "  \"avoid this warning.\", FutureWarning)\n",
      "C:\\Users\\Azaz Alam\\Anaconda3\\lib\\site-packages\\sklearn\\svm\\base.py:196: FutureWarning: The default value of gamma will change from 'auto' to 'scale' in version 0.22 to account better for unscaled features. Set gamma explicitly to 'auto' or 'scale' to avoid this warning.\n",
      "  \"avoid this warning.\", FutureWarning)\n",
      "C:\\Users\\Azaz Alam\\Anaconda3\\lib\\site-packages\\sklearn\\svm\\base.py:196: FutureWarning: The default value of gamma will change from 'auto' to 'scale' in version 0.22 to account better for unscaled features. Set gamma explicitly to 'auto' or 'scale' to avoid this warning.\n",
      "  \"avoid this warning.\", FutureWarning)\n",
      "C:\\Users\\Azaz Alam\\Anaconda3\\lib\\site-packages\\sklearn\\svm\\base.py:196: FutureWarning: The default value of gamma will change from 'auto' to 'scale' in version 0.22 to account better for unscaled features. Set gamma explicitly to 'auto' or 'scale' to avoid this warning.\n",
      "  \"avoid this warning.\", FutureWarning)\n",
      "C:\\Users\\Azaz Alam\\Anaconda3\\lib\\site-packages\\sklearn\\svm\\base.py:196: FutureWarning: The default value of gamma will change from 'auto' to 'scale' in version 0.22 to account better for unscaled features. Set gamma explicitly to 'auto' or 'scale' to avoid this warning.\n",
      "  \"avoid this warning.\", FutureWarning)\n"
     ]
    },
    {
     "name": "stderr",
     "output_type": "stream",
     "text": [
      "C:\\Users\\Azaz Alam\\Anaconda3\\lib\\site-packages\\sklearn\\svm\\base.py:196: FutureWarning: The default value of gamma will change from 'auto' to 'scale' in version 0.22 to account better for unscaled features. Set gamma explicitly to 'auto' or 'scale' to avoid this warning.\n",
      "  \"avoid this warning.\", FutureWarning)\n",
      "C:\\Users\\Azaz Alam\\Anaconda3\\lib\\site-packages\\sklearn\\svm\\base.py:196: FutureWarning: The default value of gamma will change from 'auto' to 'scale' in version 0.22 to account better for unscaled features. Set gamma explicitly to 'auto' or 'scale' to avoid this warning.\n",
      "  \"avoid this warning.\", FutureWarning)\n",
      "C:\\Users\\Azaz Alam\\Anaconda3\\lib\\site-packages\\sklearn\\svm\\base.py:196: FutureWarning: The default value of gamma will change from 'auto' to 'scale' in version 0.22 to account better for unscaled features. Set gamma explicitly to 'auto' or 'scale' to avoid this warning.\n",
      "  \"avoid this warning.\", FutureWarning)\n",
      "C:\\Users\\Azaz Alam\\Anaconda3\\lib\\site-packages\\sklearn\\svm\\base.py:196: FutureWarning: The default value of gamma will change from 'auto' to 'scale' in version 0.22 to account better for unscaled features. Set gamma explicitly to 'auto' or 'scale' to avoid this warning.\n",
      "  \"avoid this warning.\", FutureWarning)\n",
      "C:\\Users\\Azaz Alam\\Anaconda3\\lib\\site-packages\\sklearn\\svm\\base.py:196: FutureWarning: The default value of gamma will change from 'auto' to 'scale' in version 0.22 to account better for unscaled features. Set gamma explicitly to 'auto' or 'scale' to avoid this warning.\n",
      "  \"avoid this warning.\", FutureWarning)\n",
      "C:\\Users\\Azaz Alam\\Anaconda3\\lib\\site-packages\\sklearn\\svm\\base.py:196: FutureWarning: The default value of gamma will change from 'auto' to 'scale' in version 0.22 to account better for unscaled features. Set gamma explicitly to 'auto' or 'scale' to avoid this warning.\n",
      "  \"avoid this warning.\", FutureWarning)\n",
      "C:\\Users\\Azaz Alam\\Anaconda3\\lib\\site-packages\\sklearn\\svm\\base.py:196: FutureWarning: The default value of gamma will change from 'auto' to 'scale' in version 0.22 to account better for unscaled features. Set gamma explicitly to 'auto' or 'scale' to avoid this warning.\n",
      "  \"avoid this warning.\", FutureWarning)\n",
      "C:\\Users\\Azaz Alam\\Anaconda3\\lib\\site-packages\\sklearn\\svm\\base.py:196: FutureWarning: The default value of gamma will change from 'auto' to 'scale' in version 0.22 to account better for unscaled features. Set gamma explicitly to 'auto' or 'scale' to avoid this warning.\n",
      "  \"avoid this warning.\", FutureWarning)\n",
      "C:\\Users\\Azaz Alam\\Anaconda3\\lib\\site-packages\\sklearn\\svm\\base.py:196: FutureWarning: The default value of gamma will change from 'auto' to 'scale' in version 0.22 to account better for unscaled features. Set gamma explicitly to 'auto' or 'scale' to avoid this warning.\n",
      "  \"avoid this warning.\", FutureWarning)\n",
      "C:\\Users\\Azaz Alam\\Anaconda3\\lib\\site-packages\\sklearn\\svm\\base.py:196: FutureWarning: The default value of gamma will change from 'auto' to 'scale' in version 0.22 to account better for unscaled features. Set gamma explicitly to 'auto' or 'scale' to avoid this warning.\n",
      "  \"avoid this warning.\", FutureWarning)\n",
      "C:\\Users\\Azaz Alam\\Anaconda3\\lib\\site-packages\\sklearn\\svm\\base.py:196: FutureWarning: The default value of gamma will change from 'auto' to 'scale' in version 0.22 to account better for unscaled features. Set gamma explicitly to 'auto' or 'scale' to avoid this warning.\n",
      "  \"avoid this warning.\", FutureWarning)\n"
     ]
    },
    {
     "ename": "KeyboardInterrupt",
     "evalue": "",
     "output_type": "error",
     "traceback": [
      "\u001b[1;31m---------------------------------------------------------------------------\u001b[0m",
      "\u001b[1;31mKeyboardInterrupt\u001b[0m                         Traceback (most recent call last)",
      "\u001b[1;32m<ipython-input-31-4f65c130d60f>\u001b[0m in \u001b[0;36m<module>\u001b[1;34m\u001b[0m\n\u001b[0;32m      7\u001b[0m     \u001b[1;32mfor\u001b[0m \u001b[0mj\u001b[0m \u001b[1;32min\u001b[0m \u001b[0mrange\u001b[0m \u001b[1;33m(\u001b[0m\u001b[1;36m1\u001b[0m\u001b[1;33m,\u001b[0m\u001b[1;36m5\u001b[0m\u001b[1;33m)\u001b[0m\u001b[1;33m:\u001b[0m\u001b[1;33m\u001b[0m\u001b[1;33m\u001b[0m\u001b[0m\n\u001b[0;32m      8\u001b[0m         \u001b[0mpoly_svc\u001b[0m \u001b[1;33m=\u001b[0m \u001b[0mSVC\u001b[0m\u001b[1;33m(\u001b[0m\u001b[0mC\u001b[0m\u001b[1;33m=\u001b[0m\u001b[1;36m2\u001b[0m\u001b[1;33m**\u001b[0m\u001b[0mi\u001b[0m\u001b[1;33m,\u001b[0m \u001b[0mkernel\u001b[0m\u001b[1;33m=\u001b[0m\u001b[1;34m'poly'\u001b[0m\u001b[1;33m,\u001b[0m \u001b[0mdegree\u001b[0m\u001b[1;33m=\u001b[0m\u001b[0mj\u001b[0m\u001b[1;33m)\u001b[0m\u001b[1;33m.\u001b[0m\u001b[0mfit\u001b[0m\u001b[1;33m(\u001b[0m\u001b[0minitial\u001b[0m\u001b[1;33m,\u001b[0m \u001b[0mY\u001b[0m\u001b[1;33m)\u001b[0m\u001b[1;33m\u001b[0m\u001b[1;33m\u001b[0m\u001b[0m\n\u001b[1;32m----> 9\u001b[1;33m         \u001b[0mscores\u001b[0m \u001b[1;33m=\u001b[0m \u001b[0mcross_val_score\u001b[0m\u001b[1;33m(\u001b[0m\u001b[0mpoly_svc\u001b[0m\u001b[1;33m,\u001b[0m\u001b[0minitial\u001b[0m\u001b[1;33m,\u001b[0m\u001b[0mY\u001b[0m\u001b[1;33m,\u001b[0m\u001b[0mfold\u001b[0m\u001b[1;33m,\u001b[0m\u001b[1;34m'accuracy'\u001b[0m\u001b[1;33m,\u001b[0m\u001b[1;36m10\u001b[0m\u001b[1;33m)\u001b[0m\u001b[1;33m\u001b[0m\u001b[1;33m\u001b[0m\u001b[0m\n\u001b[0m\u001b[0;32m     10\u001b[0m         \u001b[0my\u001b[0m\u001b[1;33m[\u001b[0m\u001b[0mj\u001b[0m\u001b[1;33m-\u001b[0m\u001b[1;36m1\u001b[0m\u001b[1;33m]\u001b[0m\u001b[1;33m.\u001b[0m\u001b[0mappend\u001b[0m\u001b[1;33m(\u001b[0m\u001b[0mnp\u001b[0m\u001b[1;33m.\u001b[0m\u001b[0mmean\u001b[0m\u001b[1;33m(\u001b[0m\u001b[0mscores\u001b[0m\u001b[1;33m)\u001b[0m\u001b[1;33m)\u001b[0m\u001b[1;33m\u001b[0m\u001b[1;33m\u001b[0m\u001b[0m\n\u001b[0;32m     11\u001b[0m     \u001b[0mx\u001b[0m\u001b[1;33m.\u001b[0m\u001b[0mappend\u001b[0m\u001b[1;33m(\u001b[0m\u001b[1;36m2\u001b[0m\u001b[1;33m**\u001b[0m\u001b[0mi\u001b[0m\u001b[1;33m)\u001b[0m\u001b[1;33m\u001b[0m\u001b[1;33m\u001b[0m\u001b[0m\n",
      "\u001b[1;32m~\\Anaconda3\\lib\\site-packages\\sklearn\\model_selection\\_validation.py\u001b[0m in \u001b[0;36mcross_val_score\u001b[1;34m(estimator, X, y, groups, scoring, cv, n_jobs, verbose, fit_params, pre_dispatch, error_score)\u001b[0m\n\u001b[0;32m    400\u001b[0m                                 \u001b[0mfit_params\u001b[0m\u001b[1;33m=\u001b[0m\u001b[0mfit_params\u001b[0m\u001b[1;33m,\u001b[0m\u001b[1;33m\u001b[0m\u001b[1;33m\u001b[0m\u001b[0m\n\u001b[0;32m    401\u001b[0m                                 \u001b[0mpre_dispatch\u001b[0m\u001b[1;33m=\u001b[0m\u001b[0mpre_dispatch\u001b[0m\u001b[1;33m,\u001b[0m\u001b[1;33m\u001b[0m\u001b[1;33m\u001b[0m\u001b[0m\n\u001b[1;32m--> 402\u001b[1;33m                                 error_score=error_score)\n\u001b[0m\u001b[0;32m    403\u001b[0m     \u001b[1;32mreturn\u001b[0m \u001b[0mcv_results\u001b[0m\u001b[1;33m[\u001b[0m\u001b[1;34m'test_score'\u001b[0m\u001b[1;33m]\u001b[0m\u001b[1;33m\u001b[0m\u001b[1;33m\u001b[0m\u001b[0m\n\u001b[0;32m    404\u001b[0m \u001b[1;33m\u001b[0m\u001b[0m\n",
      "\u001b[1;32m~\\Anaconda3\\lib\\site-packages\\sklearn\\model_selection\\_validation.py\u001b[0m in \u001b[0;36mcross_validate\u001b[1;34m(estimator, X, y, groups, scoring, cv, n_jobs, verbose, fit_params, pre_dispatch, return_train_score, return_estimator, error_score)\u001b[0m\n\u001b[0;32m    238\u001b[0m             \u001b[0mreturn_times\u001b[0m\u001b[1;33m=\u001b[0m\u001b[1;32mTrue\u001b[0m\u001b[1;33m,\u001b[0m \u001b[0mreturn_estimator\u001b[0m\u001b[1;33m=\u001b[0m\u001b[0mreturn_estimator\u001b[0m\u001b[1;33m,\u001b[0m\u001b[1;33m\u001b[0m\u001b[1;33m\u001b[0m\u001b[0m\n\u001b[0;32m    239\u001b[0m             error_score=error_score)\n\u001b[1;32m--> 240\u001b[1;33m         for train, test in cv.split(X, y, groups))\n\u001b[0m\u001b[0;32m    241\u001b[0m \u001b[1;33m\u001b[0m\u001b[0m\n\u001b[0;32m    242\u001b[0m     \u001b[0mzipped_scores\u001b[0m \u001b[1;33m=\u001b[0m \u001b[0mlist\u001b[0m\u001b[1;33m(\u001b[0m\u001b[0mzip\u001b[0m\u001b[1;33m(\u001b[0m\u001b[1;33m*\u001b[0m\u001b[0mscores\u001b[0m\u001b[1;33m)\u001b[0m\u001b[1;33m)\u001b[0m\u001b[1;33m\u001b[0m\u001b[1;33m\u001b[0m\u001b[0m\n",
      "\u001b[1;32m~\\Anaconda3\\lib\\site-packages\\sklearn\\externals\\joblib\\parallel.py\u001b[0m in \u001b[0;36m__call__\u001b[1;34m(self, iterable)\u001b[0m\n\u001b[0;32m    918\u001b[0m                 \u001b[0mself\u001b[0m\u001b[1;33m.\u001b[0m\u001b[0m_iterating\u001b[0m \u001b[1;33m=\u001b[0m \u001b[0mself\u001b[0m\u001b[1;33m.\u001b[0m\u001b[0m_original_iterator\u001b[0m \u001b[1;32mis\u001b[0m \u001b[1;32mnot\u001b[0m \u001b[1;32mNone\u001b[0m\u001b[1;33m\u001b[0m\u001b[1;33m\u001b[0m\u001b[0m\n\u001b[0;32m    919\u001b[0m \u001b[1;33m\u001b[0m\u001b[0m\n\u001b[1;32m--> 920\u001b[1;33m             \u001b[1;32mwhile\u001b[0m \u001b[0mself\u001b[0m\u001b[1;33m.\u001b[0m\u001b[0mdispatch_one_batch\u001b[0m\u001b[1;33m(\u001b[0m\u001b[0miterator\u001b[0m\u001b[1;33m)\u001b[0m\u001b[1;33m:\u001b[0m\u001b[1;33m\u001b[0m\u001b[1;33m\u001b[0m\u001b[0m\n\u001b[0m\u001b[0;32m    921\u001b[0m                 \u001b[1;32mpass\u001b[0m\u001b[1;33m\u001b[0m\u001b[1;33m\u001b[0m\u001b[0m\n\u001b[0;32m    922\u001b[0m \u001b[1;33m\u001b[0m\u001b[0m\n",
      "\u001b[1;32m~\\Anaconda3\\lib\\site-packages\\sklearn\\externals\\joblib\\parallel.py\u001b[0m in \u001b[0;36mdispatch_one_batch\u001b[1;34m(self, iterator)\u001b[0m\n\u001b[0;32m    757\u001b[0m                 \u001b[1;32mreturn\u001b[0m \u001b[1;32mFalse\u001b[0m\u001b[1;33m\u001b[0m\u001b[1;33m\u001b[0m\u001b[0m\n\u001b[0;32m    758\u001b[0m             \u001b[1;32melse\u001b[0m\u001b[1;33m:\u001b[0m\u001b[1;33m\u001b[0m\u001b[1;33m\u001b[0m\u001b[0m\n\u001b[1;32m--> 759\u001b[1;33m                 \u001b[0mself\u001b[0m\u001b[1;33m.\u001b[0m\u001b[0m_dispatch\u001b[0m\u001b[1;33m(\u001b[0m\u001b[0mtasks\u001b[0m\u001b[1;33m)\u001b[0m\u001b[1;33m\u001b[0m\u001b[1;33m\u001b[0m\u001b[0m\n\u001b[0m\u001b[0;32m    760\u001b[0m                 \u001b[1;32mreturn\u001b[0m \u001b[1;32mTrue\u001b[0m\u001b[1;33m\u001b[0m\u001b[1;33m\u001b[0m\u001b[0m\n\u001b[0;32m    761\u001b[0m \u001b[1;33m\u001b[0m\u001b[0m\n",
      "\u001b[1;32m~\\Anaconda3\\lib\\site-packages\\sklearn\\externals\\joblib\\parallel.py\u001b[0m in \u001b[0;36m_dispatch\u001b[1;34m(self, batch)\u001b[0m\n\u001b[0;32m    714\u001b[0m         \u001b[1;32mwith\u001b[0m \u001b[0mself\u001b[0m\u001b[1;33m.\u001b[0m\u001b[0m_lock\u001b[0m\u001b[1;33m:\u001b[0m\u001b[1;33m\u001b[0m\u001b[1;33m\u001b[0m\u001b[0m\n\u001b[0;32m    715\u001b[0m             \u001b[0mjob_idx\u001b[0m \u001b[1;33m=\u001b[0m \u001b[0mlen\u001b[0m\u001b[1;33m(\u001b[0m\u001b[0mself\u001b[0m\u001b[1;33m.\u001b[0m\u001b[0m_jobs\u001b[0m\u001b[1;33m)\u001b[0m\u001b[1;33m\u001b[0m\u001b[1;33m\u001b[0m\u001b[0m\n\u001b[1;32m--> 716\u001b[1;33m             \u001b[0mjob\u001b[0m \u001b[1;33m=\u001b[0m \u001b[0mself\u001b[0m\u001b[1;33m.\u001b[0m\u001b[0m_backend\u001b[0m\u001b[1;33m.\u001b[0m\u001b[0mapply_async\u001b[0m\u001b[1;33m(\u001b[0m\u001b[0mbatch\u001b[0m\u001b[1;33m,\u001b[0m \u001b[0mcallback\u001b[0m\u001b[1;33m=\u001b[0m\u001b[0mcb\u001b[0m\u001b[1;33m)\u001b[0m\u001b[1;33m\u001b[0m\u001b[1;33m\u001b[0m\u001b[0m\n\u001b[0m\u001b[0;32m    717\u001b[0m             \u001b[1;31m# A job can complete so quickly than its callback is\u001b[0m\u001b[1;33m\u001b[0m\u001b[1;33m\u001b[0m\u001b[1;33m\u001b[0m\u001b[0m\n\u001b[0;32m    718\u001b[0m             \u001b[1;31m# called before we get here, causing self._jobs to\u001b[0m\u001b[1;33m\u001b[0m\u001b[1;33m\u001b[0m\u001b[1;33m\u001b[0m\u001b[0m\n",
      "\u001b[1;32m~\\Anaconda3\\lib\\site-packages\\sklearn\\externals\\joblib\\_parallel_backends.py\u001b[0m in \u001b[0;36mapply_async\u001b[1;34m(self, func, callback)\u001b[0m\n\u001b[0;32m    180\u001b[0m     \u001b[1;32mdef\u001b[0m \u001b[0mapply_async\u001b[0m\u001b[1;33m(\u001b[0m\u001b[0mself\u001b[0m\u001b[1;33m,\u001b[0m \u001b[0mfunc\u001b[0m\u001b[1;33m,\u001b[0m \u001b[0mcallback\u001b[0m\u001b[1;33m=\u001b[0m\u001b[1;32mNone\u001b[0m\u001b[1;33m)\u001b[0m\u001b[1;33m:\u001b[0m\u001b[1;33m\u001b[0m\u001b[1;33m\u001b[0m\u001b[0m\n\u001b[0;32m    181\u001b[0m         \u001b[1;34m\"\"\"Schedule a func to be run\"\"\"\u001b[0m\u001b[1;33m\u001b[0m\u001b[1;33m\u001b[0m\u001b[0m\n\u001b[1;32m--> 182\u001b[1;33m         \u001b[0mresult\u001b[0m \u001b[1;33m=\u001b[0m \u001b[0mImmediateResult\u001b[0m\u001b[1;33m(\u001b[0m\u001b[0mfunc\u001b[0m\u001b[1;33m)\u001b[0m\u001b[1;33m\u001b[0m\u001b[1;33m\u001b[0m\u001b[0m\n\u001b[0m\u001b[0;32m    183\u001b[0m         \u001b[1;32mif\u001b[0m \u001b[0mcallback\u001b[0m\u001b[1;33m:\u001b[0m\u001b[1;33m\u001b[0m\u001b[1;33m\u001b[0m\u001b[0m\n\u001b[0;32m    184\u001b[0m             \u001b[0mcallback\u001b[0m\u001b[1;33m(\u001b[0m\u001b[0mresult\u001b[0m\u001b[1;33m)\u001b[0m\u001b[1;33m\u001b[0m\u001b[1;33m\u001b[0m\u001b[0m\n",
      "\u001b[1;32m~\\Anaconda3\\lib\\site-packages\\sklearn\\externals\\joblib\\_parallel_backends.py\u001b[0m in \u001b[0;36m__init__\u001b[1;34m(self, batch)\u001b[0m\n\u001b[0;32m    547\u001b[0m         \u001b[1;31m# Don't delay the application, to avoid keeping the input\u001b[0m\u001b[1;33m\u001b[0m\u001b[1;33m\u001b[0m\u001b[1;33m\u001b[0m\u001b[0m\n\u001b[0;32m    548\u001b[0m         \u001b[1;31m# arguments in memory\u001b[0m\u001b[1;33m\u001b[0m\u001b[1;33m\u001b[0m\u001b[1;33m\u001b[0m\u001b[0m\n\u001b[1;32m--> 549\u001b[1;33m         \u001b[0mself\u001b[0m\u001b[1;33m.\u001b[0m\u001b[0mresults\u001b[0m \u001b[1;33m=\u001b[0m \u001b[0mbatch\u001b[0m\u001b[1;33m(\u001b[0m\u001b[1;33m)\u001b[0m\u001b[1;33m\u001b[0m\u001b[1;33m\u001b[0m\u001b[0m\n\u001b[0m\u001b[0;32m    550\u001b[0m \u001b[1;33m\u001b[0m\u001b[0m\n\u001b[0;32m    551\u001b[0m     \u001b[1;32mdef\u001b[0m \u001b[0mget\u001b[0m\u001b[1;33m(\u001b[0m\u001b[0mself\u001b[0m\u001b[1;33m)\u001b[0m\u001b[1;33m:\u001b[0m\u001b[1;33m\u001b[0m\u001b[1;33m\u001b[0m\u001b[0m\n",
      "\u001b[1;32m~\\Anaconda3\\lib\\site-packages\\sklearn\\externals\\joblib\\parallel.py\u001b[0m in \u001b[0;36m__call__\u001b[1;34m(self)\u001b[0m\n\u001b[0;32m    223\u001b[0m         \u001b[1;32mwith\u001b[0m \u001b[0mparallel_backend\u001b[0m\u001b[1;33m(\u001b[0m\u001b[0mself\u001b[0m\u001b[1;33m.\u001b[0m\u001b[0m_backend\u001b[0m\u001b[1;33m,\u001b[0m \u001b[0mn_jobs\u001b[0m\u001b[1;33m=\u001b[0m\u001b[0mself\u001b[0m\u001b[1;33m.\u001b[0m\u001b[0m_n_jobs\u001b[0m\u001b[1;33m)\u001b[0m\u001b[1;33m:\u001b[0m\u001b[1;33m\u001b[0m\u001b[1;33m\u001b[0m\u001b[0m\n\u001b[0;32m    224\u001b[0m             return [func(*args, **kwargs)\n\u001b[1;32m--> 225\u001b[1;33m                     for func, args, kwargs in self.items]\n\u001b[0m\u001b[0;32m    226\u001b[0m \u001b[1;33m\u001b[0m\u001b[0m\n\u001b[0;32m    227\u001b[0m     \u001b[1;32mdef\u001b[0m \u001b[0m__len__\u001b[0m\u001b[1;33m(\u001b[0m\u001b[0mself\u001b[0m\u001b[1;33m)\u001b[0m\u001b[1;33m:\u001b[0m\u001b[1;33m\u001b[0m\u001b[1;33m\u001b[0m\u001b[0m\n",
      "\u001b[1;32m~\\Anaconda3\\lib\\site-packages\\sklearn\\externals\\joblib\\parallel.py\u001b[0m in \u001b[0;36m<listcomp>\u001b[1;34m(.0)\u001b[0m\n\u001b[0;32m    223\u001b[0m         \u001b[1;32mwith\u001b[0m \u001b[0mparallel_backend\u001b[0m\u001b[1;33m(\u001b[0m\u001b[0mself\u001b[0m\u001b[1;33m.\u001b[0m\u001b[0m_backend\u001b[0m\u001b[1;33m,\u001b[0m \u001b[0mn_jobs\u001b[0m\u001b[1;33m=\u001b[0m\u001b[0mself\u001b[0m\u001b[1;33m.\u001b[0m\u001b[0m_n_jobs\u001b[0m\u001b[1;33m)\u001b[0m\u001b[1;33m:\u001b[0m\u001b[1;33m\u001b[0m\u001b[1;33m\u001b[0m\u001b[0m\n\u001b[0;32m    224\u001b[0m             return [func(*args, **kwargs)\n\u001b[1;32m--> 225\u001b[1;33m                     for func, args, kwargs in self.items]\n\u001b[0m\u001b[0;32m    226\u001b[0m \u001b[1;33m\u001b[0m\u001b[0m\n\u001b[0;32m    227\u001b[0m     \u001b[1;32mdef\u001b[0m \u001b[0m__len__\u001b[0m\u001b[1;33m(\u001b[0m\u001b[0mself\u001b[0m\u001b[1;33m)\u001b[0m\u001b[1;33m:\u001b[0m\u001b[1;33m\u001b[0m\u001b[1;33m\u001b[0m\u001b[0m\n",
      "\u001b[1;32m~\\Anaconda3\\lib\\site-packages\\sklearn\\model_selection\\_validation.py\u001b[0m in \u001b[0;36m_fit_and_score\u001b[1;34m(estimator, X, y, scorer, train, test, verbose, parameters, fit_params, return_train_score, return_parameters, return_n_test_samples, return_times, return_estimator, error_score)\u001b[0m\n\u001b[0;32m    526\u001b[0m             \u001b[0mestimator\u001b[0m\u001b[1;33m.\u001b[0m\u001b[0mfit\u001b[0m\u001b[1;33m(\u001b[0m\u001b[0mX_train\u001b[0m\u001b[1;33m,\u001b[0m \u001b[1;33m**\u001b[0m\u001b[0mfit_params\u001b[0m\u001b[1;33m)\u001b[0m\u001b[1;33m\u001b[0m\u001b[1;33m\u001b[0m\u001b[0m\n\u001b[0;32m    527\u001b[0m         \u001b[1;32melse\u001b[0m\u001b[1;33m:\u001b[0m\u001b[1;33m\u001b[0m\u001b[1;33m\u001b[0m\u001b[0m\n\u001b[1;32m--> 528\u001b[1;33m             \u001b[0mestimator\u001b[0m\u001b[1;33m.\u001b[0m\u001b[0mfit\u001b[0m\u001b[1;33m(\u001b[0m\u001b[0mX_train\u001b[0m\u001b[1;33m,\u001b[0m \u001b[0my_train\u001b[0m\u001b[1;33m,\u001b[0m \u001b[1;33m**\u001b[0m\u001b[0mfit_params\u001b[0m\u001b[1;33m)\u001b[0m\u001b[1;33m\u001b[0m\u001b[1;33m\u001b[0m\u001b[0m\n\u001b[0m\u001b[0;32m    529\u001b[0m \u001b[1;33m\u001b[0m\u001b[0m\n\u001b[0;32m    530\u001b[0m     \u001b[1;32mexcept\u001b[0m \u001b[0mException\u001b[0m \u001b[1;32mas\u001b[0m \u001b[0me\u001b[0m\u001b[1;33m:\u001b[0m\u001b[1;33m\u001b[0m\u001b[1;33m\u001b[0m\u001b[0m\n",
      "\u001b[1;32m~\\Anaconda3\\lib\\site-packages\\sklearn\\svm\\base.py\u001b[0m in \u001b[0;36mfit\u001b[1;34m(self, X, y, sample_weight)\u001b[0m\n\u001b[0;32m    210\u001b[0m \u001b[1;33m\u001b[0m\u001b[0m\n\u001b[0;32m    211\u001b[0m         \u001b[0mseed\u001b[0m \u001b[1;33m=\u001b[0m \u001b[0mrnd\u001b[0m\u001b[1;33m.\u001b[0m\u001b[0mrandint\u001b[0m\u001b[1;33m(\u001b[0m\u001b[0mnp\u001b[0m\u001b[1;33m.\u001b[0m\u001b[0miinfo\u001b[0m\u001b[1;33m(\u001b[0m\u001b[1;34m'i'\u001b[0m\u001b[1;33m)\u001b[0m\u001b[1;33m.\u001b[0m\u001b[0mmax\u001b[0m\u001b[1;33m)\u001b[0m\u001b[1;33m\u001b[0m\u001b[1;33m\u001b[0m\u001b[0m\n\u001b[1;32m--> 212\u001b[1;33m         \u001b[0mfit\u001b[0m\u001b[1;33m(\u001b[0m\u001b[0mX\u001b[0m\u001b[1;33m,\u001b[0m \u001b[0my\u001b[0m\u001b[1;33m,\u001b[0m \u001b[0msample_weight\u001b[0m\u001b[1;33m,\u001b[0m \u001b[0msolver_type\u001b[0m\u001b[1;33m,\u001b[0m \u001b[0mkernel\u001b[0m\u001b[1;33m,\u001b[0m \u001b[0mrandom_seed\u001b[0m\u001b[1;33m=\u001b[0m\u001b[0mseed\u001b[0m\u001b[1;33m)\u001b[0m\u001b[1;33m\u001b[0m\u001b[1;33m\u001b[0m\u001b[0m\n\u001b[0m\u001b[0;32m    213\u001b[0m         \u001b[1;31m# see comment on the other call to np.iinfo in this file\u001b[0m\u001b[1;33m\u001b[0m\u001b[1;33m\u001b[0m\u001b[1;33m\u001b[0m\u001b[0m\n\u001b[0;32m    214\u001b[0m \u001b[1;33m\u001b[0m\u001b[0m\n",
      "\u001b[1;32m~\\Anaconda3\\lib\\site-packages\\sklearn\\svm\\base.py\u001b[0m in \u001b[0;36m_dense_fit\u001b[1;34m(self, X, y, sample_weight, solver_type, kernel, random_seed)\u001b[0m\n\u001b[0;32m    269\u001b[0m                 \u001b[0mcache_size\u001b[0m\u001b[1;33m=\u001b[0m\u001b[0mself\u001b[0m\u001b[1;33m.\u001b[0m\u001b[0mcache_size\u001b[0m\u001b[1;33m,\u001b[0m \u001b[0mcoef0\u001b[0m\u001b[1;33m=\u001b[0m\u001b[0mself\u001b[0m\u001b[1;33m.\u001b[0m\u001b[0mcoef0\u001b[0m\u001b[1;33m,\u001b[0m\u001b[1;33m\u001b[0m\u001b[1;33m\u001b[0m\u001b[0m\n\u001b[0;32m    270\u001b[0m                 \u001b[0mgamma\u001b[0m\u001b[1;33m=\u001b[0m\u001b[0mself\u001b[0m\u001b[1;33m.\u001b[0m\u001b[0m_gamma\u001b[0m\u001b[1;33m,\u001b[0m \u001b[0mepsilon\u001b[0m\u001b[1;33m=\u001b[0m\u001b[0mself\u001b[0m\u001b[1;33m.\u001b[0m\u001b[0mepsilon\u001b[0m\u001b[1;33m,\u001b[0m\u001b[1;33m\u001b[0m\u001b[1;33m\u001b[0m\u001b[0m\n\u001b[1;32m--> 271\u001b[1;33m                 max_iter=self.max_iter, random_seed=random_seed)\n\u001b[0m\u001b[0;32m    272\u001b[0m \u001b[1;33m\u001b[0m\u001b[0m\n\u001b[0;32m    273\u001b[0m         \u001b[0mself\u001b[0m\u001b[1;33m.\u001b[0m\u001b[0m_warn_from_fit_status\u001b[0m\u001b[1;33m(\u001b[0m\u001b[1;33m)\u001b[0m\u001b[1;33m\u001b[0m\u001b[1;33m\u001b[0m\u001b[0m\n",
      "\u001b[1;31mKeyboardInterrupt\u001b[0m: "
     ]
    }
   ],
   "source": [
    "from sklearn.svm import SVC\n",
    "x=[]\n",
    "y=[]\n",
    "for k in range (1,5):\n",
    "    y.append([])\n",
    "for i in range (0,4):\n",
    "    for j in range (1,5):\n",
    "        poly_svc = SVC(C=2**i, kernel='poly', degree=j).fit(initial, Y)\n",
    "        scores = cross_val_score(poly_svc,initial,Y,fold,'accuracy',10)\n",
    "        y[j-1].append(np.mean(scores))\n",
    "    x.append(2**i)    \n",
    "\n",
    "plt.plot(x,y[0],'r-',\n",
    "         x,y[1],'g-',\n",
    "         x,y[2],'b-',\n",
    "         x,y[3],'y-')\n",
    "plt.show()"
   ]
  },
  {
   "cell_type": "markdown",
   "metadata": {},
   "source": [
    "X-axis is error penalty (C) term\n",
    "Y-axis is accuracy\n",
    "Red=Degree 1\n",
    "Green=Degree 2   \n",
    "Blue=Degree 3   \n",
    "Yellow=Degree 4\n",
    "\n",
    "Degree 2 is picked for best performance against linear model. Error penalty value of 8 is picked for best performance."
   ]
  },
  {
   "cell_type": "code",
   "execution_count": null,
   "metadata": {},
   "outputs": [
    {
     "name": "stderr",
     "output_type": "stream",
     "text": [
      "C:\\Users\\Azaz Alam\\Anaconda3\\lib\\site-packages\\sklearn\\svm\\base.py:196: FutureWarning: The default value of gamma will change from 'auto' to 'scale' in version 0.22 to account better for unscaled features. Set gamma explicitly to 'auto' or 'scale' to avoid this warning.\n",
      "  \"avoid this warning.\", FutureWarning)\n",
      "C:\\Users\\Azaz Alam\\Anaconda3\\lib\\site-packages\\sklearn\\svm\\base.py:196: FutureWarning: The default value of gamma will change from 'auto' to 'scale' in version 0.22 to account better for unscaled features. Set gamma explicitly to 'auto' or 'scale' to avoid this warning.\n",
      "  \"avoid this warning.\", FutureWarning)\n",
      "C:\\Users\\Azaz Alam\\Anaconda3\\lib\\site-packages\\sklearn\\svm\\base.py:196: FutureWarning: The default value of gamma will change from 'auto' to 'scale' in version 0.22 to account better for unscaled features. Set gamma explicitly to 'auto' or 'scale' to avoid this warning.\n",
      "  \"avoid this warning.\", FutureWarning)\n",
      "C:\\Users\\Azaz Alam\\Anaconda3\\lib\\site-packages\\sklearn\\svm\\base.py:196: FutureWarning: The default value of gamma will change from 'auto' to 'scale' in version 0.22 to account better for unscaled features. Set gamma explicitly to 'auto' or 'scale' to avoid this warning.\n",
      "  \"avoid this warning.\", FutureWarning)\n",
      "C:\\Users\\Azaz Alam\\Anaconda3\\lib\\site-packages\\sklearn\\svm\\base.py:196: FutureWarning: The default value of gamma will change from 'auto' to 'scale' in version 0.22 to account better for unscaled features. Set gamma explicitly to 'auto' or 'scale' to avoid this warning.\n",
      "  \"avoid this warning.\", FutureWarning)\n",
      "C:\\Users\\Azaz Alam\\Anaconda3\\lib\\site-packages\\sklearn\\svm\\base.py:196: FutureWarning: The default value of gamma will change from 'auto' to 'scale' in version 0.22 to account better for unscaled features. Set gamma explicitly to 'auto' or 'scale' to avoid this warning.\n",
      "  \"avoid this warning.\", FutureWarning)\n",
      "C:\\Users\\Azaz Alam\\Anaconda3\\lib\\site-packages\\sklearn\\svm\\base.py:196: FutureWarning: The default value of gamma will change from 'auto' to 'scale' in version 0.22 to account better for unscaled features. Set gamma explicitly to 'auto' or 'scale' to avoid this warning.\n",
      "  \"avoid this warning.\", FutureWarning)\n",
      "C:\\Users\\Azaz Alam\\Anaconda3\\lib\\site-packages\\sklearn\\svm\\base.py:196: FutureWarning: The default value of gamma will change from 'auto' to 'scale' in version 0.22 to account better for unscaled features. Set gamma explicitly to 'auto' or 'scale' to avoid this warning.\n",
      "  \"avoid this warning.\", FutureWarning)\n",
      "C:\\Users\\Azaz Alam\\Anaconda3\\lib\\site-packages\\sklearn\\svm\\base.py:196: FutureWarning: The default value of gamma will change from 'auto' to 'scale' in version 0.22 to account better for unscaled features. Set gamma explicitly to 'auto' or 'scale' to avoid this warning.\n",
      "  \"avoid this warning.\", FutureWarning)\n",
      "C:\\Users\\Azaz Alam\\Anaconda3\\lib\\site-packages\\sklearn\\svm\\base.py:196: FutureWarning: The default value of gamma will change from 'auto' to 'scale' in version 0.22 to account better for unscaled features. Set gamma explicitly to 'auto' or 'scale' to avoid this warning.\n",
      "  \"avoid this warning.\", FutureWarning)\n"
     ]
    }
   ],
   "source": [
    "poly_svc = SVC(C=8, kernel='poly', degree=2).fit(initial, Y)\n",
    "scores = cross_val_score(poly_svc,initial,Y,fold,'accuracy',10)\n",
    "print ('Cross validation accuracy is', np.mean(scores)*100)\n",
    "scores = cross_val_score(poly_svc,initial,Y,fold,'precision',10)\n",
    "print ('Cross validation precision is', np.mean(scores)*100)\n",
    "scores = cross_val_score(poly_svc,initial,Y,fold,'recall',10)\n",
    "print ('Cross validation recall is', np.mean(scores)*100)"
   ]
  },
  {
   "cell_type": "markdown",
   "metadata": {},
   "source": [
    "There is no reasonable method for evaluation of most predictive features with a Polynomial SVC.\n",
    "\n",
    "Compared with Linear SVC on this data set a polynomial SVC of degree 2 is able to slightly outperform the linear SVC on classification."
   ]
  },
  {
   "cell_type": "code",
   "execution_count": 32,
   "metadata": {},
   "outputs": [],
   "source": [
    "df=pd.read_csv('communities-crime-full.csv')\n",
    "df['highCrime'] = np.where(df['ViolentCrimesPerPop']>0.1, 1, 0)\n",
    "Y = df['highCrime']\n",
    "fold=df['fold']"
   ]
  },
  {
   "cell_type": "code",
   "execution_count": 33,
   "metadata": {},
   "outputs": [
    {
     "name": "stderr",
     "output_type": "stream",
     "text": [
      "C:\\Users\\Azaz Alam\\Anaconda3\\lib\\site-packages\\sklearn\\svm\\base.py:196: FutureWarning: The default value of gamma will change from 'auto' to 'scale' in version 0.22 to account better for unscaled features. Set gamma explicitly to 'auto' or 'scale' to avoid this warning.\n",
      "  \"avoid this warning.\", FutureWarning)\n",
      "C:\\Users\\Azaz Alam\\Anaconda3\\lib\\site-packages\\sklearn\\svm\\base.py:196: FutureWarning: The default value of gamma will change from 'auto' to 'scale' in version 0.22 to account better for unscaled features. Set gamma explicitly to 'auto' or 'scale' to avoid this warning.\n",
      "  \"avoid this warning.\", FutureWarning)\n",
      "C:\\Users\\Azaz Alam\\Anaconda3\\lib\\site-packages\\sklearn\\svm\\base.py:196: FutureWarning: The default value of gamma will change from 'auto' to 'scale' in version 0.22 to account better for unscaled features. Set gamma explicitly to 'auto' or 'scale' to avoid this warning.\n",
      "  \"avoid this warning.\", FutureWarning)\n",
      "C:\\Users\\Azaz Alam\\Anaconda3\\lib\\site-packages\\sklearn\\svm\\base.py:196: FutureWarning: The default value of gamma will change from 'auto' to 'scale' in version 0.22 to account better for unscaled features. Set gamma explicitly to 'auto' or 'scale' to avoid this warning.\n",
      "  \"avoid this warning.\", FutureWarning)\n",
      "C:\\Users\\Azaz Alam\\Anaconda3\\lib\\site-packages\\sklearn\\svm\\base.py:196: FutureWarning: The default value of gamma will change from 'auto' to 'scale' in version 0.22 to account better for unscaled features. Set gamma explicitly to 'auto' or 'scale' to avoid this warning.\n",
      "  \"avoid this warning.\", FutureWarning)\n",
      "C:\\Users\\Azaz Alam\\Anaconda3\\lib\\site-packages\\sklearn\\svm\\base.py:196: FutureWarning: The default value of gamma will change from 'auto' to 'scale' in version 0.22 to account better for unscaled features. Set gamma explicitly to 'auto' or 'scale' to avoid this warning.\n",
      "  \"avoid this warning.\", FutureWarning)\n",
      "C:\\Users\\Azaz Alam\\Anaconda3\\lib\\site-packages\\sklearn\\svm\\base.py:196: FutureWarning: The default value of gamma will change from 'auto' to 'scale' in version 0.22 to account better for unscaled features. Set gamma explicitly to 'auto' or 'scale' to avoid this warning.\n",
      "  \"avoid this warning.\", FutureWarning)\n",
      "C:\\Users\\Azaz Alam\\Anaconda3\\lib\\site-packages\\sklearn\\svm\\base.py:196: FutureWarning: The default value of gamma will change from 'auto' to 'scale' in version 0.22 to account better for unscaled features. Set gamma explicitly to 'auto' or 'scale' to avoid this warning.\n",
      "  \"avoid this warning.\", FutureWarning)\n",
      "C:\\Users\\Azaz Alam\\Anaconda3\\lib\\site-packages\\sklearn\\svm\\base.py:196: FutureWarning: The default value of gamma will change from 'auto' to 'scale' in version 0.22 to account better for unscaled features. Set gamma explicitly to 'auto' or 'scale' to avoid this warning.\n",
      "  \"avoid this warning.\", FutureWarning)\n",
      "C:\\Users\\Azaz Alam\\Anaconda3\\lib\\site-packages\\sklearn\\svm\\base.py:196: FutureWarning: The default value of gamma will change from 'auto' to 'scale' in version 0.22 to account better for unscaled features. Set gamma explicitly to 'auto' or 'scale' to avoid this warning.\n",
      "  \"avoid this warning.\", FutureWarning)\n",
      "C:\\Users\\Azaz Alam\\Anaconda3\\lib\\site-packages\\sklearn\\svm\\base.py:196: FutureWarning: The default value of gamma will change from 'auto' to 'scale' in version 0.22 to account better for unscaled features. Set gamma explicitly to 'auto' or 'scale' to avoid this warning.\n",
      "  \"avoid this warning.\", FutureWarning)\n",
      "C:\\Users\\Azaz Alam\\Anaconda3\\lib\\site-packages\\sklearn\\svm\\base.py:196: FutureWarning: The default value of gamma will change from 'auto' to 'scale' in version 0.22 to account better for unscaled features. Set gamma explicitly to 'auto' or 'scale' to avoid this warning.\n",
      "  \"avoid this warning.\", FutureWarning)\n",
      "C:\\Users\\Azaz Alam\\Anaconda3\\lib\\site-packages\\sklearn\\svm\\base.py:196: FutureWarning: The default value of gamma will change from 'auto' to 'scale' in version 0.22 to account better for unscaled features. Set gamma explicitly to 'auto' or 'scale' to avoid this warning.\n",
      "  \"avoid this warning.\", FutureWarning)\n",
      "C:\\Users\\Azaz Alam\\Anaconda3\\lib\\site-packages\\sklearn\\svm\\base.py:196: FutureWarning: The default value of gamma will change from 'auto' to 'scale' in version 0.22 to account better for unscaled features. Set gamma explicitly to 'auto' or 'scale' to avoid this warning.\n",
      "  \"avoid this warning.\", FutureWarning)\n",
      "C:\\Users\\Azaz Alam\\Anaconda3\\lib\\site-packages\\sklearn\\svm\\base.py:196: FutureWarning: The default value of gamma will change from 'auto' to 'scale' in version 0.22 to account better for unscaled features. Set gamma explicitly to 'auto' or 'scale' to avoid this warning.\n",
      "  \"avoid this warning.\", FutureWarning)\n",
      "C:\\Users\\Azaz Alam\\Anaconda3\\lib\\site-packages\\sklearn\\svm\\base.py:196: FutureWarning: The default value of gamma will change from 'auto' to 'scale' in version 0.22 to account better for unscaled features. Set gamma explicitly to 'auto' or 'scale' to avoid this warning.\n",
      "  \"avoid this warning.\", FutureWarning)\n",
      "C:\\Users\\Azaz Alam\\Anaconda3\\lib\\site-packages\\sklearn\\svm\\base.py:196: FutureWarning: The default value of gamma will change from 'auto' to 'scale' in version 0.22 to account better for unscaled features. Set gamma explicitly to 'auto' or 'scale' to avoid this warning.\n",
      "  \"avoid this warning.\", FutureWarning)\n",
      "C:\\Users\\Azaz Alam\\Anaconda3\\lib\\site-packages\\sklearn\\svm\\base.py:196: FutureWarning: The default value of gamma will change from 'auto' to 'scale' in version 0.22 to account better for unscaled features. Set gamma explicitly to 'auto' or 'scale' to avoid this warning.\n",
      "  \"avoid this warning.\", FutureWarning)\n",
      "C:\\Users\\Azaz Alam\\Anaconda3\\lib\\site-packages\\sklearn\\svm\\base.py:196: FutureWarning: The default value of gamma will change from 'auto' to 'scale' in version 0.22 to account better for unscaled features. Set gamma explicitly to 'auto' or 'scale' to avoid this warning.\n",
      "  \"avoid this warning.\", FutureWarning)\n",
      "C:\\Users\\Azaz Alam\\Anaconda3\\lib\\site-packages\\sklearn\\svm\\base.py:196: FutureWarning: The default value of gamma will change from 'auto' to 'scale' in version 0.22 to account better for unscaled features. Set gamma explicitly to 'auto' or 'scale' to avoid this warning.\n",
      "  \"avoid this warning.\", FutureWarning)\n",
      "C:\\Users\\Azaz Alam\\Anaconda3\\lib\\site-packages\\sklearn\\svm\\base.py:196: FutureWarning: The default value of gamma will change from 'auto' to 'scale' in version 0.22 to account better for unscaled features. Set gamma explicitly to 'auto' or 'scale' to avoid this warning.\n",
      "  \"avoid this warning.\", FutureWarning)\n",
      "C:\\Users\\Azaz Alam\\Anaconda3\\lib\\site-packages\\sklearn\\svm\\base.py:196: FutureWarning: The default value of gamma will change from 'auto' to 'scale' in version 0.22 to account better for unscaled features. Set gamma explicitly to 'auto' or 'scale' to avoid this warning.\n",
      "  \"avoid this warning.\", FutureWarning)\n",
      "C:\\Users\\Azaz Alam\\Anaconda3\\lib\\site-packages\\sklearn\\svm\\base.py:196: FutureWarning: The default value of gamma will change from 'auto' to 'scale' in version 0.22 to account better for unscaled features. Set gamma explicitly to 'auto' or 'scale' to avoid this warning.\n",
      "  \"avoid this warning.\", FutureWarning)\n",
      "C:\\Users\\Azaz Alam\\Anaconda3\\lib\\site-packages\\sklearn\\svm\\base.py:196: FutureWarning: The default value of gamma will change from 'auto' to 'scale' in version 0.22 to account better for unscaled features. Set gamma explicitly to 'auto' or 'scale' to avoid this warning.\n",
      "  \"avoid this warning.\", FutureWarning)\n",
      "C:\\Users\\Azaz Alam\\Anaconda3\\lib\\site-packages\\sklearn\\svm\\base.py:196: FutureWarning: The default value of gamma will change from 'auto' to 'scale' in version 0.22 to account better for unscaled features. Set gamma explicitly to 'auto' or 'scale' to avoid this warning.\n",
      "  \"avoid this warning.\", FutureWarning)\n",
      "C:\\Users\\Azaz Alam\\Anaconda3\\lib\\site-packages\\sklearn\\svm\\base.py:196: FutureWarning: The default value of gamma will change from 'auto' to 'scale' in version 0.22 to account better for unscaled features. Set gamma explicitly to 'auto' or 'scale' to avoid this warning.\n",
      "  \"avoid this warning.\", FutureWarning)\n",
      "C:\\Users\\Azaz Alam\\Anaconda3\\lib\\site-packages\\sklearn\\svm\\base.py:196: FutureWarning: The default value of gamma will change from 'auto' to 'scale' in version 0.22 to account better for unscaled features. Set gamma explicitly to 'auto' or 'scale' to avoid this warning.\n",
      "  \"avoid this warning.\", FutureWarning)\n"
     ]
    },
    {
     "name": "stderr",
     "output_type": "stream",
     "text": [
      "C:\\Users\\Azaz Alam\\Anaconda3\\lib\\site-packages\\sklearn\\svm\\base.py:196: FutureWarning: The default value of gamma will change from 'auto' to 'scale' in version 0.22 to account better for unscaled features. Set gamma explicitly to 'auto' or 'scale' to avoid this warning.\n",
      "  \"avoid this warning.\", FutureWarning)\n",
      "C:\\Users\\Azaz Alam\\Anaconda3\\lib\\site-packages\\sklearn\\svm\\base.py:196: FutureWarning: The default value of gamma will change from 'auto' to 'scale' in version 0.22 to account better for unscaled features. Set gamma explicitly to 'auto' or 'scale' to avoid this warning.\n",
      "  \"avoid this warning.\", FutureWarning)\n",
      "C:\\Users\\Azaz Alam\\Anaconda3\\lib\\site-packages\\sklearn\\svm\\base.py:196: FutureWarning: The default value of gamma will change from 'auto' to 'scale' in version 0.22 to account better for unscaled features. Set gamma explicitly to 'auto' or 'scale' to avoid this warning.\n",
      "  \"avoid this warning.\", FutureWarning)\n",
      "C:\\Users\\Azaz Alam\\Anaconda3\\lib\\site-packages\\sklearn\\svm\\base.py:196: FutureWarning: The default value of gamma will change from 'auto' to 'scale' in version 0.22 to account better for unscaled features. Set gamma explicitly to 'auto' or 'scale' to avoid this warning.\n",
      "  \"avoid this warning.\", FutureWarning)\n",
      "C:\\Users\\Azaz Alam\\Anaconda3\\lib\\site-packages\\sklearn\\svm\\base.py:196: FutureWarning: The default value of gamma will change from 'auto' to 'scale' in version 0.22 to account better for unscaled features. Set gamma explicitly to 'auto' or 'scale' to avoid this warning.\n",
      "  \"avoid this warning.\", FutureWarning)\n",
      "C:\\Users\\Azaz Alam\\Anaconda3\\lib\\site-packages\\sklearn\\svm\\base.py:196: FutureWarning: The default value of gamma will change from 'auto' to 'scale' in version 0.22 to account better for unscaled features. Set gamma explicitly to 'auto' or 'scale' to avoid this warning.\n",
      "  \"avoid this warning.\", FutureWarning)\n",
      "C:\\Users\\Azaz Alam\\Anaconda3\\lib\\site-packages\\sklearn\\svm\\base.py:196: FutureWarning: The default value of gamma will change from 'auto' to 'scale' in version 0.22 to account better for unscaled features. Set gamma explicitly to 'auto' or 'scale' to avoid this warning.\n",
      "  \"avoid this warning.\", FutureWarning)\n",
      "C:\\Users\\Azaz Alam\\Anaconda3\\lib\\site-packages\\sklearn\\svm\\base.py:196: FutureWarning: The default value of gamma will change from 'auto' to 'scale' in version 0.22 to account better for unscaled features. Set gamma explicitly to 'auto' or 'scale' to avoid this warning.\n",
      "  \"avoid this warning.\", FutureWarning)\n",
      "C:\\Users\\Azaz Alam\\Anaconda3\\lib\\site-packages\\sklearn\\svm\\base.py:196: FutureWarning: The default value of gamma will change from 'auto' to 'scale' in version 0.22 to account better for unscaled features. Set gamma explicitly to 'auto' or 'scale' to avoid this warning.\n",
      "  \"avoid this warning.\", FutureWarning)\n",
      "C:\\Users\\Azaz Alam\\Anaconda3\\lib\\site-packages\\sklearn\\svm\\base.py:196: FutureWarning: The default value of gamma will change from 'auto' to 'scale' in version 0.22 to account better for unscaled features. Set gamma explicitly to 'auto' or 'scale' to avoid this warning.\n",
      "  \"avoid this warning.\", FutureWarning)\n",
      "C:\\Users\\Azaz Alam\\Anaconda3\\lib\\site-packages\\sklearn\\svm\\base.py:196: FutureWarning: The default value of gamma will change from 'auto' to 'scale' in version 0.22 to account better for unscaled features. Set gamma explicitly to 'auto' or 'scale' to avoid this warning.\n",
      "  \"avoid this warning.\", FutureWarning)\n",
      "C:\\Users\\Azaz Alam\\Anaconda3\\lib\\site-packages\\sklearn\\svm\\base.py:196: FutureWarning: The default value of gamma will change from 'auto' to 'scale' in version 0.22 to account better for unscaled features. Set gamma explicitly to 'auto' or 'scale' to avoid this warning.\n",
      "  \"avoid this warning.\", FutureWarning)\n",
      "C:\\Users\\Azaz Alam\\Anaconda3\\lib\\site-packages\\sklearn\\svm\\base.py:196: FutureWarning: The default value of gamma will change from 'auto' to 'scale' in version 0.22 to account better for unscaled features. Set gamma explicitly to 'auto' or 'scale' to avoid this warning.\n",
      "  \"avoid this warning.\", FutureWarning)\n",
      "C:\\Users\\Azaz Alam\\Anaconda3\\lib\\site-packages\\sklearn\\svm\\base.py:196: FutureWarning: The default value of gamma will change from 'auto' to 'scale' in version 0.22 to account better for unscaled features. Set gamma explicitly to 'auto' or 'scale' to avoid this warning.\n",
      "  \"avoid this warning.\", FutureWarning)\n",
      "C:\\Users\\Azaz Alam\\Anaconda3\\lib\\site-packages\\sklearn\\svm\\base.py:196: FutureWarning: The default value of gamma will change from 'auto' to 'scale' in version 0.22 to account better for unscaled features. Set gamma explicitly to 'auto' or 'scale' to avoid this warning.\n",
      "  \"avoid this warning.\", FutureWarning)\n",
      "C:\\Users\\Azaz Alam\\Anaconda3\\lib\\site-packages\\sklearn\\svm\\base.py:196: FutureWarning: The default value of gamma will change from 'auto' to 'scale' in version 0.22 to account better for unscaled features. Set gamma explicitly to 'auto' or 'scale' to avoid this warning.\n",
      "  \"avoid this warning.\", FutureWarning)\n",
      "C:\\Users\\Azaz Alam\\Anaconda3\\lib\\site-packages\\sklearn\\svm\\base.py:196: FutureWarning: The default value of gamma will change from 'auto' to 'scale' in version 0.22 to account better for unscaled features. Set gamma explicitly to 'auto' or 'scale' to avoid this warning.\n",
      "  \"avoid this warning.\", FutureWarning)\n",
      "C:\\Users\\Azaz Alam\\Anaconda3\\lib\\site-packages\\sklearn\\svm\\base.py:196: FutureWarning: The default value of gamma will change from 'auto' to 'scale' in version 0.22 to account better for unscaled features. Set gamma explicitly to 'auto' or 'scale' to avoid this warning.\n",
      "  \"avoid this warning.\", FutureWarning)\n"
     ]
    },
    {
     "ename": "KeyboardInterrupt",
     "evalue": "",
     "output_type": "error",
     "traceback": [
      "\u001b[1;31m---------------------------------------------------------------------------\u001b[0m",
      "\u001b[1;31mKeyboardInterrupt\u001b[0m                         Traceback (most recent call last)",
      "\u001b[1;32m<ipython-input-33-e9d4a0f10357>\u001b[0m in \u001b[0;36m<module>\u001b[1;34m\u001b[0m\n\u001b[0;32m      5\u001b[0m \u001b[1;32mfor\u001b[0m \u001b[0mi\u001b[0m \u001b[1;32min\u001b[0m \u001b[0mrange\u001b[0m \u001b[1;33m(\u001b[0m\u001b[1;36m0\u001b[0m\u001b[1;33m,\u001b[0m\u001b[1;36m4\u001b[0m\u001b[1;33m)\u001b[0m\u001b[1;33m:\u001b[0m\u001b[1;33m\u001b[0m\u001b[1;33m\u001b[0m\u001b[0m\n\u001b[0;32m      6\u001b[0m     \u001b[1;32mfor\u001b[0m \u001b[0mj\u001b[0m \u001b[1;32min\u001b[0m \u001b[0mrange\u001b[0m \u001b[1;33m(\u001b[0m\u001b[1;36m1\u001b[0m\u001b[1;33m,\u001b[0m\u001b[1;36m5\u001b[0m\u001b[1;33m)\u001b[0m\u001b[1;33m:\u001b[0m\u001b[1;33m\u001b[0m\u001b[1;33m\u001b[0m\u001b[0m\n\u001b[1;32m----> 7\u001b[1;33m         \u001b[0mpoly_svc\u001b[0m \u001b[1;33m=\u001b[0m \u001b[0mSVC\u001b[0m\u001b[1;33m(\u001b[0m\u001b[0mC\u001b[0m\u001b[1;33m=\u001b[0m\u001b[1;36m2\u001b[0m\u001b[1;33m**\u001b[0m\u001b[0mi\u001b[0m\u001b[1;33m,\u001b[0m \u001b[0mkernel\u001b[0m\u001b[1;33m=\u001b[0m\u001b[1;34m'poly'\u001b[0m\u001b[1;33m,\u001b[0m \u001b[0mdegree\u001b[0m\u001b[1;33m=\u001b[0m\u001b[0mj\u001b[0m\u001b[1;33m)\u001b[0m\u001b[1;33m.\u001b[0m\u001b[0mfit\u001b[0m\u001b[1;33m(\u001b[0m\u001b[0mNew_data\u001b[0m\u001b[1;33m,\u001b[0m \u001b[0mY\u001b[0m\u001b[1;33m)\u001b[0m\u001b[1;33m\u001b[0m\u001b[1;33m\u001b[0m\u001b[0m\n\u001b[0m\u001b[0;32m      8\u001b[0m         \u001b[0mscores\u001b[0m \u001b[1;33m=\u001b[0m \u001b[0mcross_val_score\u001b[0m\u001b[1;33m(\u001b[0m\u001b[0mpoly_svc\u001b[0m\u001b[1;33m,\u001b[0m\u001b[0mNew_data\u001b[0m\u001b[1;33m,\u001b[0m\u001b[0mY\u001b[0m\u001b[1;33m,\u001b[0m\u001b[0mfold\u001b[0m\u001b[1;33m,\u001b[0m\u001b[1;34m'accuracy'\u001b[0m\u001b[1;33m,\u001b[0m\u001b[1;36m10\u001b[0m\u001b[1;33m)\u001b[0m\u001b[1;33m\u001b[0m\u001b[1;33m\u001b[0m\u001b[0m\n\u001b[0;32m      9\u001b[0m         \u001b[0my\u001b[0m\u001b[1;33m[\u001b[0m\u001b[0mj\u001b[0m\u001b[1;33m-\u001b[0m\u001b[1;36m1\u001b[0m\u001b[1;33m]\u001b[0m\u001b[1;33m.\u001b[0m\u001b[0mappend\u001b[0m\u001b[1;33m(\u001b[0m\u001b[0mnp\u001b[0m\u001b[1;33m.\u001b[0m\u001b[0mmean\u001b[0m\u001b[1;33m(\u001b[0m\u001b[0mscores\u001b[0m\u001b[1;33m)\u001b[0m\u001b[1;33m)\u001b[0m\u001b[1;33m\u001b[0m\u001b[1;33m\u001b[0m\u001b[0m\n",
      "\u001b[1;32m~\\Anaconda3\\lib\\site-packages\\sklearn\\svm\\base.py\u001b[0m in \u001b[0;36mfit\u001b[1;34m(self, X, y, sample_weight)\u001b[0m\n\u001b[0;32m    210\u001b[0m \u001b[1;33m\u001b[0m\u001b[0m\n\u001b[0;32m    211\u001b[0m         \u001b[0mseed\u001b[0m \u001b[1;33m=\u001b[0m \u001b[0mrnd\u001b[0m\u001b[1;33m.\u001b[0m\u001b[0mrandint\u001b[0m\u001b[1;33m(\u001b[0m\u001b[0mnp\u001b[0m\u001b[1;33m.\u001b[0m\u001b[0miinfo\u001b[0m\u001b[1;33m(\u001b[0m\u001b[1;34m'i'\u001b[0m\u001b[1;33m)\u001b[0m\u001b[1;33m.\u001b[0m\u001b[0mmax\u001b[0m\u001b[1;33m)\u001b[0m\u001b[1;33m\u001b[0m\u001b[1;33m\u001b[0m\u001b[0m\n\u001b[1;32m--> 212\u001b[1;33m         \u001b[0mfit\u001b[0m\u001b[1;33m(\u001b[0m\u001b[0mX\u001b[0m\u001b[1;33m,\u001b[0m \u001b[0my\u001b[0m\u001b[1;33m,\u001b[0m \u001b[0msample_weight\u001b[0m\u001b[1;33m,\u001b[0m \u001b[0msolver_type\u001b[0m\u001b[1;33m,\u001b[0m \u001b[0mkernel\u001b[0m\u001b[1;33m,\u001b[0m \u001b[0mrandom_seed\u001b[0m\u001b[1;33m=\u001b[0m\u001b[0mseed\u001b[0m\u001b[1;33m)\u001b[0m\u001b[1;33m\u001b[0m\u001b[1;33m\u001b[0m\u001b[0m\n\u001b[0m\u001b[0;32m    213\u001b[0m         \u001b[1;31m# see comment on the other call to np.iinfo in this file\u001b[0m\u001b[1;33m\u001b[0m\u001b[1;33m\u001b[0m\u001b[1;33m\u001b[0m\u001b[0m\n\u001b[0;32m    214\u001b[0m \u001b[1;33m\u001b[0m\u001b[0m\n",
      "\u001b[1;32m~\\Anaconda3\\lib\\site-packages\\sklearn\\svm\\base.py\u001b[0m in \u001b[0;36m_dense_fit\u001b[1;34m(self, X, y, sample_weight, solver_type, kernel, random_seed)\u001b[0m\n\u001b[0;32m    269\u001b[0m                 \u001b[0mcache_size\u001b[0m\u001b[1;33m=\u001b[0m\u001b[0mself\u001b[0m\u001b[1;33m.\u001b[0m\u001b[0mcache_size\u001b[0m\u001b[1;33m,\u001b[0m \u001b[0mcoef0\u001b[0m\u001b[1;33m=\u001b[0m\u001b[0mself\u001b[0m\u001b[1;33m.\u001b[0m\u001b[0mcoef0\u001b[0m\u001b[1;33m,\u001b[0m\u001b[1;33m\u001b[0m\u001b[1;33m\u001b[0m\u001b[0m\n\u001b[0;32m    270\u001b[0m                 \u001b[0mgamma\u001b[0m\u001b[1;33m=\u001b[0m\u001b[0mself\u001b[0m\u001b[1;33m.\u001b[0m\u001b[0m_gamma\u001b[0m\u001b[1;33m,\u001b[0m \u001b[0mepsilon\u001b[0m\u001b[1;33m=\u001b[0m\u001b[0mself\u001b[0m\u001b[1;33m.\u001b[0m\u001b[0mepsilon\u001b[0m\u001b[1;33m,\u001b[0m\u001b[1;33m\u001b[0m\u001b[1;33m\u001b[0m\u001b[0m\n\u001b[1;32m--> 271\u001b[1;33m                 max_iter=self.max_iter, random_seed=random_seed)\n\u001b[0m\u001b[0;32m    272\u001b[0m \u001b[1;33m\u001b[0m\u001b[0m\n\u001b[0;32m    273\u001b[0m         \u001b[0mself\u001b[0m\u001b[1;33m.\u001b[0m\u001b[0m_warn_from_fit_status\u001b[0m\u001b[1;33m(\u001b[0m\u001b[1;33m)\u001b[0m\u001b[1;33m\u001b[0m\u001b[1;33m\u001b[0m\u001b[0m\n",
      "\u001b[1;31mKeyboardInterrupt\u001b[0m: "
     ]
    }
   ],
   "source": [
    "x=[]\n",
    "y=[]\n",
    "for k in range (1,5):\n",
    "    y.append([])\n",
    "for i in range (0,4):\n",
    "    for j in range (1,5):\n",
    "        poly_svc = SVC(C=2**i, kernel='poly', degree=j).fit(New_data, Y)\n",
    "        scores = cross_val_score(poly_svc,New_data,Y,fold,'accuracy',10)\n",
    "        y[j-1].append(np.mean(scores))\n",
    "    x.append(2**i)    \n",
    "\n",
    "plt.plot(x,y[0],'r-',\n",
    "         x,y[1],'g-',\n",
    "         x,y[2],'b-',\n",
    "         x,y[3],'y-')\n",
    "plt.show()"
   ]
  },
  {
   "cell_type": "markdown",
   "metadata": {},
   "source": [
    "<ul>\n",
    "<li>X-axis is error penalty (C) term</li>\n",
    "<li>Y-axis is accuracy<ul>\n",
    "<li>Red=Degree 1</li>\n",
    "<li>Green=Degree 2</li>\n",
    "<li>Blue=Degree 3</li>\n",
    "<li>Yellow=Degree 4</li>\n",
    "</ul></li>\n",
    "</ul>\n",
    "\n",
    "Degree 2 is picked for best performance against linear model. Error penalty value of 4 is picked for best performance before significantly diminishing returns."
   ]
  },
  {
   "cell_type": "code",
   "execution_count": 158,
   "metadata": {},
   "outputs": [
    {
     "name": "stdout",
     "output_type": "stream",
     "text": [
      "Cross validation accuracy is 82.045641141\n",
      "Cross validation precision is 84.1192072837\n",
      "Cross validation recall is 88.0888888889\n"
     ]
    }
   ],
   "source": [
    "poly_svc = SVC(C=4, kernel='poly', degree=2).fit(New_data, Y)\n",
    "scores = cross_val_score(poly_svc,New_data,Y,fold,'accuracy',10)\n",
    "print ('Cross validation accuracy is', np.mean(scores)*100)\n",
    "scores = cross_val_score(poly_svc,New_data,Y,fold,'precision',10)\n",
    "print ('Cross validation precision is', np.mean(scores)*100)\n",
    "scores = cross_val_score(poly_svc,New_data,Y,fold,'recall',10)\n",
    "print ('Cross validation recall is', np.mean(scores)*100)"
   ]
  },
  {
   "cell_type": "markdown",
   "metadata": {},
   "source": [
    "There is no reasonable method for evaluation of most predictive features with a Polynomial SVC.\n",
    "\n",
    "The polynomial SVC is fairly resilient to the missing data in the dirty data set losing very little accuracy and precision and gaining recall. However the plotting output indicates that a linear SVC would likely outperform the polynomial SVC on the dirty data."
   ]
  },
  {
   "cell_type": "markdown",
   "metadata": {},
   "source": [
    "# New Threshold"
   ]
  },
  {
   "cell_type": "code",
   "execution_count": 34,
   "metadata": {},
   "outputs": [
    {
     "name": "stdout",
     "output_type": "stream",
     "text": [
      "average is  0.23798294029101857\n",
      "Q1(25%) is  0.07\n",
      "median is  0.15\n",
      "Q3(75%) is  0.33\n",
      "average between Q3 and Q1 is  0.2\n"
     ]
    },
    {
     "data": {
      "image/png": "[encoded data removed]",
      "text/plain": [
       "<Figure size 432x288 with 1 Axes>"
      ]
     },
     "metadata": {
      "needs_background": "light"
     },
     "output_type": "display_data"
    },
    {
     "data": {
      "image/png": "[encoded data removed]",
      "text/plain": [
       "<Figure size 432x288 with 1 Axes>"
      ]
     },
     "metadata": {
      "needs_background": "light"
     },
     "output_type": "display_data"
    }
   ],
   "source": [
    "df=pd.read_csv('communities-crime-clean.csv')\n",
    "# df.describe()\n",
    "df['ViolentCrimesPerPop'].plot.hist()\n",
    "print('average is ',np.average(df['ViolentCrimesPerPop']))\n",
    "Q1, median, Q3 = np.percentile(df['ViolentCrimesPerPop'], [25, 50, 75])\n",
    "print(\"Q1(25%) is \",Q1)\n",
    "print(\"median is \",median)\n",
    "print(\"Q3(75%) is \",Q3)\n",
    "print(\"average between Q3 and Q1 is \",(Q3+Q1)/2)\n",
    "plt.show()\n",
    "plt.boxplot(df['ViolentCrimesPerPop'])\n",
    "plt.show()"
   ]
  },
  {
   "cell_type": "markdown",
   "metadata": {},
   "source": [
    "According to histogram and boxplot, we can know how \"ViolentCrimesPerPop\" distributes in the dataset. And there are lots of outliers following in second part of the dataset, so mean(0.2379) is not suitable to be a threshold.\n",
    "Then, based on quartile deviation method to retrive Q1, median and Q3, median is different with average between Q1 and Q3. Since the problem of outlier is removed from distance from Q1 to Q3, average between Q1 and Q3 is more suitable than median to be a new threshold. Therefore, 0.2, average between Q1 and Q3, is the most useful threshold."
   ]
  },
  {
   "cell_type": "markdown",
   "metadata": {},
   "source": [
    "# New Threshold in DecisionTree"
   ]
  },
  {
   "cell_type": "code",
   "execution_count": 35,
   "metadata": {},
   "outputs": [
    {
     "name": "stdout",
     "output_type": "stream",
     "text": [
      "cross_val_accuracy is  [0.79       0.805      0.775      0.78       0.805      0.82\n",
      " 0.79396985 0.84422111 0.85353535 0.79292929]\n",
      "Cross validation accuracy is 80.59655601238515\n",
      "Cross validation precision is 77.03562790718922\n",
      "Cross validation recall is 74.69753086419753\n"
     ]
    }
   ],
   "source": [
    "df=pd.read_csv('communities-crime-full.csv')\n",
    "df\n",
    "df['highCrime'] = np.where(df['ViolentCrimesPerPop']>0.2, 1, 0)\n",
    "Y = df['highCrime']\n",
    "clf = tree.DecisionTreeClassifier(max_depth=3)\n",
    "# clf = tree.DecisionTreeClassifier()\n",
    "clf = clf.fit(New_data, Y)\n",
    "clf\n",
    "fold=df['fold']\n",
    "scores = cross_val_score(clf, New_data, Y,fold,'accuracy',10)\n",
    "print('cross_val_accuracy is ',scores) \n",
    "\n",
    "print ('Cross validation accuracy is', np.mean(scores)*100)\n",
    "scores = cross_val_score(clf,New_data,Y,fold,'precision',10)\n",
    "print ('Cross validation precision is', np.mean(scores)*100)\n",
    "scores = cross_val_score(clf,New_data,Y,fold,'recall',10)\n",
    "print ('Cross validation recall is', np.mean(scores)*100)\n"
   ]
  },
  {
   "cell_type": "code",
   "execution_count": 36,
   "metadata": {},
   "outputs": [
    {
     "data": {
      "image/png": "[encoded data removed]",
      "text/plain": [
       "<Figure size 432x288 with 1 Axes>"
      ]
     },
     "metadata": {
      "needs_background": "light"
     },
     "output_type": "display_data"
    },
    {
     "name": "stdout",
     "output_type": "stream",
     "text": [
      "y is  [0.8195286533678493, 0.8089831988223948, 0.8054655601238517, 0.8154755849956855, 0.8189780721790771, 0.8134908126491041, 0.8069453581036496, 0.8009705852494798, 0.8039301558296532, 0.7969428455408355, 0.7904201309578194, 0.7934327699101569, 0.7859201817166641, 0.7868974417542257, 0.7863923912491753]\n"
     ]
    }
   ],
   "source": [
    "import matplotlib.pyplot as plt\n",
    "y=[]\n",
    "x=[]\n",
    "for i in range (1,16):\n",
    "    clf = tree.DecisionTreeClassifier(max_depth=i)\n",
    "    clf = clf.fit(New_data, Y)\n",
    "    y_pred = clf.predict(New_data)\n",
    "    scores = cross_val_score(clf, New_data, Y,None,'accuracy',cv=10,n_jobs = -1)\n",
    "    y.append(np.array(scores).mean())\n",
    "    x.append(i)\n",
    "\n",
    "    \n",
    "plt.plot(x, y)\n",
    "\n",
    "plt.show()\n",
    "print('y is ',y)"
   ]
  },
  {
   "cell_type": "code",
   "execution_count": 37,
   "metadata": {},
   "outputs": [
    {
     "ename": "InvocationException",
     "evalue": "GraphViz's executables not found",
     "output_type": "error",
     "traceback": [
      "\u001b[1;31m---------------------------------------------------------------------------\u001b[0m",
      "\u001b[1;31mInvocationException\u001b[0m                       Traceback (most recent call last)",
      "\u001b[1;32m<ipython-input-37-306a942cf480>\u001b[0m in \u001b[0;36m<module>\u001b[1;34m\u001b[0m\n\u001b[0;32m      9\u001b[0m                          special_characters=True)  \n\u001b[0;32m     10\u001b[0m \u001b[0mgraph\u001b[0m \u001b[1;33m=\u001b[0m \u001b[0mpydotplus\u001b[0m\u001b[1;33m.\u001b[0m\u001b[0mgraph_from_dot_data\u001b[0m\u001b[1;33m(\u001b[0m\u001b[0mdot_data\u001b[0m\u001b[1;33m)\u001b[0m\u001b[1;33m\u001b[0m\u001b[1;33m\u001b[0m\u001b[0m\n\u001b[1;32m---> 11\u001b[1;33m \u001b[0mImage\u001b[0m\u001b[1;33m(\u001b[0m\u001b[0mgraph\u001b[0m\u001b[1;33m.\u001b[0m\u001b[0mcreate_png\u001b[0m\u001b[1;33m(\u001b[0m\u001b[1;33m)\u001b[0m\u001b[1;33m)\u001b[0m\u001b[1;33m\u001b[0m\u001b[1;33m\u001b[0m\u001b[0m\n\u001b[0m",
      "\u001b[1;32m~\\Anaconda3\\lib\\site-packages\\pydotplus\\graphviz.py\u001b[0m in \u001b[0;36m<lambda>\u001b[1;34m(f, prog)\u001b[0m\n\u001b[0;32m   1795\u001b[0m             self.__setattr__(\n\u001b[0;32m   1796\u001b[0m                 \u001b[1;34m'create_'\u001b[0m \u001b[1;33m+\u001b[0m \u001b[0mfrmt\u001b[0m\u001b[1;33m,\u001b[0m\u001b[1;33m\u001b[0m\u001b[1;33m\u001b[0m\u001b[0m\n\u001b[1;32m-> 1797\u001b[1;33m                 \u001b[1;32mlambda\u001b[0m \u001b[0mf\u001b[0m\u001b[1;33m=\u001b[0m\u001b[0mfrmt\u001b[0m\u001b[1;33m,\u001b[0m \u001b[0mprog\u001b[0m\u001b[1;33m=\u001b[0m\u001b[0mself\u001b[0m\u001b[1;33m.\u001b[0m\u001b[0mprog\u001b[0m\u001b[1;33m:\u001b[0m \u001b[0mself\u001b[0m\u001b[1;33m.\u001b[0m\u001b[0mcreate\u001b[0m\u001b[1;33m(\u001b[0m\u001b[0mformat\u001b[0m\u001b[1;33m=\u001b[0m\u001b[0mf\u001b[0m\u001b[1;33m,\u001b[0m \u001b[0mprog\u001b[0m\u001b[1;33m=\u001b[0m\u001b[0mprog\u001b[0m\u001b[1;33m)\u001b[0m\u001b[1;33m\u001b[0m\u001b[1;33m\u001b[0m\u001b[0m\n\u001b[0m\u001b[0;32m   1798\u001b[0m             )\n\u001b[0;32m   1799\u001b[0m             \u001b[0mf\u001b[0m \u001b[1;33m=\u001b[0m \u001b[0mself\u001b[0m\u001b[1;33m.\u001b[0m\u001b[0m__dict__\u001b[0m\u001b[1;33m[\u001b[0m\u001b[1;34m'create_'\u001b[0m \u001b[1;33m+\u001b[0m \u001b[0mfrmt\u001b[0m\u001b[1;33m]\u001b[0m\u001b[1;33m\u001b[0m\u001b[1;33m\u001b[0m\u001b[0m\n",
      "\u001b[1;32m~\\Anaconda3\\lib\\site-packages\\pydotplus\\graphviz.py\u001b[0m in \u001b[0;36mcreate\u001b[1;34m(self, prog, format)\u001b[0m\n\u001b[0;32m   1958\u001b[0m             \u001b[1;32mif\u001b[0m \u001b[0mself\u001b[0m\u001b[1;33m.\u001b[0m\u001b[0mprogs\u001b[0m \u001b[1;32mis\u001b[0m \u001b[1;32mNone\u001b[0m\u001b[1;33m:\u001b[0m\u001b[1;33m\u001b[0m\u001b[1;33m\u001b[0m\u001b[0m\n\u001b[0;32m   1959\u001b[0m                 raise InvocationException(\n\u001b[1;32m-> 1960\u001b[1;33m                     'GraphViz\\'s executables not found')\n\u001b[0m\u001b[0;32m   1961\u001b[0m \u001b[1;33m\u001b[0m\u001b[0m\n\u001b[0;32m   1962\u001b[0m         \u001b[1;32mif\u001b[0m \u001b[0mprog\u001b[0m \u001b[1;32mnot\u001b[0m \u001b[1;32min\u001b[0m \u001b[0mself\u001b[0m\u001b[1;33m.\u001b[0m\u001b[0mprogs\u001b[0m\u001b[1;33m:\u001b[0m\u001b[1;33m\u001b[0m\u001b[1;33m\u001b[0m\u001b[0m\n",
      "\u001b[1;31mInvocationException\u001b[0m: GraphViz's executables not found"
     ]
    }
   ],
   "source": [
    "classname=['High','Low']\n",
    "clf = tree.DecisionTreeClassifier(max_depth=3)\n",
    "\n",
    "clf = clf.fit(New_data, Y)\n",
    "dot_data = tree.export_graphviz(clf, out_file=None, \n",
    "                         feature_names=list(New_data),  \n",
    "                         class_names=classname,  \n",
    "                         filled=True, rounded=True,  \n",
    "                         special_characters=True)  \n",
    "graph = pydotplus.graph_from_dot_data(dot_data)  \n",
    "Image(graph.create_png()) "
   ]
  },
  {
   "cell_type": "code",
   "execution_count": 38,
   "metadata": {},
   "outputs": [
    {
     "ename": "InvocationException",
     "evalue": "GraphViz's executables not found",
     "output_type": "error",
     "traceback": [
      "\u001b[1;31m---------------------------------------------------------------------------\u001b[0m",
      "\u001b[1;31mInvocationException\u001b[0m                       Traceback (most recent call last)",
      "\u001b[1;32m<ipython-input-38-7365903dff8a>\u001b[0m in \u001b[0;36m<module>\u001b[1;34m\u001b[0m\n\u001b[0;32m     18\u001b[0m                          special_characters=True)  \n\u001b[0;32m     19\u001b[0m \u001b[0mgraph\u001b[0m \u001b[1;33m=\u001b[0m \u001b[0mpydotplus\u001b[0m\u001b[1;33m.\u001b[0m\u001b[0mgraph_from_dot_data\u001b[0m\u001b[1;33m(\u001b[0m\u001b[0mdot_data\u001b[0m\u001b[1;33m)\u001b[0m\u001b[1;33m\u001b[0m\u001b[1;33m\u001b[0m\u001b[0m\n\u001b[1;32m---> 20\u001b[1;33m \u001b[0mImage\u001b[0m\u001b[1;33m(\u001b[0m\u001b[0mgraph\u001b[0m\u001b[1;33m.\u001b[0m\u001b[0mcreate_png\u001b[0m\u001b[1;33m(\u001b[0m\u001b[1;33m)\u001b[0m\u001b[1;33m)\u001b[0m\u001b[1;33m\u001b[0m\u001b[1;33m\u001b[0m\u001b[0m\n\u001b[0m",
      "\u001b[1;32m~\\Anaconda3\\lib\\site-packages\\pydotplus\\graphviz.py\u001b[0m in \u001b[0;36m<lambda>\u001b[1;34m(f, prog)\u001b[0m\n\u001b[0;32m   1795\u001b[0m             self.__setattr__(\n\u001b[0;32m   1796\u001b[0m                 \u001b[1;34m'create_'\u001b[0m \u001b[1;33m+\u001b[0m \u001b[0mfrmt\u001b[0m\u001b[1;33m,\u001b[0m\u001b[1;33m\u001b[0m\u001b[1;33m\u001b[0m\u001b[0m\n\u001b[1;32m-> 1797\u001b[1;33m                 \u001b[1;32mlambda\u001b[0m \u001b[0mf\u001b[0m\u001b[1;33m=\u001b[0m\u001b[0mfrmt\u001b[0m\u001b[1;33m,\u001b[0m \u001b[0mprog\u001b[0m\u001b[1;33m=\u001b[0m\u001b[0mself\u001b[0m\u001b[1;33m.\u001b[0m\u001b[0mprog\u001b[0m\u001b[1;33m:\u001b[0m \u001b[0mself\u001b[0m\u001b[1;33m.\u001b[0m\u001b[0mcreate\u001b[0m\u001b[1;33m(\u001b[0m\u001b[0mformat\u001b[0m\u001b[1;33m=\u001b[0m\u001b[0mf\u001b[0m\u001b[1;33m,\u001b[0m \u001b[0mprog\u001b[0m\u001b[1;33m=\u001b[0m\u001b[0mprog\u001b[0m\u001b[1;33m)\u001b[0m\u001b[1;33m\u001b[0m\u001b[1;33m\u001b[0m\u001b[0m\n\u001b[0m\u001b[0;32m   1798\u001b[0m             )\n\u001b[0;32m   1799\u001b[0m             \u001b[0mf\u001b[0m \u001b[1;33m=\u001b[0m \u001b[0mself\u001b[0m\u001b[1;33m.\u001b[0m\u001b[0m__dict__\u001b[0m\u001b[1;33m[\u001b[0m\u001b[1;34m'create_'\u001b[0m \u001b[1;33m+\u001b[0m \u001b[0mfrmt\u001b[0m\u001b[1;33m]\u001b[0m\u001b[1;33m\u001b[0m\u001b[1;33m\u001b[0m\u001b[0m\n",
      "\u001b[1;32m~\\Anaconda3\\lib\\site-packages\\pydotplus\\graphviz.py\u001b[0m in \u001b[0;36mcreate\u001b[1;34m(self, prog, format)\u001b[0m\n\u001b[0;32m   1958\u001b[0m             \u001b[1;32mif\u001b[0m \u001b[0mself\u001b[0m\u001b[1;33m.\u001b[0m\u001b[0mprogs\u001b[0m \u001b[1;32mis\u001b[0m \u001b[1;32mNone\u001b[0m\u001b[1;33m:\u001b[0m\u001b[1;33m\u001b[0m\u001b[1;33m\u001b[0m\u001b[0m\n\u001b[0;32m   1959\u001b[0m                 raise InvocationException(\n\u001b[1;32m-> 1960\u001b[1;33m                     'GraphViz\\'s executables not found')\n\u001b[0m\u001b[0;32m   1961\u001b[0m \u001b[1;33m\u001b[0m\u001b[0m\n\u001b[0;32m   1962\u001b[0m         \u001b[1;32mif\u001b[0m \u001b[0mprog\u001b[0m \u001b[1;32mnot\u001b[0m \u001b[1;32min\u001b[0m \u001b[0mself\u001b[0m\u001b[1;33m.\u001b[0m\u001b[0mprogs\u001b[0m\u001b[1;33m:\u001b[0m\u001b[1;33m\u001b[0m\u001b[1;33m\u001b[0m\u001b[0m\n",
      "\u001b[1;31mInvocationException\u001b[0m: GraphViz's executables not found"
     ]
    }
   ],
   "source": [
    "df=pd.read_csv('communities-crime-clean.csv')\n",
    "df\n",
    "df['highCrime'] = np.where(df['ViolentCrimesPerPop']>0.2, 1, 0)\n",
    "Y = df['highCrime']\n",
    "\n",
    "\n",
    "clf = tree.DecisionTreeClassifier(max_depth=3)\n",
    "\n",
    "clf = clf.fit(initial, Y)\n",
    "clf\n",
    "import pydotplus \n",
    "from IPython.display import Image \n",
    "classname=['High','Low']\n",
    "dot_data = tree.export_graphviz(clf, out_file=None, \n",
    "                         feature_names=list(initial),  \n",
    "                         class_names=classname,  \n",
    "                         filled=True, rounded=True,  \n",
    "                         special_characters=True)  \n",
    "graph = pydotplus.graph_from_dot_data(dot_data)  \n",
    "Image(graph.create_png()) "
   ]
  },
  {
   "cell_type": "code",
   "execution_count": 39,
   "metadata": {},
   "outputs": [
    {
     "name": "stdout",
     "output_type": "stream",
     "text": [
      "cross_val_accuracy is  [0.745      0.815      0.78       0.805      0.855      0.72864322\n",
      " 0.8040201  0.85929648 0.65151515 0.77777778]\n",
      "Cross validation accuracy is 78.21252728287904\n",
      "Cross validation precision is 76.63953992239708\n",
      "Cross validation recall is 70.5493827160494\n"
     ]
    }
   ],
   "source": [
    "fold=df['fold']\n",
    "scores = cross_val_score(clf, initial, Y,fold,'accuracy',10)\n",
    "print('cross_val_accuracy is ',scores) \n",
    "\n",
    "print ('Cross validation accuracy is', np.mean(scores)*100)\n",
    "scores = cross_val_score(clf,initial,Y,fold,'precision',10)\n",
    "print ('Cross validation precision is', np.mean(scores)*100)\n",
    "scores = cross_val_score(clf,initial,Y,fold,'recall',10)\n",
    "print ('Cross validation recall is', np.mean(scores)*100)\n",
    "\n",
    "# y_pred = clf.predict(initial)\n",
    "# print ('Accuracy is', accuracy_score(Y,y_pred)*100)\n",
    "# from sklearn.metrics import precision_score\n",
    "# print ('Precesion is', precision_score(Y,y_pred)*100)\n",
    "# from sklearn.metrics import recall_score\n",
    "# print ('Recall is', recall_score(Y,y_pred)*100)"
   ]
  },
  {
   "cell_type": "code",
   "execution_count": 40,
   "metadata": {},
   "outputs": [
    {
     "data": {
      "image/png": "[encoded data removed]",
      "text/plain": [
       "<Figure size 432x288 with 1 Axes>"
      ]
     },
     "metadata": {
      "needs_background": "light"
     },
     "output_type": "display_data"
    },
    {
     "name": "stdout",
     "output_type": "stream",
     "text": [
      "y is  [0.8153219633521142, 0.7916554235825592, 0.7821252728287904, 0.7922968631033959, 0.7727061062890209, 0.7761884422110553, 0.7671582660778641, 0.7621633673417593, 0.7576305771280645, 0.7521129384295213, 0.7525953251104005, 0.7521130653266331, 0.7465903507436171, 0.7440524846454496, 0.738065123597787]\n"
     ]
    }
   ],
   "source": [
    "y=[]\n",
    "x=[]\n",
    "\n",
    "for i in range (1,16):\n",
    "    clf = tree.DecisionTreeClassifier(max_depth=i)\n",
    "    clf = clf.fit(initial, Y)\n",
    "    y_pred = clf.predict(initial)\n",
    "    scores = cross_val_score(clf, initial, Y,None,'accuracy',cv=10)\n",
    "    y.append(np.array(scores).mean())\n",
    "    x.append(i)\n",
    "\n",
    "    \n",
    "plt.plot(x, y)\n",
    "\n",
    "plt.show()\n",
    "print('y is ',y)"
   ]
  },
  {
   "cell_type": "markdown",
   "metadata": {},
   "source": [
    "Using the new threshold a single feature PctIlleg becomes highly predictive of the dataset, but the rest of the possible features to split on lose their effectiveness as linear separators. As such the most effective Decision Tree with the new threshold is depth 1. It would seem that Decision Tree on this dataset greatly benefits from taking a more informed approach to deciding a threshold."
   ]
  },
  {
   "cell_type": "markdown",
   "metadata": {},
   "source": [
    "# New Threshold in Naive Bayes Gaussian"
   ]
  },
  {
   "cell_type": "code",
   "execution_count": 198,
   "metadata": {},
   "outputs": [
    {
     "name": "stdout",
     "output_type": "stream",
     "text": [
      "mislabel num is  352\n",
      "normalized_feature is  [ 0.33306076  0.03258098  0.57607554  0.72301674  0.04198184  0.35978937\n",
      "  0.05081276  0.1491096   0.09012258  0.07690147  0.31722709  0.02102557\n",
      "  0.50499798  0.32275839  0.10399085  0.68789992  0.12525604  0.63770018\n",
      "  0.08482528  0.52115517  0.39921489  0.24898057  0.33249932  0.11958945\n",
      "  0.18131628  0.1593845   0.29721696  0.4271772   0.57247427  0.46873416\n",
      "  0.53762178  0.35764455  0.53696231  0.35122208  0.02515546  0.10257724\n",
      "  0.31749042  0.37536845  0.57546639  0.2216214   0.65369163  0.63466832\n",
      "  0.12098212  0.77237886  0.84288241  0.71696935  0.66301396  0.04048604\n",
      "  0.17378054  0.41761193  0.78896678  0.26418494  0.1721343   0.22136547\n",
      "  0.25550443  0.30076635  0.22549075  0.24285105  0.24483414  0.25357801\n",
      "  0.26564133  0.32422931  0.37334747  0.29009904  0.029548    0.13965855\n",
      "  0.28580806  0.58538383  0.50490824  0.52004923  0.37863295  0.38278532\n",
      "  0.32275872  0.49473664  0.41475204  0.00776573  0.07533747  0.54894892\n",
      "  0.33590694  0.22200447  0.19982129  0.17949289  0.26929275  0.26607002\n",
      "  0.25915258  0.27192261  0.31631812  0.06354522  0.00477544  0.3058693\n",
      "  0.28550505  0.18870544  0.07895563  0.20978568  0.03719001  0.03833281\n",
      "  0.17172126  0.20808489  0.05305622  0.32220227]\n",
      "ind is  [41 17 40 46 15 45 50  3 43 44]\n",
      "10_max_normalized_feature is  [ 0.63466832  0.63770018  0.65369163  0.66301396  0.68789992  0.71696935\n",
      "  0.78896678  0.72301674  0.77237886  0.84288241]\n",
      "41\n",
      "feature_name[index] is  TotalPctDiv\n",
      "17\n",
      "feature_name[index] is  pctWPubAsst\n",
      "40\n",
      "feature_name[index] is  FemalePctDiv\n",
      "46\n",
      "feature_name[index] is  PctTeen2Par\n",
      "15\n",
      "feature_name[index] is  pctWInvInc\n",
      "45\n",
      "feature_name[index] is  PctYoungKids2Par\n",
      "50\n",
      "feature_name[index] is  PctIlleg\n",
      "3\n",
      "feature_name[index] is  racePctWhite\n",
      "43\n",
      "feature_name[index] is  PctFam2Par\n",
      "44\n",
      "feature_name[index] is  PctKids2Par\n",
      "cross_val_accuracy is  80.023638394\n",
      "cross_val_precision is  78.6578155819\n",
      "cross_val_recall is  71.049382716\n"
     ]
    }
   ],
   "source": [
    "gnb = GaussianNB()\n",
    "y_pred = gnb.fit(initial, Y).predict(initial)\n",
    "\n",
    "print(\"mislabel num is \",(Y != y_pred).sum())\n",
    "\n",
    "# print ('sigma is ',gnb.sigma_)\n",
    "variance=gnb.sigma_\n",
    "stand_deviation =np.sqrt( variance)\n",
    "# print('standard deviation is',stand_deviation);\n",
    "sum_standard=stand_deviation[0]+stand_deviation[1]\n",
    "# print('sum of standard deviation is',sum_standard);\n",
    "\n",
    "# print ('theta is ',gnb.theta_)\n",
    "mean=gnb.theta_\n",
    "difference=mean[0]-mean[1]\n",
    "# print('difference is ',abs(difference))\n",
    "normalized_feature=abs(difference)/sum_standard\n",
    "print('normalized_feature is ',normalized_feature)\n",
    "\n",
    "\n",
    "ind = np.argpartition(normalized_feature, -10)[-10:]\n",
    "\n",
    "print('ind is ',ind)\n",
    "print('10_max_normalized_feature is ',normalized_feature[ind])\n",
    "\n",
    "for x in range(0, len(ind)):\n",
    "    index=ind[x]\n",
    "    print(index)\n",
    "    print('feature_name[index] is ',feature_name[index])\n",
    "\n",
    "\n",
    "\n",
    "\n",
    "\n",
    "from sklearn.model_selection import cross_val_score\n",
    "fold=df['fold']\n",
    "scores = cross_val_score(gnb, initial, Y,fold,'accuracy',10)\n",
    "print('cross_val_accuracy is ',np.mean(scores)*100) \n",
    "scores = cross_val_score(gnb, initial, Y,fold,'precision',10)\n",
    "print('cross_val_precision is ',np.mean(scores)*100) \n",
    "scores = cross_val_score(gnb, initial, Y,fold,'recall',10)\n",
    "print('cross_val_recall is ',np.mean(scores)*100) "
   ]
  },
  {
   "cell_type": "markdown",
   "metadata": {},
   "source": [
    "For Naive Bayes performance improves relative to the negative class, but drops relative to the positive class with the new threshold. The most predictive feature has stayed the same, PctIlleg. This can be explained by the fact that the change in threshold is relatively small, meaning the distribution of the true and false classes was minimally changed."
   ]
  },
  {
   "cell_type": "code",
   "execution_count": 199,
   "metadata": {},
   "outputs": [
    {
     "name": "stdout",
     "output_type": "stream",
     "text": [
      "mislabel num is  433\n",
      "normalized_feature is  [ 0.33274269  0.03287805  0.57704633  0.72386798  0.04153745  0.35920958\n",
      "  0.05085409  0.14858366  0.08981515  0.07740031  0.31675301  0.0200312\n",
      "  0.5055121   0.32354202  0.10375662  0.68832887  0.12581775  0.63850066\n",
      "  0.08474548  0.52167001  0.39959873  0.24903205  0.33286641  0.12001192\n",
      "  0.18105687  0.15930465  0.29580373  0.42703688  0.57319478  0.46921976\n",
      "  0.53793289  0.35770605  0.53779681  0.35200369  0.02540681  0.1021982\n",
      "  0.31726384  0.37483834  0.57581793  0.22154289  0.65395151  0.63499371\n",
      "  0.1209443   0.77307217  0.84355664  0.7176549   0.66376979  0.040136\n",
      "  0.1738027   0.41755548  0.78979398  0.26386201  0.17174017  0.22053971\n",
      "  0.25428553  0.29914528  0.22489731  0.2422117   0.24418607  0.25292452\n",
      "  0.26491873  0.32366511  0.37324073  0.28994221  0.02975956  0.14011086\n",
      "  0.28591501  0.58523484  0.50463683  0.51953768  0.37782316  0.38253558\n",
      "  0.3232456   0.49444454  0.41492867  0.00694628  0.07560749  0.54940092\n",
      "  0.3366176   0.2224585   0.20026634  0.1799043   0.27004056  0.26678122\n",
      "  0.25976563  0.2725392   0.31659364  0.06348605  0.0036156   0.30557408\n",
      "  0.28526692  0.18802784  0.07818792  0.20897814  0.03780238  0.03793801\n",
      "  0.08299957  0.00568712  0.07997473  0.00846305  0.08778019  0.0594748\n",
      "  0.05154299  0.00572539  0.09659065  0.12639754  0.13300739  0.08331962\n",
      "  0.01847506  0.14980505  0.0849018   0.02588542  0.03252549  0.17151579\n",
      "  0.20762746  0.05273112  0.1076328   0.08065815  0.02012642  0.04079809\n",
      "  0.32180019  0.0090319 ]\n",
      "ind is  [41 17 45 46 50 15  3 44 40 43]\n",
      "10_max_normalized_feature is  [ 0.63499371  0.63850066  0.7176549   0.66376979  0.78979398  0.68832887\n",
      "  0.72386798  0.84355664  0.65395151  0.77307217]\n",
      "41\n",
      "feature_name[index] is  TotalPctDiv\n",
      "17\n",
      "feature_name[index] is  pctWPubAsst\n",
      "45\n",
      "feature_name[index] is  PctYoungKids2Par\n",
      "46\n",
      "feature_name[index] is  PctTeen2Par\n",
      "50\n",
      "feature_name[index] is  PctIlleg\n",
      "15\n",
      "feature_name[index] is  pctWInvInc\n",
      "3\n",
      "feature_name[index] is  racePctWhite\n",
      "44\n",
      "feature_name[index] is  PctKids2Par\n",
      "40\n",
      "feature_name[index] is  FemalePctDiv\n",
      "43\n",
      "feature_name[index] is  PctFam2Par\n",
      "cross_val_accuracy is  77.9804197756\n",
      "cross_val_precision is  80.3603495074\n",
      "cross_val_recall is  60.1635802469\n"
     ]
    }
   ],
   "source": [
    "df=pd.read_csv('communities-crime-full.csv')\n",
    "df\n",
    "df['highCrime'] = np.where(df['ViolentCrimesPerPop']>0.2, 1, 0)\n",
    "Y = df['highCrime']\n",
    "gnb = GaussianNB()\n",
    "y_pred = gnb.fit(New_data, Y).predict(New_data)\n",
    "\n",
    "print(\"mislabel num is \",(Y != y_pred).sum())\n",
    "\n",
    "# print ('sigma is ',gnb.sigma_)\n",
    "variance=gnb.sigma_\n",
    "stand_deviation =np.sqrt( variance)\n",
    "# print('standard deviation is',stand_deviation);\n",
    "sum_standard=stand_deviation[0]+stand_deviation[1]\n",
    "# print('sum of standard deviation is',sum_standard);\n",
    "\n",
    "# print ('theta is ',gnb.theta_)\n",
    "mean=gnb.theta_\n",
    "difference=mean[0]-mean[1]\n",
    "# print('difference is ',abs(difference))\n",
    "normalized_feature=abs(difference)/sum_standard\n",
    "print('normalized_feature is ',normalized_feature)\n",
    "\n",
    "\n",
    "ind = np.argpartition(normalized_feature, -10)[-10:]\n",
    "\n",
    "print('ind is ',ind)\n",
    "print('10_max_normalized_feature is ',normalized_feature[ind])\n",
    "\n",
    "for x in range(0, len(ind)):\n",
    "    index=ind[x]\n",
    "    print(index)\n",
    "    print('feature_name[index] is ',feature_name[index])\n",
    "\n",
    "\n",
    "fold=df['fold']\n",
    "scores = cross_val_score(gnb, New_data, Y,fold,'accuracy',10)\n",
    "print('cross_val_accuracy is ',np.mean(scores)*100) \n",
    "scores = cross_val_score(gnb, New_data, Y,fold,'precision',10)\n",
    "print('cross_val_precision is ',np.mean(scores)*100) \n",
    "scores = cross_val_score(gnb, New_data, Y,fold,'recall',10)\n",
    "print('cross_val_recall is ',np.mean(scores)*100) "
   ]
  },
  {
   "cell_type": "markdown",
   "metadata": {},
   "source": [
    "Compared with the clean dataset Naive Bayes performs quite badly, this is likely because the replacement of missing data moves the variance and mean of the two classes much closer together."
   ]
  },
  {
   "cell_type": "markdown",
   "metadata": {},
   "source": [
    "# New Threshold in LinearSVC"
   ]
  },
  {
   "cell_type": "code",
   "execution_count": 203,
   "metadata": {},
   "outputs": [
    {
     "name": "stdout",
     "output_type": "stream",
     "text": [
      "select_feature_is  racePctWhite  feature_weight_is  0.614112356594\n",
      "select_feature_is  racePctHisp  feature_weight_is  0.153482138736\n",
      "select_feature_is  pctUrban  feature_weight_is  0.00344247204978\n",
      "select_feature_is  pctWPubAsst  feature_weight_is  0.188160299684\n",
      "select_feature_is  TotalPctDiv  feature_weight_is  0.6944110073\n",
      "select_feature_is  PctKids2Par  feature_weight_is  0.603895961438\n",
      "select_feature_is  PctIlleg  feature_weight_is  0.911383833717\n",
      "select_feature_is  PctPersDenseHous  feature_weight_is  0.227670704675\n",
      "select_feature_is  PctHousOccup  feature_weight_is  0.0926189601815\n",
      "select_feature_is  PctHousNoPhone  feature_weight_is  0.062885686857\n",
      "select_feature_is  LemasSwFTFieldPerPop  feature_weight_is  0.153428115968\n",
      "cross_val_accuracy is  [ 0.785       0.845       0.8         0.815       0.85        0.72864322\n",
      "  0.84924623  0.84422111  0.77272727  0.84343434]  average  81.3327216893\n",
      "cross_val_precision is  [ 0.7375      0.94642857  0.83606557  0.89285714  0.9047619   0.74074074\n",
      "  0.8125      0.90163934  0.72151899  0.88888889]  average  83.8290115405\n",
      "cross_val_recall is  [ 0.72839506  0.65432099  0.62962963  0.61728395  0.7037037   0.5         0.8125\n",
      "  0.6875      0.7125      0.7       ]  average  67.4583333333\n"
     ]
    }
   ],
   "source": [
    "df=pd.read_csv('communities-crime-clean.csv')\n",
    "df['highCrime'] = np.where(df['ViolentCrimesPerPop']>0.2, 1, 0)\n",
    "Y = df['highCrime']\n",
    "lin_svc = svm.LinearSVC(C=0.014, penalty=\"l1\", dual=False).fit(initial, Y)\n",
    "# using L1-norm (sparsity method) to make unless feature weight become 0 , C value increase->more complex model having more weight\n",
    "feature_weight=abs(lin_svc.coef_[0])\n",
    "for i in range(0,len(feature_weight)):\n",
    "    if(feature_weight[i]!=0):\n",
    "        print('select_feature_is ',feature_name[i],' feature_weight_is ',feature_weight[i])\n",
    "\n",
    "\n",
    "\n",
    "from sklearn.model_selection import cross_val_score\n",
    "fold=df['fold']\n",
    "scores = cross_val_score(lin_svc, initial, Y,fold,'accuracy',10)\n",
    "print('cross_val_accuracy is ',scores,' average ',np.mean(scores)*100) \n",
    "scores = cross_val_score(lin_svc, initial, Y,fold,'precision',10)\n",
    "print('cross_val_precision is ',scores,' average ',np.mean(scores)*100) \n",
    "scores = cross_val_score(lin_svc, initial, Y,fold,'recall',10)\n",
    "print('cross_val_recall is ',scores,' average ',np.mean(scores)*100) "
   ]
  },
  {
   "cell_type": "markdown",
   "metadata": {},
   "source": [
    "For LinearSVC the performance drops compared with same model against the previous threshold. This model does not seem to benefit from our approach to determining a relevant threshold. Interestingly it has the same most predictive feature as the DecisionTree with the new threshold."
   ]
  },
  {
   "cell_type": "code",
   "execution_count": 204,
   "metadata": {},
   "outputs": [
    {
     "name": "stdout",
     "output_type": "stream",
     "text": [
      "select_feature_is  racePctWhite  feature_weight_is  0.616754261271\n",
      "select_feature_is  racePctHisp  feature_weight_is  0.1539511259\n",
      "select_feature_is  pctUrban  feature_weight_is  0.00335099672919\n",
      "select_feature_is  pctWPubAsst  feature_weight_is  0.189393357691\n",
      "select_feature_is  TotalPctDiv  feature_weight_is  0.695595603405\n",
      "select_feature_is  PctKids2Par  feature_weight_is  0.600583877083\n",
      "select_feature_is  PctIlleg  feature_weight_is  0.911209269573\n",
      "select_feature_is  PctPersDenseHous  feature_weight_is  0.225560742182\n",
      "select_feature_is  PctHousOccup  feature_weight_is  0.093368705894\n",
      "select_feature_is  PctHousNoPhone  feature_weight_is  0.0626665123771\n",
      "select_feature_is  LemasPctOfficDrugUn  feature_weight_is  0.153443795657\n",
      "cross_val_accuracy is  [ 0.79        0.8         0.845       0.805       0.835       0.805\n",
      "  0.84422111  0.81909548  0.87373737  0.84848485]  average  82.6553880514\n",
      "cross_val_precision is  [ 0.83050847  0.78873239  0.82894737  0.78378378  0.9         0.83870968\n",
      "  0.87692308  0.82352941  0.91044776  0.85714286]  average  84.3872480559\n",
      "cross_val_recall is  [ 0.60493827  0.69135802  0.77777778  0.71604938  0.66666667  0.64197531\n",
      "  0.7125      0.7         0.7625      0.75      ]  average  70.237654321\n"
     ]
    }
   ],
   "source": [
    "df=pd.read_csv('communities-crime-full.csv')\n",
    "df['highCrime'] = np.where(df['ViolentCrimesPerPop']>0.2, 1, 0)\n",
    "Y = df['highCrime']\n",
    "fold=df['fold']\n",
    "feature_name=list(New_data)\n",
    "lin_svc = svm.LinearSVC(C=0.014, penalty=\"l1\", dual=False).fit(New_data, Y)\n",
    "# using L1-norm (sparsity method) to make unless feature weight become 0 , C value increase->more complex model having more weight\n",
    "feature_weight=abs(lin_svc.coef_[0])\n",
    "for i in range(0,len(feature_weight)):\n",
    "    if(feature_weight[i]!=0):\n",
    "        print('select_feature_is ',feature_name[i],' feature_weight_is ',feature_weight[i])\n",
    "\n",
    "\n",
    "\n",
    "from sklearn.model_selection import cross_val_score\n",
    "fold=df['fold']\n",
    "scores = cross_val_score(lin_svc, New_data, Y,fold,'accuracy',10)\n",
    "print('cross_val_accuracy is ',scores,' average ',np.mean(scores)*100) \n",
    "scores = cross_val_score(lin_svc, New_data, Y,fold,'precision',10)\n",
    "print('cross_val_precision is ',scores,' average ',np.mean(scores)*100) \n",
    "scores = cross_val_score(lin_svc, New_data, Y,fold,'recall',10)\n",
    "print('cross_val_recall is ',scores,' average ',np.mean(scores)*100) "
   ]
  },
  {
   "cell_type": "markdown",
   "metadata": {},
   "source": [
    "Compared with the clean dataset on the new threshold the most predictive features remain constant but the additional dimensions of the features with missing data appears to improve accuracy, precision and recall but is still worse than the original threshold linear SVM on clean data."
   ]
  },
  {
   "cell_type": "markdown",
   "metadata": {},
   "source": [
    "# Extra Credit: Decision Forest"
   ]
  },
  {
   "cell_type": "markdown",
   "metadata": {},
   "source": [
    "Decision Forest using a Random Forest algorithm. Nodes are chosen from a the best split of a random subset of the features and the best of a set of random thresholds for those features."
   ]
  },
  {
   "cell_type": "code",
   "execution_count": 212,
   "metadata": {
    "collapsed": true
   },
   "outputs": [],
   "source": [
    "from sklearn.ensemble import RandomForestClassifier\n",
    "df=pd.read_csv('communities-crime-clean.csv')\n",
    "df['highCrime'] = np.where(df['ViolentCrimesPerPop']>0.1, 1, 0)\n",
    "initial=pd.read_csv('communities-crime-clean.csv')\n",
    "initial = initial.drop('communityname', 1)\n",
    "initial = initial.drop('ViolentCrimesPerPop', 1)\n",
    "initial = initial.drop('fold', 1)\n",
    "\n",
    "initial = initial.drop('state', 1)\n",
    "fold=df['fold']\n",
    "Y = df['highCrime']\n",
    "feature_name=list(initial)\n",
    "clf = RandomForestClassifier(n_estimators=10,max_features='sqrt')\n",
    "clf = clf.fit(initial, Y)\n",
    "# dot_data = tree.export_graphviz(clf, out_file=None, \n",
    "#                          feature_names=list(initial),  \n",
    "#                          class_names='highCrime',  \n",
    "#                          filled=True, rounded=True,  \n",
    "#                          special_characters=True)  \n",
    "# graph = pydotplus.graph_from_dot_data(dot_data)  \n",
    "# Image(graph.create_png())"
   ]
  },
  {
   "cell_type": "code",
   "execution_count": 216,
   "metadata": {},
   "outputs": [
    {
     "name": "stdout",
     "output_type": "stream",
     "text": [
      "feature importance is  [ 0.00336806  0.00491396  0.01238699  0.02674893  0.00337491  0.03856691\n",
      "  0.00411972  0.00708183  0.00461754  0.01074888  0.00613592  0.00182933\n",
      "  0.00391672  0.00487733  0.00895112  0.01952189  0.00575116  0.00689367\n",
      "  0.01018738  0.00493616  0.00399692  0.00752718  0.00687497  0.00327274\n",
      "  0.00300188  0.00897779  0.00695895  0.00631996  0.03405884  0.00697879\n",
      "  0.00582739  0.0034084   0.0051311   0.00874668  0.00857364  0.00521363\n",
      "  0.00789191  0.00516418  0.01413912  0.00680554  0.05179789  0.01248677\n",
      "  0.00464176  0.0675767   0.08668071  0.00851479  0.01116792  0.0052253\n",
      "  0.00600332  0.04634655  0.04988121  0.00653971  0.00756071  0.00631157\n",
      "  0.00652946  0.00713335  0.00649662  0.0033839   0.00204338  0.00518434\n",
      "  0.00422714  0.00463978  0.01008159  0.00662434  0.00318486  0.0041869\n",
      "  0.00566659  0.00509673  0.03738034  0.00717     0.0006355   0.00795624\n",
      "  0.00481612  0.02132551  0.00519539  0.00320467  0.00574201  0.00607125\n",
      "  0.01026423  0.00285569  0.00521735  0.00312597  0.00523414  0.00548082\n",
      "  0.00468501  0.00338149  0.00577543  0.00722884  0.00740814  0.00187428\n",
      "  0.00058616  0.00541836  0.00692136  0.00458545  0.00679113  0.00599276\n",
      "  0.0030062   0.00609317  0.00465275  0.00091233]\n",
      "length feature array 100\n",
      "index is  population\n",
      "index is  householdsize\n",
      "index is  racepctblack\n",
      "index is  racePctWhite\n",
      "index is  racePctAsian\n",
      "index is  racePctHisp\n",
      "index is  agePct12t21\n",
      "index is  agePct12t29\n",
      "index is  agePct16t24\n",
      "index is  agePct65up\n",
      "index is  numbUrban\n",
      "index is  pctUrban\n",
      "index is  medIncome\n",
      "index is  pctWWage\n",
      "index is  pctWFarmSelf\n",
      "index is  pctWInvInc\n",
      "index is  pctWSocSec\n",
      "index is  pctWPubAsst\n",
      "index is  pctWRetire\n",
      "index is  medFamInc\n",
      "index is  perCapInc\n",
      "index is  whitePerCap\n",
      "index is  blackPerCap\n",
      "index is  indianPerCap\n",
      "index is  AsianPerCap\n",
      "index is  OtherPerCap\n",
      "index is  HispPerCap\n",
      "index is  NumUnderPov\n",
      "index is  PctPopUnderPov\n",
      "index is  PctLess9thGrade\n",
      "index is  PctNotHSGrad\n",
      "index is  PctBSorMore\n",
      "index is  PctUnemployed\n",
      "index is  PctEmploy\n",
      "index is  PctEmplManu\n",
      "index is  PctEmplProfServ\n",
      "index is  PctOccupManu\n",
      "index is  PctOccupMgmtProf\n",
      "index is  MalePctDivorce\n",
      "index is  MalePctNevMarr\n",
      "index is  FemalePctDiv\n",
      "index is  TotalPctDiv\n",
      "index is  PersPerFam\n",
      "index is  PctFam2Par\n",
      "index is  PctKids2Par\n",
      "index is  PctYoungKids2Par\n",
      "index is  PctTeen2Par\n",
      "index is  PctWorkMomYoungKids\n",
      "index is  PctWorkMom\n",
      "index is  NumIlleg\n",
      "index is  PctIlleg\n",
      "index is  NumImmig\n",
      "index is  PctImmigRecent\n",
      "index is  PctImmigRec5\n",
      "index is  PctImmigRec8\n",
      "index is  PctImmigRec10\n",
      "index is  PctRecentImmig\n",
      "index is  PctRecImmig5\n",
      "index is  PctRecImmig8\n",
      "index is  PctRecImmig10\n",
      "index is  PctSpeakEnglOnly\n",
      "index is  PctNotSpeakEnglWell\n",
      "index is  PctLargHouseFam\n",
      "index is  PctLargHouseOccup\n",
      "index is  PersPerOccupHous\n",
      "index is  PersPerOwnOccHous\n",
      "index is  PersPerRentOccHous\n",
      "index is  PctPersOwnOccup\n",
      "index is  PctPersDenseHous\n",
      "index is  PctHousLess3BR\n",
      "index is  MedNumBR\n",
      "index is  HousVacant\n",
      "index is  PctHousOccup\n",
      "index is  PctHousOwnOcc\n",
      "index is  PctVacantBoarded\n",
      "index is  PctVacMore6Mos\n",
      "index is  MedYrHousBuilt\n",
      "index is  PctHousNoPhone\n",
      "index is  PctWOFullPlumb\n",
      "index is  OwnOccLowQuart\n",
      "index is  OwnOccMedVal\n",
      "index is  OwnOccHiQuart\n",
      "index is  RentLowQ\n",
      "index is  RentMedian\n",
      "index is  RentHighQ\n",
      "index is  MedRent\n",
      "index is  MedRentPctHousInc\n",
      "index is  MedOwnCostPctInc\n",
      "index is  MedOwnCostPctIncNoMtg\n",
      "index is  NumInShelters\n",
      "index is  NumStreet\n",
      "index is  PctForeignBorn\n",
      "index is  PctBornSameState\n",
      "index is  PctSameHouse85\n",
      "index is  PctSameCity85\n",
      "index is  PctSameState85\n",
      "index is  LandArea\n",
      "index is  PopDens\n",
      "index is  PctUsePubTrans\n",
      "index is  LemasPctOfficDrugUn\n",
      "44\n",
      "coefficient[max] is  PctKids2Par\n"
     ]
    }
   ],
   "source": [
    "y_pred = clf.predict(initial)\n",
    "feature_importance=clf.feature_importances_\n",
    "print(\"feature importance is \",feature_importance)\n",
    "print (\"length feature array\",len(feature_importance))\n",
    "for i in range (0,len(feature_importance)):\n",
    "    if(feature_importance[i]!=0):\n",
    "        print(\"index is \",feature_name[i])\n",
    "\n",
    "index_max = np.argmax(feature_importance)\n",
    "print(index_max)\n",
    "\n",
    "print('coefficient[max] is ',feature_name[index_max])"
   ]
  },
  {
   "cell_type": "code",
   "execution_count": 214,
   "metadata": {},
   "outputs": [
    {
     "name": "stdout",
     "output_type": "stream",
     "text": [
      "fl score is 99.316994777\n",
      "Accuracy is 99.1470145509\n",
      "Precesion is 99.7578692494\n",
      "Recall is 98.88\n"
     ]
    }
   ],
   "source": [
    "print ('fl score is', f1_score(Y,y_pred,average=\"binary\")*100)\n",
    "print ('Accuracy is', accuracy_score(Y,y_pred)*100)\n",
    "print ('Precesion is', precision_score(Y,y_pred)*100)\n",
    "print ('Recall is', recall_score(Y,y_pred)*100)"
   ]
  },
  {
   "cell_type": "code",
   "execution_count": 215,
   "metadata": {},
   "outputs": [
    {
     "name": "stdout",
     "output_type": "stream",
     "text": [
      "Cross validation accuracy is 78.8198492462\n",
      "Cross validation precision is 87.0202118052\n",
      "Cross validation recall is 80.72\n"
     ]
    }
   ],
   "source": [
    "scores = cross_val_score(clf,initial,Y,fold,'accuracy',10)\n",
    "print ('Cross validation accuracy is', np.mean(scores)*100)\n",
    "scores = cross_val_score(clf,initial,Y,fold,'precision',10)\n",
    "print ('Cross validation precision is', np.mean(scores)*100)\n",
    "scores = cross_val_score(clf,initial,Y,fold,'recall',10)\n",
    "print ('Cross validation recall is', np.mean(scores)*100)"
   ]
  },
  {
   "cell_type": "markdown",
   "metadata": {},
   "source": [
    "Performance is relatively consistent with that of the standard Decision Tree. The most predictive feature is the same as Decision Tree, PctKids2Par. Random Decision Forest does not seem to offer much for the increase in complexity of the model."
   ]
  }
 ],
 "metadata": {
  "kernelspec": {
   "display_name": "Python 3",
   "language": "python",
   "name": "python3"
  },
  "language_info": {
   "codemirror_mode": {
    "name": "ipython",
    "version": 3
   },
   "file_extension": ".py",
   "mimetype": "text/x-python",
   "name": "python",
   "nbconvert_exporter": "python",
   "pygments_lexer": "ipython3",
   "version": "3.7.3"
  }
 },
 "nbformat": 4,
 "nbformat_minor": 2
}
